{
 "cells": [
  {
   "cell_type": "markdown",
   
   "metadata": {},
   "source": [
    "# Predicting startup success"
   ]
  },
  {
   "cell_type": "markdown",
   "metadata": {},
   "source": [
    "The goal of this project is to predict the success of a business. Let's assume that our objective is to predict the total capital a startup will raise (if any) over 2 funding rounds, its Angel and Series A fundings. We could then utilise the outcome to predict whether the company will raise a Series A specifically.\n",
    "\n",
    "__Note__: The goal of this project is not to necessarily build the best model for predictions, as the input data is incomplete and incorrect to a great extent (for example many funding rounds were never disclosed), but to present the modelling solution we generated, the analytical process followed and the Data Science/ML techniques utilised throughout the process."
   ]
  },
  {
   "cell_type": "markdown",
   "metadata": {},
   "source": [
    "### Importing necessary modules"
   ]
  },
  {
   "cell_type": "code",
   "execution_count": 1,
   "metadata": {},
   "outputs": [],
   "source": [
    "# we need at least Python 3.5 and Scikit-Learn 0.20\n",
    "import sys\n",
    "assert sys.version_info >= (3,5)\n",
    "\n",
    "import sklearn\n",
    "assert sklearn.__version__ >= \"0.20\"\n",
    "\n",
    "import pandas as pd\n",
    "import numpy as np\n",
    "\n",
    "%matplotlib inline\n",
    "import matplotlib as mpl\n",
    "import matplotlib.pyplot as plt\n",
    "mpl.rc('axes', labelsize=15)\n",
    "mpl.rc('axes', labelpad=5.0)\n",
    "mpl.rc('xtick', labelsize=12)\n",
    "mpl.rc('ytick', labelsize=12)"
   ]
  },
  {
   "cell_type": "markdown",
   "metadata": {},
   "source": [
    "## Loading the data"
   ]
  },
  {
   "cell_type": "code",
   "execution_count": 2,
   "metadata": {},
   "outputs": [],
   "source": [
    "import tarfile\n",
    "import os\n",
    "\n",
    "DATA_PATH = os.path.join(\".\", \"it_is_happening_data\")\n",
    "\n",
    "def extract_data(data_path=DATA_PATH):\n",
    "    if not os.path.exists(\"it_is_happening_data\"):\n",
    "        os.makedirs(data_path)\n",
    "        data_tgz = tarfile.open(\"Data.tar.gz\")\n",
    "        data_tgz.extractall(data_path)\n",
    "        data_tgz.close()"
   ]
  },
  {
   "cell_type": "code",
   "execution_count": 3,
   "metadata": {},
   "outputs": [],
   "source": [
    "extract_data()"
   ]
  },
  {
   "cell_type": "code",
   "execution_count": 4,
   "metadata": {},
   "outputs": [],
   "source": [
    "datasets = ('funding_rounds.csv', 'elements.csv', \n",
    "                     'persons.csv', 'relationships.csv')\n",
    "\n",
    "def load_data(data_path=DATA_PATH):\n",
    "    csv_dict = {}\n",
    "    for csv_file in datasets:\n",
    "        print(f\"Creating DataFrame: {csv_file[:-4]}\")\n",
    "        csv_path = os.path.join(data_path, csv_file)\n",
    "        df = pd.read_csv(csv_path, error_bad_lines=False, warn_bad_lines=False)\n",
    "        csv_dict[csv_file[:-4]] = df\n",
    "    return csv_dict"
   ]
  },
  {
   "cell_type": "code",
   "execution_count": 5,
   "metadata": {},
   "outputs": [],
   "source": [
    "# turning off unnecassary warnings\n",
    "pd.options.mode.chained_assignment = None\n",
    "\n",
    "from warnings import simplefilter\n",
    "simplefilter(action=\"ignore\", category=FutureWarning)"
   ]
  },
  {
   "cell_type": "code",
   "execution_count": 6,
   "metadata": {},
   "outputs": [
    {
     "name": "stdout",
     "output_type": "stream",
     "text": [
      "Creating DataFrame: funding_rounds\n",
      "Creating DataFrame: elements\n",
      "Creating DataFrame: persons\n",
      "Creating DataFrame: relationships\n"
     ]
    }
   ],
   "source": [
    "# loading the data\n",
    "csvs = load_data()\n",
    "\n",
    "# naming DataFrames properly\n",
    "funding_rounds, elements, persons, relationships = csvs['funding_rounds'], \\\n",
    "                            csvs['elements'], csvs['persons'], csvs['relationships']"
   ]
  },
  {
   "cell_type": "markdown",
   "metadata": {},
   "source": [
    "### Taking a quick/first look at the datasets"
   ]
  },
  {
   "cell_type": "markdown",
   "metadata": {},
   "source": [
    "__Dataset__: `funding_rounds`"
   ]
  },
  {
   "cell_type": "code",
   "execution_count": 7,
   "metadata": {},
   "outputs": [
    {
     "name": "stdout",
     "output_type": "stream",
     "text": [
      "<class 'pandas.core.frame.DataFrame'>\n",
      "RangeIndex: 52920 entries, 0 to 52919\n",
      "Data columns (total 23 columns):\n",
      " #   Column                    Non-Null Count  Dtype \n",
      "---  ------                    --------------  ----- \n",
      " 0   id                        52920 non-null  int64 \n",
      " 1   funding_round_id          52920 non-null  int64 \n",
      " 2   object_id                 52920 non-null  object\n",
      " 3   funded_at                 52920 non-null  object\n",
      " 4   funding_round_type        52920 non-null  object\n",
      " 5   funding_round_code        52920 non-null  object\n",
      " 6   raised_amount_usd         52920 non-null  object\n",
      " 7   raised_amount             52920 non-null  object\n",
      " 8   raised_currency_code      52920 non-null  object\n",
      " 9   pre_money_valuation_usd   52920 non-null  object\n",
      " 10  pre_money_valuation       52920 non-null  object\n",
      " 11  pre_money_currency_code   52920 non-null  object\n",
      " 12  post_money_valuation_usd  52920 non-null  object\n",
      " 13  post_money_valuation      52920 non-null  object\n",
      " 14  post_money_currency_code  52920 non-null  object\n",
      " 15  participants              52920 non-null  int64 \n",
      " 16  is_first_round            52920 non-null  int64 \n",
      " 17  is_last_round             52920 non-null  int64 \n",
      " 18  source_url                52920 non-null  object\n",
      " 19  source_description        52916 non-null  object\n",
      " 20  created_by                52920 non-null  object\n",
      " 21  created_at                52920 non-null  object\n",
      " 22  updated_at                52920 non-null  object\n",
      "dtypes: int64(5), object(18)\n",
      "memory usage: 9.3+ MB\n",
      "None \n",
      "\n",
      "Most common raised sums\n",
      "\n",
      "\\N          5998\n",
      "1000000     1549\n",
      "5000000     1214\n",
      "2000000     1173\n",
      "10000000    1159\n",
      "Name: raised_amount_usd, dtype: int64 \n",
      "\n",
      "A look at important features\n",
      "\n"
     ]
    },
    {
     "data": {
      "text/html": [
       "<div>\n",
       "<style scoped>\n",
       "    .dataframe tbody tr th:only-of-type {\n",
       "        vertical-align: middle;\n",
       "    }\n",
       "\n",
       "    .dataframe tbody tr th {\n",
       "        vertical-align: top;\n",
       "    }\n",
       "\n",
       "    .dataframe thead th {\n",
       "        text-align: right;\n",
       "    }\n",
       "</style>\n",
       "<table border=\"1\" class=\"dataframe\">\n",
       "  <thead>\n",
       "    <tr style=\"text-align: right;\">\n",
       "      <th></th>\n",
       "      <th>funding_round_type</th>\n",
       "      <th>funding_round_code</th>\n",
       "      <th>raised_amount_usd</th>\n",
       "    </tr>\n",
       "  </thead>\n",
       "  <tbody>\n",
       "    <tr>\n",
       "      <th>0</th>\n",
       "      <td>series-b</td>\n",
       "      <td>b</td>\n",
       "      <td>8500000</td>\n",
       "    </tr>\n",
       "    <tr>\n",
       "      <th>1</th>\n",
       "      <td>angel</td>\n",
       "      <td>angel</td>\n",
       "      <td>500000</td>\n",
       "    </tr>\n",
       "    <tr>\n",
       "      <th>2</th>\n",
       "      <td>series-a</td>\n",
       "      <td>a</td>\n",
       "      <td>12700000</td>\n",
       "    </tr>\n",
       "    <tr>\n",
       "      <th>3</th>\n",
       "      <td>series-b</td>\n",
       "      <td>b</td>\n",
       "      <td>27500000</td>\n",
       "    </tr>\n",
       "    <tr>\n",
       "      <th>4</th>\n",
       "      <td>series-b</td>\n",
       "      <td>b</td>\n",
       "      <td>10500000</td>\n",
       "    </tr>\n",
       "    <tr>\n",
       "      <th>...</th>\n",
       "      <td>...</td>\n",
       "      <td>...</td>\n",
       "      <td>...</td>\n",
       "    </tr>\n",
       "    <tr>\n",
       "      <th>52915</th>\n",
       "      <td>series-a</td>\n",
       "      <td>a</td>\n",
       "      <td>3000000</td>\n",
       "    </tr>\n",
       "    <tr>\n",
       "      <th>52916</th>\n",
       "      <td>venture</td>\n",
       "      <td>partial</td>\n",
       "      <td>570000</td>\n",
       "    </tr>\n",
       "    <tr>\n",
       "      <th>52917</th>\n",
       "      <td>venture</td>\n",
       "      <td>unattributed</td>\n",
       "      <td>2184100</td>\n",
       "    </tr>\n",
       "    <tr>\n",
       "      <th>52918</th>\n",
       "      <td>series-a</td>\n",
       "      <td>a</td>\n",
       "      <td>790783</td>\n",
       "    </tr>\n",
       "    <tr>\n",
       "      <th>52919</th>\n",
       "      <td>venture</td>\n",
       "      <td>partial</td>\n",
       "      <td>271250</td>\n",
       "    </tr>\n",
       "  </tbody>\n",
       "</table>\n",
       "<p>52920 rows × 3 columns</p>\n",
       "</div>"
      ],
      "text/plain": [
       "      funding_round_type funding_round_code raised_amount_usd\n",
       "0               series-b                  b           8500000\n",
       "1                  angel              angel            500000\n",
       "2               series-a                  a          12700000\n",
       "3               series-b                  b          27500000\n",
       "4               series-b                  b          10500000\n",
       "...                  ...                ...               ...\n",
       "52915           series-a                  a           3000000\n",
       "52916            venture            partial            570000\n",
       "52917            venture       unattributed           2184100\n",
       "52918           series-a                  a            790783\n",
       "52919            venture            partial            271250\n",
       "\n",
       "[52920 rows x 3 columns]"
      ]
     },
     "execution_count": 7,
     "metadata": {},
     "output_type": "execute_result"
    }
   ],
   "source": [
    "print(funding_rounds.info(), \"\\n\")\n",
    "\n",
    "# checking the top counts of values of the raised_amount_usd feature\n",
    "print(f\"Most common raised sums\\n\")\n",
    "print(funding_rounds['raised_amount_usd'].value_counts().head(), \"\\n\")\n",
    "\n",
    "# taking a look at critical features\n",
    "print(f\"A look at important features\\n\")\n",
    "funding_rounds[['funding_round_type', 'funding_round_code', 'raised_amount_usd']]"
   ]
  },
  {
   "cell_type": "markdown",
   "metadata": {},
   "source": [
    "<ins>__Dataset__</ins>: `elements`"
   ]
  },
  {
   "cell_type": "code",
   "execution_count": 8,
   "metadata": {},
   "outputs": [
    {
     "name": "stdout",
     "output_type": "stream",
     "text": [
      "<class 'pandas.core.frame.DataFrame'>\n",
      "RangeIndex: 538171 entries, 0 to 538170\n",
      "Data columns (total 40 columns):\n",
      " #   Column               Non-Null Count   Dtype \n",
      "---  ------               --------------   ----- \n",
      " 0   id                   538171 non-null  object\n",
      " 1   entity_type          478831 non-null  object\n",
      " 2   entity_id            475564 non-null  object\n",
      " 3   parent_id            473190 non-null  object\n",
      " 4   name                 471660 non-null  object\n",
      " 5   normalized_name      470661 non-null  object\n",
      " 6   permalink            469988 non-null  object\n",
      " 7   category_code        469449 non-null  object\n",
      " 8   status               469118 non-null  object\n",
      " 9   founded_at           468876 non-null  object\n",
      " 10  closed_at            468720 non-null  object\n",
      " 11  domain               468618 non-null  object\n",
      " 12  homepage_url         468540 non-null  object\n",
      " 13  twitter_username     468472 non-null  object\n",
      " 14  logo_url             468431 non-null  object\n",
      " 15  logo_width           468397 non-null  object\n",
      " 16  logo_height          467746 non-null  object\n",
      " 17  short_description    467716 non-null  object\n",
      " 18  description          434387 non-null  object\n",
      " 19  overview             449995 non-null  object\n",
      " 20  tag_list             381197 non-null  object\n",
      " 21  country_code         460111 non-null  object\n",
      " 22  state_code           457772 non-null  object\n",
      " 23  city                 456047 non-null  object\n",
      " 24  region               454854 non-null  object\n",
      " 25  first_investment_at  454044 non-null  object\n",
      " 26  last_investment_at   453489 non-null  object\n",
      " 27  investment_rounds    453090 non-null  object\n",
      " 28  invested_companies   452829 non-null  object\n",
      " 29  first_funding_at     452600 non-null  object\n",
      " 30  last_funding_at      452442 non-null  object\n",
      " 31  funding_rounds       452340 non-null  object\n",
      " 32  funding_total_usd    452246 non-null  object\n",
      " 33  first_milestone_at   452201 non-null  object\n",
      " 34  last_milestone_at    452158 non-null  object\n",
      " 35  milestones           452115 non-null  object\n",
      " 36  relationships        452088 non-null  object\n",
      " 37  created_by           452066 non-null  object\n",
      " 38  created_at           452040 non-null  object\n",
      " 39  updated_at           452024 non-null  object\n",
      "dtypes: object(40)\n",
      "memory usage: 164.2+ MB\n",
      "None\n"
     ]
    },
    {
     "data": {
      "text/html": [
       "<div>\n",
       "<style scoped>\n",
       "    .dataframe tbody tr th:only-of-type {\n",
       "        vertical-align: middle;\n",
       "    }\n",
       "\n",
       "    .dataframe tbody tr th {\n",
       "        vertical-align: top;\n",
       "    }\n",
       "\n",
       "    .dataframe thead th {\n",
       "        text-align: right;\n",
       "    }\n",
       "</style>\n",
       "<table border=\"1\" class=\"dataframe\">\n",
       "  <thead>\n",
       "    <tr style=\"text-align: right;\">\n",
       "      <th></th>\n",
       "      <th>id</th>\n",
       "      <th>entity_type</th>\n",
       "      <th>entity_id</th>\n",
       "      <th>parent_id</th>\n",
       "      <th>name</th>\n",
       "      <th>normalized_name</th>\n",
       "      <th>permalink</th>\n",
       "      <th>category_code</th>\n",
       "      <th>status</th>\n",
       "      <th>founded_at</th>\n",
       "      <th>...</th>\n",
       "      <th>last_funding_at</th>\n",
       "      <th>funding_rounds</th>\n",
       "      <th>funding_total_usd</th>\n",
       "      <th>first_milestone_at</th>\n",
       "      <th>last_milestone_at</th>\n",
       "      <th>milestones</th>\n",
       "      <th>relationships</th>\n",
       "      <th>created_by</th>\n",
       "      <th>created_at</th>\n",
       "      <th>updated_at</th>\n",
       "    </tr>\n",
       "  </thead>\n",
       "  <tbody>\n",
       "    <tr>\n",
       "      <th>0</th>\n",
       "      <td>c:1</td>\n",
       "      <td>Company</td>\n",
       "      <td>1</td>\n",
       "      <td>\\N</td>\n",
       "      <td>Wetpaint</td>\n",
       "      <td>wetpaint</td>\n",
       "      <td>/company/wetpaint</td>\n",
       "      <td>web</td>\n",
       "      <td>operating</td>\n",
       "      <td>2005-10-17</td>\n",
       "      <td>...</td>\n",
       "      <td>2008-05-19</td>\n",
       "      <td>3</td>\n",
       "      <td>39750000</td>\n",
       "      <td>2010-09-05</td>\n",
       "      <td>2013-09-18</td>\n",
       "      <td>5</td>\n",
       "      <td>17</td>\n",
       "      <td>initial-importer</td>\n",
       "      <td>2007-05-25 06:51:27</td>\n",
       "      <td>2013-04-13 03:29:00</td>\n",
       "    </tr>\n",
       "    <tr>\n",
       "      <th>1</th>\n",
       "      <td>c:10</td>\n",
       "      <td>Company</td>\n",
       "      <td>10</td>\n",
       "      <td>\\N</td>\n",
       "      <td>Flektor</td>\n",
       "      <td>flektor</td>\n",
       "      <td>/company/flektor</td>\n",
       "      <td>games_video</td>\n",
       "      <td>acquired</td>\n",
       "      <td>\\N</td>\n",
       "      <td>...</td>\n",
       "      <td>\\N</td>\n",
       "      <td>\\N</td>\n",
       "      <td>\\N</td>\n",
       "      <td>\\N</td>\n",
       "      <td>\\N</td>\n",
       "      <td>\\N</td>\n",
       "      <td>6</td>\n",
       "      <td>initial-importer</td>\n",
       "      <td>2007-05-31 21:11:51</td>\n",
       "      <td>2008-05-23 23:23:14</td>\n",
       "    </tr>\n",
       "    <tr>\n",
       "      <th>2</th>\n",
       "      <td>c:100</td>\n",
       "      <td>Company</td>\n",
       "      <td>100</td>\n",
       "      <td>\\N</td>\n",
       "      <td>There</td>\n",
       "      <td>there</td>\n",
       "      <td>/company/there</td>\n",
       "      <td>games_video</td>\n",
       "      <td>acquired</td>\n",
       "      <td>\\N</td>\n",
       "      <td>...</td>\n",
       "      <td>\\N</td>\n",
       "      <td>\\N</td>\n",
       "      <td>\\N</td>\n",
       "      <td>2003-02-01</td>\n",
       "      <td>2011-09-23</td>\n",
       "      <td>4</td>\n",
       "      <td>12</td>\n",
       "      <td>initial-importer</td>\n",
       "      <td>2007-08-06 23:52:45</td>\n",
       "      <td>2013-11-04 02:09:48</td>\n",
       "    </tr>\n",
       "    <tr>\n",
       "      <th>3</th>\n",
       "      <td>c:10000</td>\n",
       "      <td>Company</td>\n",
       "      <td>10000</td>\n",
       "      <td>\\N</td>\n",
       "      <td>MYWEBBO</td>\n",
       "      <td>mywebbo</td>\n",
       "      <td>/company/mywebbo</td>\n",
       "      <td>network_hosting</td>\n",
       "      <td>operating</td>\n",
       "      <td>2008-07-26</td>\n",
       "      <td>...</td>\n",
       "      <td>\\N</td>\n",
       "      <td>\\N</td>\n",
       "      <td>\\N</td>\n",
       "      <td>\\N</td>\n",
       "      <td>\\N</td>\n",
       "      <td>\\N</td>\n",
       "      <td>\\N</td>\n",
       "      <td>\\N</td>\n",
       "      <td>2008-08-24 16:51:57</td>\n",
       "      <td>2008-09-06 14:19:18</td>\n",
       "    </tr>\n",
       "    <tr>\n",
       "      <th>4</th>\n",
       "      <td>c:10001</td>\n",
       "      <td>Company</td>\n",
       "      <td>10001</td>\n",
       "      <td>\\N</td>\n",
       "      <td>THE Movie Streamer</td>\n",
       "      <td>the movie streamer</td>\n",
       "      <td>/company/the-movie-streamer</td>\n",
       "      <td>games_video</td>\n",
       "      <td>operating</td>\n",
       "      <td>2008-07-26</td>\n",
       "      <td>...</td>\n",
       "      <td>\\N</td>\n",
       "      <td>\\N</td>\n",
       "      <td>\\N</td>\n",
       "      <td>\\N</td>\n",
       "      <td>\\N</td>\n",
       "      <td>\\N</td>\n",
       "      <td>\\N</td>\n",
       "      <td>\\N</td>\n",
       "      <td>2008-08-24 17:10:34</td>\n",
       "      <td>2008-09-06 14:19:18</td>\n",
       "    </tr>\n",
       "  </tbody>\n",
       "</table>\n",
       "<p>5 rows × 40 columns</p>\n",
       "</div>"
      ],
      "text/plain": [
       "        id entity_type entity_id parent_id                name  \\\n",
       "0      c:1     Company         1        \\N            Wetpaint   \n",
       "1     c:10     Company        10        \\N             Flektor   \n",
       "2    c:100     Company       100        \\N               There   \n",
       "3  c:10000     Company     10000        \\N             MYWEBBO   \n",
       "4  c:10001     Company     10001        \\N  THE Movie Streamer   \n",
       "\n",
       "      normalized_name                    permalink    category_code  \\\n",
       "0            wetpaint            /company/wetpaint              web   \n",
       "1             flektor             /company/flektor      games_video   \n",
       "2               there               /company/there      games_video   \n",
       "3             mywebbo             /company/mywebbo  network_hosting   \n",
       "4  the movie streamer  /company/the-movie-streamer      games_video   \n",
       "\n",
       "      status  founded_at  ... last_funding_at funding_rounds  \\\n",
       "0  operating  2005-10-17  ...      2008-05-19              3   \n",
       "1   acquired          \\N  ...              \\N             \\N   \n",
       "2   acquired          \\N  ...              \\N             \\N   \n",
       "3  operating  2008-07-26  ...              \\N             \\N   \n",
       "4  operating  2008-07-26  ...              \\N             \\N   \n",
       "\n",
       "  funding_total_usd first_milestone_at last_milestone_at milestones  \\\n",
       "0          39750000         2010-09-05        2013-09-18          5   \n",
       "1                \\N                 \\N                \\N         \\N   \n",
       "2                \\N         2003-02-01        2011-09-23          4   \n",
       "3                \\N                 \\N                \\N         \\N   \n",
       "4                \\N                 \\N                \\N         \\N   \n",
       "\n",
       "  relationships        created_by           created_at           updated_at  \n",
       "0            17  initial-importer  2007-05-25 06:51:27  2013-04-13 03:29:00  \n",
       "1             6  initial-importer  2007-05-31 21:11:51  2008-05-23 23:23:14  \n",
       "2            12  initial-importer  2007-08-06 23:52:45  2013-11-04 02:09:48  \n",
       "3            \\N                \\N  2008-08-24 16:51:57  2008-09-06 14:19:18  \n",
       "4            \\N                \\N  2008-08-24 17:10:34  2008-09-06 14:19:18  \n",
       "\n",
       "[5 rows x 40 columns]"
      ]
     },
     "execution_count": 8,
     "metadata": {},
     "output_type": "execute_result"
    }
   ],
   "source": [
    "print(elements.info())\n",
    "elements.head()"
   ]
  },
  {
   "cell_type": "markdown",
   "metadata": {},
   "source": [
    "We will check for __startup-related information__ in the `entity_type` column (we're assuming that the word 'start' refers to startups in most cases and want to check if that's true)."
   ]
  },
  {
   "cell_type": "code",
   "execution_count": 9,
   "metadata": {},
   "outputs": [
    {
     "name": "stdout",
     "output_type": "stream",
     "text": [
      "Number of rows containing (or not) possible startup-related information (column: 'entity_type')\n",
      "\n",
      "False    15870\n",
      "True       322\n",
      "dtype: int64 \n",
      "\n",
      "Actual 'True' cases\n",
      "\n",
      "312      you can start populating your Virsona with yo...\n",
      "2613     a web services start up . Available at www.sa...\n",
      "3026     site management and traffic analysis software...\n",
      "3848     2011 in one of the first projects of the proj...\n",
      "4647                         a recently launched startup.\n",
      "Name: entity_type, dtype: object\n"
     ]
    }
   ],
   "source": [
    "print(f\"Number of rows containing (or not) possible startup-related information (column: 'entity_type')\\n\")\n",
    "print(pd.Series(elements['entity_type'].value_counts().keys().str.contains('start',case=False)).value_counts(),\"\\n\")\n",
    "\n",
    "# viewing some relevant cases\n",
    "print(f\"Actual 'True' cases\\n\")\n",
    "elements['t1'] = pd.Series(elements['entity_type'].str.contains('start',case=False))\n",
    "print(elements.loc[elements['t1'] == True]['entity_type'].head())\n",
    "elements.drop('t1',axis=1,inplace=True)"
   ]
  },
  {
   "cell_type": "code",
   "execution_count": 10,
   "metadata": {},
   "outputs": [
    {
     "data": {
      "text/plain": [
       "\\N                                336300\n",
       "NaN                               103784\n",
       "1                                    597\n",
       "private equity                       356\n",
       "Venture Capital Firm                 354\n",
       "                                   ...  \n",
       "Social TV                              3\n",
       "In-Game Advertising                    3\n",
       "Digital Ad Agency                      3\n",
       "manufacturers and suppliers            3\n",
       "Mobile advertising marketplace         3\n",
       "Name: description, Length: 1366, dtype: int64"
      ]
     },
     "execution_count": 10,
     "metadata": {},
     "output_type": "execute_result"
    }
   ],
   "source": [
    "# counts of values greater than 2 for the 'description' feature (NaNs included)\n",
    "elements['description'].value_counts(dropna=False).loc[lambda x: x>2]"
   ]
  },
  {
   "cell_type": "code",
   "execution_count": 11,
   "metadata": {},
   "outputs": [
    {
     "name": "stdout",
     "output_type": "stream",
     "text": [
      "Some rows from location-related features\n",
      "\n",
      "  country_code state_code         city       region\n",
      "0          USA         WA      Seattle      Seattle\n",
      "1          USA         CA  Culver City  Los Angeles\n",
      "2          USA         CA    San Mateo       SF Bay\n",
      "3           \\N         \\N           \\N      unknown\n",
      "4           \\N         \\N           \\N      unknown\n",
      "5          MAR         \\N       Agadir       Agadir\n",
      "6          IND         \\N     Vadodara     Vadodara \n",
      "\n",
      "Incorrect entries of geographical data (from the 'country_code' and 'state_code' features)\n",
      "\n",
      " and an non-intrusive media vehicle for advertisers.                                                                                                                                                                                                                                                                                                 1\n",
      " Search Appliances                                                                                                                                                                                                                                                                                                                                   1\n",
      " Kevin worked at Affinity Circles                                                                                                                                                                                                                                                                                                                    1\n",
      "2009-01-30 00:00:18                                                                                                                                                                                                                                                                                                                                  1\n",
      " also New York Times bestsellers. The Puzzle Palace was the first book ever written about the NSA. Following its release Bamford spent nearly a decade as the Washington Investigative Producer for ABC's World News Tonight with Peter Jennings where he won a number of journalism awards for his coverage of national security issues. In 2005    1\n",
      "Name: country_code, dtype: int64 \n",
      "\n",
      "prasant2013                                                                                                    1\n",
      "2013-07-29 09:57:06                                                                                            1\n",
      " with just $7                                                                                                  1\n",
      " because Videohybrid pulls videos from other video sites and allows users to upload illegal video content.     1\n",
      "terrigriffith                                                                                                  1\n",
      "Name: state_code, dtype: int64\n"
     ]
    }
   ],
   "source": [
    "# some rows from location-related features\n",
    "print(f\"Some rows from location-related features\\n\")\n",
    "print(elements[['country_code', 'state_code', 'city', 'region']].head(7), \"\\n\")\n",
    "\n",
    "# incorrect entries of geographical data\n",
    "print(f\"Incorrect entries of geographical data (from the 'country_code' and 'state_code' features)\\n\")\n",
    "print(elements['country_code'].value_counts().tail(),\"\\n\")\n",
    "print(elements['state_code'].value_counts().tail())"
   ]
  },
  {
   "cell_type": "markdown",
   "metadata": {},
   "source": [
    "__Note__: As we can see in the previous cell, the geographical features (among many others) are not clean. We will tackle this issue later."
   ]
  },
  {
   "cell_type": "markdown",
   "metadata": {},
   "source": [
    "<ins>__Dataset__</ins>: `persons`"
   ]
  },
  {
   "cell_type": "code",
   "execution_count": 12,
   "metadata": {},
   "outputs": [
    {
     "name": "stdout",
     "output_type": "stream",
     "text": [
      "Dataset size:  226706\n"
     ]
    },
    {
     "data": {
      "text/html": [
       "<div>\n",
       "<style scoped>\n",
       "    .dataframe tbody tr th:only-of-type {\n",
       "        vertical-align: middle;\n",
       "    }\n",
       "\n",
       "    .dataframe tbody tr th {\n",
       "        vertical-align: top;\n",
       "    }\n",
       "\n",
       "    .dataframe thead th {\n",
       "        text-align: right;\n",
       "    }\n",
       "</style>\n",
       "<table border=\"1\" class=\"dataframe\">\n",
       "  <thead>\n",
       "    <tr style=\"text-align: right;\">\n",
       "      <th></th>\n",
       "      <th>id</th>\n",
       "      <th>object_id</th>\n",
       "      <th>first_name</th>\n",
       "      <th>last_name</th>\n",
       "      <th>birthplace</th>\n",
       "      <th>affiliation_name</th>\n",
       "    </tr>\n",
       "  </thead>\n",
       "  <tbody>\n",
       "    <tr>\n",
       "      <th>0</th>\n",
       "      <td>1</td>\n",
       "      <td>p:2</td>\n",
       "      <td>Ben</td>\n",
       "      <td>Elowitz</td>\n",
       "      <td>\\N</td>\n",
       "      <td>Blue Nile</td>\n",
       "    </tr>\n",
       "    <tr>\n",
       "      <th>1</th>\n",
       "      <td>2</td>\n",
       "      <td>p:3</td>\n",
       "      <td>Kevin</td>\n",
       "      <td>Flaherty</td>\n",
       "      <td>\\N</td>\n",
       "      <td>Wetpaint</td>\n",
       "    </tr>\n",
       "    <tr>\n",
       "      <th>2</th>\n",
       "      <td>3</td>\n",
       "      <td>p:4</td>\n",
       "      <td>Raju</td>\n",
       "      <td>Vegesna</td>\n",
       "      <td>\\N</td>\n",
       "      <td>Zoho</td>\n",
       "    </tr>\n",
       "    <tr>\n",
       "      <th>3</th>\n",
       "      <td>4</td>\n",
       "      <td>p:5</td>\n",
       "      <td>Ian</td>\n",
       "      <td>Wenig</td>\n",
       "      <td>\\N</td>\n",
       "      <td>Zoho</td>\n",
       "    </tr>\n",
       "    <tr>\n",
       "      <th>4</th>\n",
       "      <td>5</td>\n",
       "      <td>p:6</td>\n",
       "      <td>Kevin</td>\n",
       "      <td>Rose</td>\n",
       "      <td>Redding, CA</td>\n",
       "      <td>i/o Ventures</td>\n",
       "    </tr>\n",
       "  </tbody>\n",
       "</table>\n",
       "</div>"
      ],
      "text/plain": [
       "   id object_id first_name last_name   birthplace affiliation_name\n",
       "0   1       p:2        Ben   Elowitz           \\N        Blue Nile\n",
       "1   2       p:3      Kevin  Flaherty           \\N         Wetpaint\n",
       "2   3       p:4       Raju   Vegesna           \\N             Zoho\n",
       "3   4       p:5        Ian     Wenig           \\N             Zoho\n",
       "4   5       p:6      Kevin      Rose  Redding, CA     i/o Ventures"
      ]
     },
     "execution_count": 12,
     "metadata": {},
     "output_type": "execute_result"
    }
   ],
   "source": [
    "print(\"Dataset size: \", len(persons))\n",
    "persons.head()"
   ]
  },
  {
   "cell_type": "markdown",
   "metadata": {},
   "source": [
    "<ins>__Dataset__</ins>: `relationships`"
   ]
  },
  {
   "cell_type": "code",
   "execution_count": 13,
   "metadata": {},
   "outputs": [
    {
     "name": "stdout",
     "output_type": "stream",
     "text": [
      "Dataset size:  402875 \n",
      "\n",
      "Initial column headers:\n",
      "[\"'id'\" \"'relationship_id'\" \"'person_object_id'\"\n",
      " \"'relationship_object_id'\" \"'start_at'\" \"'end_at'\" \"'is_past'\"\n",
      " \"'sequence'\" \"'title'\" \"'created_at'\" \"'updated_at'\"]\n",
      "\n"
     ]
    },
    {
     "data": {
      "text/html": [
       "<div>\n",
       "<style scoped>\n",
       "    .dataframe tbody tr th:only-of-type {\n",
       "        vertical-align: middle;\n",
       "    }\n",
       "\n",
       "    .dataframe tbody tr th {\n",
       "        vertical-align: top;\n",
       "    }\n",
       "\n",
       "    .dataframe thead th {\n",
       "        text-align: right;\n",
       "    }\n",
       "</style>\n",
       "<table border=\"1\" class=\"dataframe\">\n",
       "  <thead>\n",
       "    <tr style=\"text-align: right;\">\n",
       "      <th></th>\n",
       "      <th>id</th>\n",
       "      <th>relationship_id</th>\n",
       "      <th>person_object_id</th>\n",
       "      <th>relationship_object_id</th>\n",
       "      <th>start_at</th>\n",
       "      <th>end_at</th>\n",
       "      <th>is_past</th>\n",
       "      <th>sequence</th>\n",
       "      <th>title</th>\n",
       "      <th>created_at</th>\n",
       "      <th>updated_at</th>\n",
       "    </tr>\n",
       "  </thead>\n",
       "  <tbody>\n",
       "    <tr>\n",
       "      <th>0</th>\n",
       "      <td>1</td>\n",
       "      <td>1</td>\n",
       "      <td>p:2</td>\n",
       "      <td>c:1</td>\n",
       "      <td>\\N</td>\n",
       "      <td>\\N</td>\n",
       "      <td>0</td>\n",
       "      <td>8</td>\n",
       "      <td>Co-Founder/CEO/Board of Directors</td>\n",
       "      <td>2007-05-25 07:03:54</td>\n",
       "      <td>2013-06-03 09:58:46</td>\n",
       "    </tr>\n",
       "    <tr>\n",
       "      <th>1</th>\n",
       "      <td>2</td>\n",
       "      <td>2</td>\n",
       "      <td>p:3</td>\n",
       "      <td>c:1</td>\n",
       "      <td>\\N</td>\n",
       "      <td>\\N</td>\n",
       "      <td>1</td>\n",
       "      <td>279242</td>\n",
       "      <td>VP Marketing</td>\n",
       "      <td>2007-05-25 07:04:16</td>\n",
       "      <td>2010-05-21 16:31:34</td>\n",
       "    </tr>\n",
       "    <tr>\n",
       "      <th>2</th>\n",
       "      <td>3</td>\n",
       "      <td>3</td>\n",
       "      <td>p:4</td>\n",
       "      <td>c:3</td>\n",
       "      <td>\\N</td>\n",
       "      <td>\\N</td>\n",
       "      <td>0</td>\n",
       "      <td>4</td>\n",
       "      <td>Evangelist</td>\n",
       "      <td>2007-05-25 19:33:03</td>\n",
       "      <td>2013-06-29 13:36:58</td>\n",
       "    </tr>\n",
       "    <tr>\n",
       "      <th>3</th>\n",
       "      <td>4</td>\n",
       "      <td>4</td>\n",
       "      <td>p:5</td>\n",
       "      <td>c:3</td>\n",
       "      <td>2006-03-01</td>\n",
       "      <td>2009-12-01</td>\n",
       "      <td>1</td>\n",
       "      <td>4</td>\n",
       "      <td>Senior Director Strategic Alliances</td>\n",
       "      <td>2007-05-25 19:34:53</td>\n",
       "      <td>2013-06-29 10:25:34</td>\n",
       "    </tr>\n",
       "    <tr>\n",
       "      <th>4</th>\n",
       "      <td>6</td>\n",
       "      <td>6</td>\n",
       "      <td>p:7</td>\n",
       "      <td>c:4</td>\n",
       "      <td>2005-07-01</td>\n",
       "      <td>2010-04-05</td>\n",
       "      <td>1</td>\n",
       "      <td>1</td>\n",
       "      <td>Chief Executive Officer</td>\n",
       "      <td>2007-05-25 20:05:33</td>\n",
       "      <td>2010-04-05 18:41:41</td>\n",
       "    </tr>\n",
       "  </tbody>\n",
       "</table>\n",
       "</div>"
      ],
      "text/plain": [
       "   id  relationship_id person_object_id relationship_object_id    start_at  \\\n",
       "0   1                1              p:2                    c:1          \\N   \n",
       "1   2                2              p:3                    c:1          \\N   \n",
       "2   3                3              p:4                    c:3          \\N   \n",
       "3   4                4              p:5                    c:3  2006-03-01   \n",
       "4   6                6              p:7                    c:4  2005-07-01   \n",
       "\n",
       "       end_at  is_past  sequence                                title  \\\n",
       "0          \\N        0         8    Co-Founder/CEO/Board of Directors   \n",
       "1          \\N        1    279242                         VP Marketing   \n",
       "2          \\N        0         4                           Evangelist   \n",
       "3  2009-12-01        1         4  Senior Director Strategic Alliances   \n",
       "4  2010-04-05        1         1              Chief Executive Officer   \n",
       "\n",
       "            created_at           updated_at  \n",
       "0  2007-05-25 07:03:54  2013-06-03 09:58:46  \n",
       "1  2007-05-25 07:04:16  2010-05-21 16:31:34  \n",
       "2  2007-05-25 19:33:03  2013-06-29 13:36:58  \n",
       "3  2007-05-25 19:34:53  2013-06-29 10:25:34  \n",
       "4  2007-05-25 20:05:33  2010-04-05 18:41:41  "
      ]
     },
     "execution_count": 13,
     "metadata": {},
     "output_type": "execute_result"
    }
   ],
   "source": [
    "print(\"Dataset size: \", len(relationships), \"\\n\")\n",
    "print(f\"Initial column headers:\\n{relationships.columns.values}\\n\")\n",
    "\n",
    "# fixing the column names\n",
    "relationships.columns = [i.replace(\"'\",\"\") for i in relationships.columns]\n",
    "relationships.head()"
   ]
  },
  {
   "cell_type": "code",
   "execution_count": 14,
   "metadata": {},
   "outputs": [
    {
     "name": "stdout",
     "output_type": "stream",
     "text": [
      "Most relationships (top-5)\n",
      "\n",
      "c:1242    1178\n",
      "c:59      1044\n",
      "c:29       979\n",
      "c:3246     864\n",
      "c:4715     660\n",
      "Name: relationship_object_id, dtype: int64 \n",
      "\n",
      "Relationships of a random company\n"
     ]
    },
    {
     "data": {
      "text/html": [
       "<div>\n",
       "<style scoped>\n",
       "    .dataframe tbody tr th:only-of-type {\n",
       "        vertical-align: middle;\n",
       "    }\n",
       "\n",
       "    .dataframe tbody tr th {\n",
       "        vertical-align: top;\n",
       "    }\n",
       "\n",
       "    .dataframe thead th {\n",
       "        text-align: right;\n",
       "    }\n",
       "</style>\n",
       "<table border=\"1\" class=\"dataframe\">\n",
       "  <thead>\n",
       "    <tr style=\"text-align: right;\">\n",
       "      <th></th>\n",
       "      <th>id</th>\n",
       "      <th>relationship_id</th>\n",
       "      <th>person_object_id</th>\n",
       "      <th>relationship_object_id</th>\n",
       "      <th>start_at</th>\n",
       "      <th>end_at</th>\n",
       "      <th>is_past</th>\n",
       "      <th>sequence</th>\n",
       "      <th>title</th>\n",
       "      <th>created_at</th>\n",
       "      <th>updated_at</th>\n",
       "    </tr>\n",
       "  </thead>\n",
       "  <tbody>\n",
       "    <tr>\n",
       "      <th>8755</th>\n",
       "      <td>11367</td>\n",
       "      <td>11367</td>\n",
       "      <td>p:2</td>\n",
       "      <td>c:233024</td>\n",
       "      <td>\\N</td>\n",
       "      <td>\\N</td>\n",
       "      <td>1</td>\n",
       "      <td>2</td>\n",
       "      <td>Business Development</td>\n",
       "      <td>2008-05-06 00:04:18</td>\n",
       "      <td>2013-06-02 16:56:52</td>\n",
       "    </tr>\n",
       "    <tr>\n",
       "      <th>244344</th>\n",
       "      <td>292555</td>\n",
       "      <td>292555</td>\n",
       "      <td>p:164274</td>\n",
       "      <td>c:233024</td>\n",
       "      <td>1997-01-01</td>\n",
       "      <td>2000-01-01</td>\n",
       "      <td>1</td>\n",
       "      <td>1</td>\n",
       "      <td>Sales Manager</td>\n",
       "      <td>2013-06-28 14:43:51</td>\n",
       "      <td>2013-06-28 14:43:51</td>\n",
       "    </tr>\n",
       "    <tr>\n",
       "      <th>252664</th>\n",
       "      <td>303292</td>\n",
       "      <td>303292</td>\n",
       "      <td>p:12657</td>\n",
       "      <td>c:233024</td>\n",
       "      <td>1996-01-01</td>\n",
       "      <td>1997-01-01</td>\n",
       "      <td>1</td>\n",
       "      <td>4</td>\n",
       "      <td>VP Marketing and Editorial</td>\n",
       "      <td>2013-07-09 08:21:59</td>\n",
       "      <td>2013-07-09 08:21:59</td>\n",
       "    </tr>\n",
       "    <tr>\n",
       "      <th>279086</th>\n",
       "      <td>335844</td>\n",
       "      <td>335844</td>\n",
       "      <td>p:215039</td>\n",
       "      <td>c:233024</td>\n",
       "      <td>\\N</td>\n",
       "      <td>\\N</td>\n",
       "      <td>1</td>\n",
       "      <td>5</td>\n",
       "      <td>Board of Director</td>\n",
       "      <td>2013-08-03 10:45:35</td>\n",
       "      <td>2013-09-03 11:26:09</td>\n",
       "    </tr>\n",
       "    <tr>\n",
       "      <th>280955</th>\n",
       "      <td>338284</td>\n",
       "      <td>338284</td>\n",
       "      <td>p:23196</td>\n",
       "      <td>c:233024</td>\n",
       "      <td>\\N</td>\n",
       "      <td>\\N</td>\n",
       "      <td>1</td>\n",
       "      <td>9</td>\n",
       "      <td>Investment</td>\n",
       "      <td>2013-08-05 11:40:58</td>\n",
       "      <td>2013-08-05 11:40:58</td>\n",
       "    </tr>\n",
       "  </tbody>\n",
       "</table>\n",
       "</div>"
      ],
      "text/plain": [
       "            id  relationship_id person_object_id relationship_object_id  \\\n",
       "8755     11367            11367              p:2               c:233024   \n",
       "244344  292555           292555         p:164274               c:233024   \n",
       "252664  303292           303292          p:12657               c:233024   \n",
       "279086  335844           335844         p:215039               c:233024   \n",
       "280955  338284           338284          p:23196               c:233024   \n",
       "\n",
       "          start_at      end_at  is_past  sequence                       title  \\\n",
       "8755            \\N          \\N        1         2        Business Development   \n",
       "244344  1997-01-01  2000-01-01        1         1               Sales Manager   \n",
       "252664  1996-01-01  1997-01-01        1         4  VP Marketing and Editorial   \n",
       "279086          \\N          \\N        1         5           Board of Director   \n",
       "280955          \\N          \\N        1         9                  Investment   \n",
       "\n",
       "                 created_at           updated_at  \n",
       "8755    2008-05-06 00:04:18  2013-06-02 16:56:52  \n",
       "244344  2013-06-28 14:43:51  2013-06-28 14:43:51  \n",
       "252664  2013-07-09 08:21:59  2013-07-09 08:21:59  \n",
       "279086  2013-08-03 10:45:35  2013-09-03 11:26:09  \n",
       "280955  2013-08-05 11:40:58  2013-08-05 11:40:58  "
      ]
     },
     "execution_count": 14,
     "metadata": {},
     "output_type": "execute_result"
    }
   ],
   "source": [
    "# highest numbers of relationships\n",
    "print(f\"Most relationships (top-5)\\n\")\n",
    "print(relationships['relationship_object_id'].value_counts().head(), \"\\n\")\n",
    "\n",
    "# relationships of a specific company\n",
    "print(\"Relationships of a random company\")\n",
    "relationships.loc[relationships['relationship_object_id'] == 'c:233024']"
   ]
  },
  {
   "cell_type": "markdown",
   "metadata": {},
   "source": [
    "### Initial Wrangling/Cleaning"
   ]
  },
  {
   "cell_type": "markdown",
   "metadata": {},
   "source": [
    "We will first check for duplicate rows and remove them."
   ]
  },
  {
   "cell_type": "code",
   "execution_count": 15,
   "metadata": {},
   "outputs": [],
   "source": [
    "# function that returns the number of duplicate rows for multiple DataFrames \n",
    "def print_duplicates_num(dfs,dts):\n",
    "    print(f\"{'duplicates per dataset'.upper()}\\n\")\n",
    "    for i in range(len(dfs)):\n",
    "        print(f\"{dts[i][:-4]}\\n{dfs[i].duplicated().value_counts()}\\n\")"
   ]
  },
  {
   "cell_type": "code",
   "execution_count": 16,
   "metadata": {},
   "outputs": [
    {
     "name": "stdout",
     "output_type": "stream",
     "text": [
      "DUPLICATES PER DATASET\n",
      "\n",
      "funding_rounds\n",
      "False    52920\n",
      "dtype: int64\n",
      "\n",
      "elements\n",
      "False    488540\n",
      "True      49631\n",
      "dtype: int64\n",
      "\n",
      "persons\n",
      "False    226706\n",
      "dtype: int64\n",
      "\n",
      "relationships\n",
      "False    402875\n",
      "dtype: int64\n",
      "\n"
     ]
    }
   ],
   "source": [
    "# all DataFrames\n",
    "dataframes = (funding_rounds, elements, persons, relationships)\n",
    "# getting the duplicate rows per DataFrame\n",
    "print_duplicates_num(dataframes, datasets)"
   ]
  },
  {
   "cell_type": "code",
   "execution_count": 17,
   "metadata": {},
   "outputs": [],
   "source": [
    "# function for removing duplicate rows (for multiple DataFrames)\n",
    "def remove_duplicate_rows(dfs):\n",
    "    for df in dfs:\n",
    "        if df.duplicated().value_counts().get(True) != None: # we could use df.duplicated().any() but this is faster\n",
    "            df.drop_duplicates(inplace=True)"
   ]
  },
  {
   "cell_type": "code",
   "execution_count": 18,
   "metadata": {},
   "outputs": [],
   "source": [
    "# REMOVING DUPLICATE ROWS\n",
    "remove_duplicate_rows(dataframes)"
   ]
  },
  {
   "cell_type": "markdown",
   "metadata": {},
   "source": [
    "### Initial \"manual\" feature selection"
   ]
  },
  {
   "cell_type": "markdown",
   "metadata": {},
   "source": [
    "We will now manually remove some features that are not helpful/relevant with regard to the predictions we will make and also \"id\" columns that will not be used for merging the separate datasets, so as to lighten our datasets."
   ]
  },
  {
   "cell_type": "markdown",
   "metadata": {},
   "source": [
    "<ins>__Features to remove__</ins>"
   ]
  },
  {
   "cell_type": "code",
   "execution_count": 19,
   "metadata": {},
   "outputs": [],
   "source": [
    "# 'funding_rounds' dataset\n",
    "funding_rounds_cols_out = ['id', 'funding_round_id', 'raised_amount', 'pre_money_currency_code', \n",
    "                        'pre_money_valuation', 'post_money_valuation','post_money_currency_code',\n",
    "                           'is_first_round', 'is_last_round', 'source_url', 'source_description',\n",
    "                           'created_by', 'created_at', 'updated_at ']\n",
    "\n",
    "# 'elements' dataset \n",
    "elements_cols_out = ['entity_id', 'normalized_name', 'permalink', 'homepage_url', 'logo_url',\n",
    "                    'short_description', 'overview', 'created_by', 'created_at', 'updated_at']\n",
    "\n",
    "# 'persons' dataset\n",
    "persons_cols_out = ['id']\n",
    "\n",
    "# 'relationships' dataset\n",
    "relationships_cols_out = ['id', 'relationship_id', 'is_past', 'sequence', 'created_at', 'updated_at']\n",
    "\n",
    "# all lists with columns to de dropped\n",
    "cols_out_lists = (funding_rounds_cols_out, elements_cols_out,\n",
    "                 persons_cols_out, relationships_cols_out)"
   ]
  },
  {
   "cell_type": "markdown",
   "metadata": {},
   "source": [
    "<ins>**Dropping features**</ins>"
   ]
  },
  {
   "cell_type": "code",
   "execution_count": 20,
   "metadata": {},
   "outputs": [],
   "source": [
    "# defining a function for dropping all columns we want to remove at once\n",
    "def drop_columns(dfs,out_lists):\n",
    "    for i in range(len(dfs)):\n",
    "        dfs[i].drop(out_lists[i], axis=1, inplace=True)"
   ]
  },
  {
   "cell_type": "code",
   "execution_count": 21,
   "metadata": {},
   "outputs": [],
   "source": [
    "# DROPPING COLUMNS\n",
    "drop_columns(dataframes, cols_out_lists)"
   ]
  },
  {
   "cell_type": "markdown",
   "metadata": {},
   "source": [
    "## Creating our unified dataset"
   ]
  },
  {
   "cell_type": "markdown",
   "metadata": {},
   "source": [
    "We will first __add a new feature__ containing the **_full names of affiliated persons_** to the `persons` dataset."
   ]
  },
  {
   "cell_type": "code",
   "execution_count": 22,
   "metadata": {},
   "outputs": [
    {
     "data": {
      "text/plain": [
       "0             BenElowitz\n",
       "1          KevinFlaherty\n",
       "2            RajuVegesna\n",
       "3               IanWenig\n",
       "4              KevinRose\n",
       "               ...      \n",
       "226701          JohnPins\n",
       "226702     DavidSchulhof\n",
       "226703    MatthewD.Rosen\n",
       "226704    GordonHutchins\n",
       "226705       DeniseBasow\n",
       "Name: full_name, Length: 226706, dtype: object"
      ]
     },
     "execution_count": 22,
     "metadata": {},
     "output_type": "execute_result"
    }
   ],
   "source": [
    "# ADDING THE FEATURE 'full_name' TO THE 'persons' dataset (concatenating without whitespaces in between to encode this text feature more efficiently later)\n",
    "persons['full_name'] = persons['first_name'] + persons['last_name']\n",
    "\n",
    "# removing columns we do not need anymore\n",
    "persons.drop(['first_name', 'last_name'], axis=1, inplace=True)\n",
    "\n",
    "# removing any existing whitespaces\n",
    "persons['full_name'] = persons['full_name'].str.replace(\" \",\"\")\n",
    "persons['full_name']"
   ]
  },
  {
   "cell_type": "markdown",
   "metadata": {},
   "source": [
    "### Merging datasets"
   ]
  },
  {
   "cell_type": "markdown",
   "metadata": {},
   "source": [
    "<ins>Schema for merging</ins>:\n",
    "\n",
    "| Datasets pair | Respective Keys |\n",
    "|:-|:-|\n",
    "| elements - funding_rounds | 'id' - 'object_id' |\n",
    "| relationships - persons | 'person_object_id' - 'object_id' |\n",
    "| elements - relationships | 'id' - 'relationship_object_id' |"
   ]
  },
  {
   "cell_type": "markdown",
   "metadata": {},
   "source": [
    "We will now merge the separate datasets and also take a look at persons involved in many fundings."
   ]
  },
  {
   "cell_type": "code",
   "execution_count": 23,
   "metadata": {},
   "outputs": [
    {
     "name": "stdout",
     "output_type": "stream",
     "text": [
      "Persons involved in multiple fundings\n",
      "\n",
      "DanielLeff        70\n",
      "BettyKayton       69\n",
      "NihalMehta        64\n",
      "BandelL.Carano    63\n",
      "RogerEhrenberg    61\n",
      "Name: full_name, dtype: int64 \n",
      "\n",
      "Merged dataset (some rows)\n"
     ]
    },
    {
     "data": {
      "text/html": [
       "<div>\n",
       "<style scoped>\n",
       "    .dataframe tbody tr th:only-of-type {\n",
       "        vertical-align: middle;\n",
       "    }\n",
       "\n",
       "    .dataframe tbody tr th {\n",
       "        vertical-align: top;\n",
       "    }\n",
       "\n",
       "    .dataframe thead th {\n",
       "        text-align: right;\n",
       "    }\n",
       "</style>\n",
       "<table border=\"1\" class=\"dataframe\">\n",
       "  <thead>\n",
       "    <tr style=\"text-align: right;\">\n",
       "      <th></th>\n",
       "      <th>object_id</th>\n",
       "      <th>birthplace</th>\n",
       "      <th>affiliation_name</th>\n",
       "      <th>full_name</th>\n",
       "      <th>person_object_id</th>\n",
       "      <th>relationship_object_id</th>\n",
       "      <th>start_at</th>\n",
       "      <th>end_at</th>\n",
       "      <th>title</th>\n",
       "    </tr>\n",
       "  </thead>\n",
       "  <tbody>\n",
       "    <tr>\n",
       "      <th>0</th>\n",
       "      <td>p:2</td>\n",
       "      <td>\\N</td>\n",
       "      <td>Blue Nile</td>\n",
       "      <td>BenElowitz</td>\n",
       "      <td>p:2</td>\n",
       "      <td>c:1</td>\n",
       "      <td>\\N</td>\n",
       "      <td>\\N</td>\n",
       "      <td>Co-Founder/CEO/Board of Directors</td>\n",
       "    </tr>\n",
       "    <tr>\n",
       "      <th>1</th>\n",
       "      <td>p:2</td>\n",
       "      <td>\\N</td>\n",
       "      <td>Blue Nile</td>\n",
       "      <td>BenElowitz</td>\n",
       "      <td>p:2</td>\n",
       "      <td>c:4993</td>\n",
       "      <td>\\N</td>\n",
       "      <td>\\N</td>\n",
       "      <td>Co-founder &amp; VP</td>\n",
       "    </tr>\n",
       "    <tr>\n",
       "      <th>2</th>\n",
       "      <td>p:2</td>\n",
       "      <td>\\N</td>\n",
       "      <td>Blue Nile</td>\n",
       "      <td>BenElowitz</td>\n",
       "      <td>p:2</td>\n",
       "      <td>c:233024</td>\n",
       "      <td>\\N</td>\n",
       "      <td>\\N</td>\n",
       "      <td>Business Development</td>\n",
       "    </tr>\n",
       "    <tr>\n",
       "      <th>3</th>\n",
       "      <td>p:2</td>\n",
       "      <td>\\N</td>\n",
       "      <td>Blue Nile</td>\n",
       "      <td>BenElowitz</td>\n",
       "      <td>p:2</td>\n",
       "      <td>f:1017</td>\n",
       "      <td>\\N</td>\n",
       "      <td>\\N</td>\n",
       "      <td>Limited Partner</td>\n",
       "    </tr>\n",
       "    <tr>\n",
       "      <th>4</th>\n",
       "      <td>p:2</td>\n",
       "      <td>\\N</td>\n",
       "      <td>Blue Nile</td>\n",
       "      <td>BenElowitz</td>\n",
       "      <td>p:2</td>\n",
       "      <td>c:18661</td>\n",
       "      <td>\\N</td>\n",
       "      <td>\\N</td>\n",
       "      <td>Consultant</td>\n",
       "    </tr>\n",
       "  </tbody>\n",
       "</table>\n",
       "</div>"
      ],
      "text/plain": [
       "  object_id birthplace affiliation_name   full_name person_object_id  \\\n",
       "0       p:2         \\N        Blue Nile  BenElowitz              p:2   \n",
       "1       p:2         \\N        Blue Nile  BenElowitz              p:2   \n",
       "2       p:2         \\N        Blue Nile  BenElowitz              p:2   \n",
       "3       p:2         \\N        Blue Nile  BenElowitz              p:2   \n",
       "4       p:2         \\N        Blue Nile  BenElowitz              p:2   \n",
       "\n",
       "  relationship_object_id start_at end_at                              title  \n",
       "0                    c:1       \\N     \\N  Co-Founder/CEO/Board of Directors  \n",
       "1                 c:4993       \\N     \\N                    Co-founder & VP  \n",
       "2               c:233024       \\N     \\N               Business Development  \n",
       "3                 f:1017       \\N     \\N                    Limited Partner  \n",
       "4                c:18661       \\N     \\N                         Consultant  "
      ]
     },
     "execution_count": 23,
     "metadata": {},
     "output_type": "execute_result"
    }
   ],
   "source": [
    "# MERGING THE 'funding_rounds' AND 'elements' DATASETS\n",
    "temp1 = funding_rounds.merge(elements, left_on='object_id',right_on='id')\n",
    "\n",
    "# MERGING THE 'relationships' AND 'persons' DATASETS\n",
    "temp2 = persons.merge(relationships, left_on='object_id',right_on='person_object_id')\n",
    "\n",
    "# removing duplicate rows\n",
    "temp2 = temp2.drop_duplicates().reset_index().drop('index',axis=1)\n",
    "\n",
    "# persons involved in many fundings\n",
    "print(\"Persons involved in multiple fundings\\n\")\n",
    "print(temp2['full_name'].value_counts().head(), \"\\n\")\n",
    "\n",
    "print(\"Merged dataset (some rows)\")\n",
    "temp2.head()"
   ]
  },
  {
   "cell_type": "markdown",
   "metadata": {},
   "source": [
    "### Adding new features"
   ]
  },
  {
   "cell_type": "markdown",
   "metadata": {},
   "source": [
    "We will now add some new features to the _relationships-persons_ merged dataset. These features are:\n",
    "\n",
    "__<ins>Text features</ins>__\n",
    "\n",
    "1. all the names of affiliated organizations per company\n",
    "2. all affiliated persons per company\n",
    "3. all persons' birthplaces per company\n",
    "4. all persons' titles per company\n",
    "\n",
    "__<ins>Numerical features</ins>__\n",
    "\n",
    "5. the duration of every relationship (in days) for every company\n",
    "\n",
    "These new features will be generated by aggregating data related to all the fundings a company secured."
   ]
  },
  {
   "cell_type": "code",
   "execution_count": 24,
   "metadata": {},
   "outputs": [],
   "source": [
    "# defining a function for removing 'weird' text (single characters/character sequences) from a series\n",
    "allowed_chars_names = [\" \", \"'\", '&', ',','.','-','(',')','’', '–', '/'] # suitable for names\n",
    "allowed_chars_firms = [' ', \"'\", '&', ',', '.', '-', '(', ')', '’', '–', '/', '!','%','*','+',':',';',\n",
    "                 '@','[',']','|','©','®','°','²','•','™'] # suitable for companies names\n",
    "allowed_chars_places = [' ', \"'\", '&', ',', '.', '-', '(', ')', '’', '–',\n",
    "                        '/',';','|'] # suitable for regions\n",
    "allowed_chars_titles = [' ', \"'\", '&', ',', '.', '-', '(', ')', '/',';','|', '!', '#','$','+',\n",
    "                  '@', '_', '[', ']', '®','–','—','’'] # suitable for titles\n",
    "\n",
    "def remove_uncommon_text(ser, allowed):\n",
    "    se1 = set()\n",
    "    for row in ser:\n",
    "        for char in str(row):\n",
    "            if not char.isalpha() and char not in allowed:\n",
    "                se1.add(char) # se1 provides the characters/strings to be removed\n",
    "    for char in se1:\n",
    "        ser = ser.apply(lambda x: str(x).replace(char, ''))\n",
    "    return ser"
   ]
  },
  {
   "cell_type": "code",
   "execution_count": 25,
   "metadata": {},
   "outputs": [],
   "source": [
    "# defining a function for aggregating data from a company's various fundings\n",
    "def grouped_text_column(df1, col, groupby_col, has_commas=False, remove=False, allowed_chars=None):\n",
    "    new_feat = df1.copy()\n",
    "    new_feat[col] = new_feat[col].dropna()\n",
    "    new_feat[col] = new_feat[col].astype('object')\n",
    "    if has_commas:\n",
    "        new_feat = new_feat.groupby([groupby_col])[col].apply(lambda x: \"\".join(x.to_string(index=False))).str.replace('(\\\\n)', '-').reset_index()\n",
    "        new_feat[col] = new_feat[col].apply(lambda x: x.replace(\"\\\\N-\", \"\")).apply(lambda x: x.replace(\" \", \"\")).apply(lambda x: x.replace(\"\\\\N\", \"\")).apply(lambda x: x[:-1] if len(x)>0 and x[-1] == '-' else x)\n",
    "    else:\n",
    "        new_feat = new_feat.groupby([groupby_col])[col].apply(lambda x: \"\".join(x.to_string(index=False))).str.replace('(\\\\n)', ',').reset_index()\n",
    "        new_feat[col] = new_feat[col].apply(lambda x: x.replace(\"NaN,\", \"\")).apply(lambda x: \"\".join(x.split()))\n",
    "    if remove:\n",
    "        new_feat[col] = remove_uncommon_text(new_feat[col], allowed_chars)\n",
    "    return new_feat"
   ]
  },
  {
   "cell_type": "markdown",
   "metadata": {},
   "source": [
    "<ins>**Creating the features**</ins> (the final names of the features will be given later, when adding the features)"
   ]
  },
  {
   "cell_type": "code",
   "execution_count": 26,
   "metadata": {},
   "outputs": [
    {
     "name": "stdout",
     "output_type": "stream",
     "text": [
      "0    BenElowitz,KevinFlaherty,GusTai,TheresiaRanzet...\n",
      "1    JasonRubin,AndyGavin,JasonKay,ScottShumaker,Ry...\n",
      "2    JimWhite,MichaelWilson,JeffreyVentrella,WillHa...\n",
      "3                         YounesQassimi,AhmedChergaoui\n",
      "4                                           TaylorBarr\n",
      "Name: full_name, dtype: object \n",
      "\n",
      "  relationship_object_id                                   affiliation_name\n",
      "0                    c:1  BlueNile,Wetpaint,BillShrink,ForeScout,Unaffil...\n",
      "1                   c:10  MonkeyGods,Flektor,Flektor,Unaffiliated,Magnif...\n",
      "2                  c:100  Farecast,There,There,There,There,LimeLife,Unaf...\n",
      "3                c:10002                         SynergieMedia,Unaffiliated\n",
      "4               c:100042                                           iContact \n",
      "\n",
      "  relationship_object_id   birthplace\n",
      "0                    c:1             \n",
      "1                   c:10  USA-Hungary\n",
      "2                  c:100             \n",
      "3                c:10002             \n",
      "4               c:100042   Atlanta,GA \n",
      "\n"
     ]
    },
    {
     "data": {
      "text/html": [
       "<div>\n",
       "<style scoped>\n",
       "    .dataframe tbody tr th:only-of-type {\n",
       "        vertical-align: middle;\n",
       "    }\n",
       "\n",
       "    .dataframe tbody tr th {\n",
       "        vertical-align: top;\n",
       "    }\n",
       "\n",
       "    .dataframe thead th {\n",
       "        text-align: right;\n",
       "    }\n",
       "</style>\n",
       "<table border=\"1\" class=\"dataframe\">\n",
       "  <thead>\n",
       "    <tr style=\"text-align: right;\">\n",
       "      <th></th>\n",
       "      <th>relationship_object_id</th>\n",
       "      <th>title</th>\n",
       "    </tr>\n",
       "  </thead>\n",
       "  <tbody>\n",
       "    <tr>\n",
       "      <th>0</th>\n",
       "      <td>c:1</td>\n",
       "      <td>Co-Founder/CEO/BoardofDirectors,VPMarketing,Bo...</td>\n",
       "    </tr>\n",
       "    <tr>\n",
       "      <th>1</th>\n",
       "      <td>c:10</td>\n",
       "      <td>Co-founderandCEO,Co-founderandCTO,COO,Co-Found...</td>\n",
       "    </tr>\n",
       "    <tr>\n",
       "      <th>2</th>\n",
       "      <td>c:100</td>\n",
       "      <td>BoardofDirectors,CEO,Co-Founder,Co-Founder,Pre...</td>\n",
       "    </tr>\n",
       "    <tr>\n",
       "      <th>3</th>\n",
       "      <td>c:10002</td>\n",
       "      <td>Founder,CreativeDirector</td>\n",
       "    </tr>\n",
       "    <tr>\n",
       "      <th>4</th>\n",
       "      <td>c:100042</td>\n",
       "      <td>GeneralManager</td>\n",
       "    </tr>\n",
       "  </tbody>\n",
       "</table>\n",
       "</div>"
      ],
      "text/plain": [
       "  relationship_object_id                                              title\n",
       "0                    c:1  Co-Founder/CEO/BoardofDirectors,VPMarketing,Bo...\n",
       "1                   c:10  Co-founderandCEO,Co-founderandCTO,COO,Co-Found...\n",
       "2                  c:100  BoardofDirectors,CEO,Co-Founder,Co-Founder,Pre...\n",
       "3                c:10002                           Founder,CreativeDirector\n",
       "4               c:100042                                     GeneralManager"
      ]
     },
     "execution_count": 26,
     "metadata": {},
     "output_type": "execute_result"
    }
   ],
   "source": [
    "# 'persons_names' feature\n",
    "feat_1 = grouped_text_column(temp2, 'full_name', 'relationship_object_id', remove=True, \n",
    "                             allowed_chars=allowed_chars_names)\n",
    "print(feat_1['full_name'].head(), \"\\n\")\n",
    "\n",
    "# 'all_affiliations' feature\n",
    "feat_2 = grouped_text_column(temp2, 'affiliation_name', 'relationship_object_id', remove=True, \n",
    "                             allowed_chars=allowed_chars_firms)\n",
    "print(feat_2.head(),\"\\n\")\n",
    "\n",
    "# 'persons_birthplaces' feature\n",
    "feat_3 = grouped_text_column(temp2, 'birthplace', 'relationship_object_id', remove=True, \n",
    "                             has_commas=True, allowed_chars=allowed_chars_places)\n",
    "print(feat_3.head(), \"\\n\")\n",
    "\n",
    "# 'persons_titles' feature\n",
    "feat_4 = grouped_text_column(temp2, 'title', 'relationship_object_id', remove=True, \n",
    "                             allowed_chars=allowed_chars_titles)\n",
    "feat_4.head()"
   ]
  },
  {
   "cell_type": "markdown",
   "metadata": {},
   "source": [
    "<ins>**Creating the `relationships_days` feature**</ins>"
   ]
  },
  {
   "cell_type": "code",
   "execution_count": 27,
   "metadata": {},
   "outputs": [],
   "source": [
    "# defining a function for aggregating numerical data from various rounds for every company\n",
    "def grouped_num_column(df1, col, groupby_col):\n",
    "    new_feat = df1.copy()\n",
    "    new_feat = new_feat.groupby([groupby_col])[col].sum().to_frame()\n",
    "    return new_feat"
   ]
  },
  {
   "cell_type": "markdown",
   "metadata": {},
   "source": [
    "At this point we will add a column with the __duration (in days) of every relationship__ to the _relationships-persons_ (temp3) dataset."
   ]
  },
  {
   "cell_type": "code",
   "execution_count": 28,
   "metadata": {},
   "outputs": [
    {
     "name": "stdout",
     "output_type": "stream",
     "text": [
      "Most common values for the new feature:\n",
      "\n",
      "0.0       90254\n",
      "365.0      4305\n",
      "730.0      2754\n",
      "731.0      2598\n",
      "1096.0     2552\n",
      "Name: relationship_days, dtype: int64\n",
      "\n",
      "Negative duration cases: 210\n",
      "Replacing negative values with 0\n"
     ]
    }
   ],
   "source": [
    "# start dates of relationships\n",
    "rel_start = pd.to_datetime(temp2['start_at'], errors='coerce')\n",
    "\n",
    "# end dates of relationships\n",
    "rel_end = pd.to_datetime(temp2['end_at'], errors='coerce')\n",
    "\n",
    "# relationships durations in days\n",
    "temp2['relationship_days'] = (rel_end - rel_start).dt.days\n",
    "\n",
    "# ADDING THE FEATURE\n",
    "feat_5 = grouped_num_column(temp2, 'relationship_days', 'relationship_object_id')\n",
    "\n",
    "# most common values of the feature\n",
    "print(f\"Most common values for the new feature:\\n\\n{feat_5['relationship_days'].value_counts(dropna=False).head()}\\n\")\n",
    "\n",
    "# checking for inappropriate (negative) values\n",
    "print(\"Negative duration cases:\", len(feat_5.loc[feat_5['relationship_days'] <0]))\n",
    "\n",
    "# replacing negative values with 0\n",
    "print(\"Replacing negative values with 0\")\n",
    "feat_5['relationship_days'] = feat_5['relationship_days'].apply(lambda x: 0 if x <0 else x)"
   ]
  },
  {
   "cell_type": "markdown",
   "metadata": {},
   "source": [
    "Let's now **add the features** to the _relationships-persons_ dataset (and provide the final column names)."
   ]
  },
  {
   "cell_type": "code",
   "execution_count": 29,
   "metadata": {},
   "outputs": [],
   "source": [
    "features_to_add = [feat_1, feat_2, feat_3, feat_4, feat_5]\n",
    "initial_names = ['full_name', 'affiliation_name', 'birthplace', 'title', 'relationship_days']\n",
    "final_names = ['persons_names', 'all_affiliations', 'persons_birthplaces', \n",
    "               'persons_titles', 'relationships_days']\n",
    "\n",
    "# function for adding the features\n",
    "def add_features(features, init_names, fin_names):\n",
    "    startdf = temp2\n",
    "    for i in range(len(fin_names)):\n",
    "        tempdf = startdf.merge(features[i], left_on='relationship_object_id', \n",
    "                               right_on='relationship_object_id')\n",
    "        tempdf = tempdf.drop_duplicates(subset='relationship_object_id').reset_index().drop(['index',init_names[i]+'_x'],axis=1).rename(columns={init_names[i]+'_y':fin_names[i]})\n",
    "        startdf = tempdf\n",
    "    return tempdf"
   ]
  },
  {
   "cell_type": "code",
   "execution_count": 30,
   "metadata": {},
   "outputs": [
    {
     "data": {
      "text/html": [
       "<div>\n",
       "<style scoped>\n",
       "    .dataframe tbody tr th:only-of-type {\n",
       "        vertical-align: middle;\n",
       "    }\n",
       "\n",
       "    .dataframe tbody tr th {\n",
       "        vertical-align: top;\n",
       "    }\n",
       "\n",
       "    .dataframe thead th {\n",
       "        text-align: right;\n",
       "    }\n",
       "</style>\n",
       "<table border=\"1\" class=\"dataframe\">\n",
       "  <thead>\n",
       "    <tr style=\"text-align: right;\">\n",
       "      <th></th>\n",
       "      <th>object_id</th>\n",
       "      <th>person_object_id</th>\n",
       "      <th>relationship_object_id</th>\n",
       "      <th>start_at</th>\n",
       "      <th>end_at</th>\n",
       "      <th>persons_names</th>\n",
       "      <th>all_affiliations</th>\n",
       "      <th>persons_birthplaces</th>\n",
       "      <th>persons_titles</th>\n",
       "      <th>relationships_days</th>\n",
       "    </tr>\n",
       "  </thead>\n",
       "  <tbody>\n",
       "    <tr>\n",
       "      <th>0</th>\n",
       "      <td>p:2</td>\n",
       "      <td>p:2</td>\n",
       "      <td>c:1</td>\n",
       "      <td>\\N</td>\n",
       "      <td>\\N</td>\n",
       "      <td>BenElowitz,KevinFlaherty,GusTai,TheresiaRanzet...</td>\n",
       "      <td>BlueNile,Wetpaint,BillShrink,ForeScout,Unaffil...</td>\n",
       "      <td></td>\n",
       "      <td>Co-Founder/CEO/BoardofDirectors,VPMarketing,Bo...</td>\n",
       "      <td>2923.0</td>\n",
       "    </tr>\n",
       "    <tr>\n",
       "      <th>1</th>\n",
       "      <td>p:2</td>\n",
       "      <td>p:2</td>\n",
       "      <td>c:4993</td>\n",
       "      <td>\\N</td>\n",
       "      <td>\\N</td>\n",
       "      <td>BenElowitz,AlexBerg,KevinFrisch,MarkVadon,Bria...</td>\n",
       "      <td>BlueNile,Unaffiliated,Unaffiliated,Unaffiliate...</td>\n",
       "      <td></td>\n",
       "      <td>Co-founder&amp;VP,DirectorofSiteDevelopment,Senior...</td>\n",
       "      <td>4383.0</td>\n",
       "    </tr>\n",
       "    <tr>\n",
       "      <th>2</th>\n",
       "      <td>p:2</td>\n",
       "      <td>p:2</td>\n",
       "      <td>c:233024</td>\n",
       "      <td>\\N</td>\n",
       "      <td>\\N</td>\n",
       "      <td>BenElowitz,TomBlaisdell,WilliamStewart,ShaneOr...</td>\n",
       "      <td>BlueNile,Unaffiliated,Unaffiliated,Unaffiliate...</td>\n",
       "      <td></td>\n",
       "      <td>BusinessDevelopment,VPMarketingandEditorial,In...</td>\n",
       "      <td>1461.0</td>\n",
       "    </tr>\n",
       "    <tr>\n",
       "      <th>3</th>\n",
       "      <td>p:2</td>\n",
       "      <td>p:2</td>\n",
       "      <td>f:1017</td>\n",
       "      <td>\\N</td>\n",
       "      <td>\\N</td>\n",
       "      <td>BenElowitz,KevinFlaherty,KevinFlaherty,StuartD...</td>\n",
       "      <td>BlueNile,Wetpaint,Wetpaint,Unaffiliated,Occipi...</td>\n",
       "      <td>Indianapolis,INUSA-London,England-SanPadro,CA-...</td>\n",
       "      <td>LimitedPartner,LimitedPartner,mentor,LimitedPa...</td>\n",
       "      <td>0.0</td>\n",
       "    </tr>\n",
       "    <tr>\n",
       "      <th>4</th>\n",
       "      <td>p:2</td>\n",
       "      <td>p:2</td>\n",
       "      <td>c:18661</td>\n",
       "      <td>\\N</td>\n",
       "      <td>\\N</td>\n",
       "      <td>BenElowitz,MegWhitman,GilPenchina,EricBaker,To...</td>\n",
       "      <td>BlueNile,Zipcar,Wikia,Viagogo,Jam,CheapToday,C...</td>\n",
       "      <td>london,england-Chicago,IL-Phoenix,AZ-Massachus...</td>\n",
       "      <td>Consultant,ExecutiveLevelPositions,Associate,a...</td>\n",
       "      <td>185408.0</td>\n",
       "    </tr>\n",
       "  </tbody>\n",
       "</table>\n",
       "</div>"
      ],
      "text/plain": [
       "  object_id person_object_id relationship_object_id start_at end_at  \\\n",
       "0       p:2              p:2                    c:1       \\N     \\N   \n",
       "1       p:2              p:2                 c:4993       \\N     \\N   \n",
       "2       p:2              p:2               c:233024       \\N     \\N   \n",
       "3       p:2              p:2                 f:1017       \\N     \\N   \n",
       "4       p:2              p:2                c:18661       \\N     \\N   \n",
       "\n",
       "                                       persons_names  \\\n",
       "0  BenElowitz,KevinFlaherty,GusTai,TheresiaRanzet...   \n",
       "1  BenElowitz,AlexBerg,KevinFrisch,MarkVadon,Bria...   \n",
       "2  BenElowitz,TomBlaisdell,WilliamStewart,ShaneOr...   \n",
       "3  BenElowitz,KevinFlaherty,KevinFlaherty,StuartD...   \n",
       "4  BenElowitz,MegWhitman,GilPenchina,EricBaker,To...   \n",
       "\n",
       "                                    all_affiliations  \\\n",
       "0  BlueNile,Wetpaint,BillShrink,ForeScout,Unaffil...   \n",
       "1  BlueNile,Unaffiliated,Unaffiliated,Unaffiliate...   \n",
       "2  BlueNile,Unaffiliated,Unaffiliated,Unaffiliate...   \n",
       "3  BlueNile,Wetpaint,Wetpaint,Unaffiliated,Occipi...   \n",
       "4  BlueNile,Zipcar,Wikia,Viagogo,Jam,CheapToday,C...   \n",
       "\n",
       "                                 persons_birthplaces  \\\n",
       "0                                                      \n",
       "1                                                      \n",
       "2                                                      \n",
       "3  Indianapolis,INUSA-London,England-SanPadro,CA-...   \n",
       "4  london,england-Chicago,IL-Phoenix,AZ-Massachus...   \n",
       "\n",
       "                                      persons_titles  relationships_days  \n",
       "0  Co-Founder/CEO/BoardofDirectors,VPMarketing,Bo...              2923.0  \n",
       "1  Co-founder&VP,DirectorofSiteDevelopment,Senior...              4383.0  \n",
       "2  BusinessDevelopment,VPMarketingandEditorial,In...              1461.0  \n",
       "3  LimitedPartner,LimitedPartner,mentor,LimitedPa...                 0.0  \n",
       "4  Consultant,ExecutiveLevelPositions,Associate,a...            185408.0  "
      ]
     },
     "execution_count": 30,
     "metadata": {},
     "output_type": "execute_result"
    }
   ],
   "source": [
    "# adding the features\n",
    "features_df = add_features(features_to_add, initial_names, final_names)\n",
    "\n",
    "features_df.head()"
   ]
  },
  {
   "cell_type": "markdown",
   "metadata": {},
   "source": [
    "The time has come to **add the _relationships-persons dataset with the new features_** (features_df) to the _funding_rounds-elements_ dataset (temp1) and then produce some insights."
   ]
  },
  {
   "cell_type": "code",
   "execution_count": 31,
   "metadata": {},
   "outputs": [
    {
     "name": "stdout",
     "output_type": "stream",
     "text": [
      "Post-funding valuations of $2M:\n",
      "46 \n",
      "\n",
      "Fundings per month\n",
      "1.0     6727\n",
      "6.0     4440\n",
      "10.0    4376\n",
      "9.0     4308\n",
      "5.0     4200\n",
      "8.0     4156\n",
      "4.0     4142\n",
      "7.0     4120\n",
      "3.0     4091\n",
      "11.0    3983\n",
      "12.0    3682\n",
      "2.0     3415\n",
      "Name: funded_at, dtype: int64 \n",
      "\n",
      "Some data about acquired companies \n",
      "\n",
      "   funding_round_type raised_amount_usd      id    status  founded_at  \\\n",
      "0            series-b           8500000     c:4  acquired  2004-10-11   \n",
      "1            series-a           2800000     c:4  acquired  2004-10-11   \n",
      "2           series-c+          28700000     c:4  acquired  2004-10-11   \n",
      "3           series-c+           5000000     c:4  acquired  2004-10-11   \n",
      "15           series-b          10500000  c:7299  acquired  2003-06-01   \n",
      "\n",
      "   funding_rounds funding_total_usd  \n",
      "0             NaN               NaN  \n",
      "1             NaN               NaN  \n",
      "2             NaN               NaN  \n",
      "3             NaN               NaN  \n",
      "15              7          33672656  \n"
     ]
    }
   ],
   "source": [
    "temp3 = temp1.merge(features_df, how='left', left_on='id',right_on='relationship_object_id')\n",
    "\n",
    "# checking how many unique companies have been valued at $2M after raising funds\n",
    "print(\"Post-funding valuations of $2M:\")\n",
    "print(temp3.loc[temp3['post_money_valuation_usd'] == '2000000']['id'].nunique(), \"\\n\")\n",
    "\n",
    "# fundings per month\n",
    "print(\"Fundings per month\")\n",
    "print(pd.to_datetime(temp3['funded_at'],errors='coerce').dt.month.value_counts(), \"\\n\")\n",
    "\n",
    "# checking out some data for acquired companies\n",
    "print(\"Some data about acquired companies\", \"\\n\")\n",
    "print(temp3[['funding_round_type','raised_amount_usd','id','status','founded_at',\n",
    "    'funding_rounds','funding_total_usd']].loc[temp3['status'] == 'acquired'].head())"
   ]
  },
  {
   "cell_type": "markdown",
   "metadata": {},
   "source": [
    "We will now __drop columns__ we do not need anymore."
   ]
  },
  {
   "cell_type": "code",
   "execution_count": 32,
   "metadata": {},
   "outputs": [
    {
     "data": {
      "text/html": [
       "<div>\n",
       "<style scoped>\n",
       "    .dataframe tbody tr th:only-of-type {\n",
       "        vertical-align: middle;\n",
       "    }\n",
       "\n",
       "    .dataframe tbody tr th {\n",
       "        vertical-align: top;\n",
       "    }\n",
       "\n",
       "    .dataframe thead th {\n",
       "        text-align: right;\n",
       "    }\n",
       "</style>\n",
       "<table border=\"1\" class=\"dataframe\">\n",
       "  <thead>\n",
       "    <tr style=\"text-align: right;\">\n",
       "      <th></th>\n",
       "      <th>funded_at</th>\n",
       "      <th>funding_round_type</th>\n",
       "      <th>funding_round_code</th>\n",
       "      <th>raised_amount_usd</th>\n",
       "      <th>raised_currency_code</th>\n",
       "      <th>pre_money_valuation_usd</th>\n",
       "      <th>post_money_valuation_usd</th>\n",
       "      <th>participants</th>\n",
       "      <th>id</th>\n",
       "      <th>entity_type</th>\n",
       "      <th>...</th>\n",
       "      <th>funding_total_usd</th>\n",
       "      <th>first_milestone_at</th>\n",
       "      <th>last_milestone_at</th>\n",
       "      <th>milestones</th>\n",
       "      <th>relationships</th>\n",
       "      <th>persons_names</th>\n",
       "      <th>all_affiliations</th>\n",
       "      <th>persons_birthplaces</th>\n",
       "      <th>persons_titles</th>\n",
       "      <th>relationships_days</th>\n",
       "    </tr>\n",
       "  </thead>\n",
       "  <tbody>\n",
       "    <tr>\n",
       "      <th>0</th>\n",
       "      <td>2006-12-01</td>\n",
       "      <td>series-b</td>\n",
       "      <td>b</td>\n",
       "      <td>8500000</td>\n",
       "      <td>USD</td>\n",
       "      <td>\\N</td>\n",
       "      <td>\\N</td>\n",
       "      <td>2</td>\n",
       "      <td>c:4</td>\n",
       "      <td>Company</td>\n",
       "      <td>...</td>\n",
       "      <td>NaN</td>\n",
       "      <td>NaN</td>\n",
       "      <td>NaN</td>\n",
       "      <td>NaN</td>\n",
       "      <td>NaN</td>\n",
       "      <td>KevinRose,JayAdelson,OwenByrne,RonGorodetzky,D...</td>\n",
       "      <td>i/oVentures,Digg,Digg,Digg,TinySpeck,LinkedIn,...</td>\n",
       "      <td>Redding,CA-Detroit,MI-NewRochelle,NewYork-Illi...</td>\n",
       "      <td>Founder&amp;CEO,ChiefExecutiveOfficer,SeniorSoftwa...</td>\n",
       "      <td>26522.0</td>\n",
       "    </tr>\n",
       "    <tr>\n",
       "      <th>1</th>\n",
       "      <td>2005-10-01</td>\n",
       "      <td>series-a</td>\n",
       "      <td>a</td>\n",
       "      <td>2800000</td>\n",
       "      <td>USD</td>\n",
       "      <td>\\N</td>\n",
       "      <td>\\N</td>\n",
       "      <td>8</td>\n",
       "      <td>c:4</td>\n",
       "      <td>Company</td>\n",
       "      <td>...</td>\n",
       "      <td>NaN</td>\n",
       "      <td>NaN</td>\n",
       "      <td>NaN</td>\n",
       "      <td>NaN</td>\n",
       "      <td>NaN</td>\n",
       "      <td>KevinRose,JayAdelson,OwenByrne,RonGorodetzky,D...</td>\n",
       "      <td>i/oVentures,Digg,Digg,Digg,TinySpeck,LinkedIn,...</td>\n",
       "      <td>Redding,CA-Detroit,MI-NewRochelle,NewYork-Illi...</td>\n",
       "      <td>Founder&amp;CEO,ChiefExecutiveOfficer,SeniorSoftwa...</td>\n",
       "      <td>26522.0</td>\n",
       "    </tr>\n",
       "    <tr>\n",
       "      <th>2</th>\n",
       "      <td>2008-09-24</td>\n",
       "      <td>series-c+</td>\n",
       "      <td>c</td>\n",
       "      <td>28700000</td>\n",
       "      <td>USD</td>\n",
       "      <td>\\N</td>\n",
       "      <td>\\N</td>\n",
       "      <td>4</td>\n",
       "      <td>c:4</td>\n",
       "      <td>Company</td>\n",
       "      <td>...</td>\n",
       "      <td>NaN</td>\n",
       "      <td>NaN</td>\n",
       "      <td>NaN</td>\n",
       "      <td>NaN</td>\n",
       "      <td>NaN</td>\n",
       "      <td>KevinRose,JayAdelson,OwenByrne,RonGorodetzky,D...</td>\n",
       "      <td>i/oVentures,Digg,Digg,Digg,TinySpeck,LinkedIn,...</td>\n",
       "      <td>Redding,CA-Detroit,MI-NewRochelle,NewYork-Illi...</td>\n",
       "      <td>Founder&amp;CEO,ChiefExecutiveOfficer,SeniorSoftwa...</td>\n",
       "      <td>26522.0</td>\n",
       "    </tr>\n",
       "    <tr>\n",
       "      <th>3</th>\n",
       "      <td>2011-07-12</td>\n",
       "      <td>series-c+</td>\n",
       "      <td>d</td>\n",
       "      <td>5000000</td>\n",
       "      <td>USD</td>\n",
       "      <td>\\N</td>\n",
       "      <td>\\N</td>\n",
       "      <td>0</td>\n",
       "      <td>c:4</td>\n",
       "      <td>Company</td>\n",
       "      <td>...</td>\n",
       "      <td>NaN</td>\n",
       "      <td>NaN</td>\n",
       "      <td>NaN</td>\n",
       "      <td>NaN</td>\n",
       "      <td>NaN</td>\n",
       "      <td>KevinRose,JayAdelson,OwenByrne,RonGorodetzky,D...</td>\n",
       "      <td>i/oVentures,Digg,Digg,Digg,TinySpeck,LinkedIn,...</td>\n",
       "      <td>Redding,CA-Detroit,MI-NewRochelle,NewYork-Illi...</td>\n",
       "      <td>Founder&amp;CEO,ChiefExecutiveOfficer,SeniorSoftwa...</td>\n",
       "      <td>26522.0</td>\n",
       "    </tr>\n",
       "    <tr>\n",
       "      <th>4</th>\n",
       "      <td>2004-09-01</td>\n",
       "      <td>angel</td>\n",
       "      <td>angel</td>\n",
       "      <td>500000</td>\n",
       "      <td>USD</td>\n",
       "      <td>\\N</td>\n",
       "      <td>\\N</td>\n",
       "      <td>2</td>\n",
       "      <td>c:5</td>\n",
       "      <td>Company</td>\n",
       "      <td>...</td>\n",
       "      <td>NaN</td>\n",
       "      <td>NaN</td>\n",
       "      <td>NaN</td>\n",
       "      <td>NaN</td>\n",
       "      <td>NaN</td>\n",
       "      <td>MarkZuckerberg,DustinMoskovitz,OwenVanNatta,Ma...</td>\n",
       "      <td>Facebook,Facebook,Asana,LinkedIn,GeneralCataly...</td>\n",
       "      <td>Gainesville,FL-Hickery,NorthCarolina-CedarFall...</td>\n",
       "      <td>FounderandCEO,BoardOfDirectors,Co-Founder,Chie...</td>\n",
       "      <td>77960.0</td>\n",
       "    </tr>\n",
       "    <tr>\n",
       "      <th>...</th>\n",
       "      <td>...</td>\n",
       "      <td>...</td>\n",
       "      <td>...</td>\n",
       "      <td>...</td>\n",
       "      <td>...</td>\n",
       "      <td>...</td>\n",
       "      <td>...</td>\n",
       "      <td>...</td>\n",
       "      <td>...</td>\n",
       "      <td>...</td>\n",
       "      <td>...</td>\n",
       "      <td>...</td>\n",
       "      <td>...</td>\n",
       "      <td>...</td>\n",
       "      <td>...</td>\n",
       "      <td>...</td>\n",
       "      <td>...</td>\n",
       "      <td>...</td>\n",
       "      <td>...</td>\n",
       "      <td>...</td>\n",
       "      <td>...</td>\n",
       "    </tr>\n",
       "    <tr>\n",
       "      <th>51870</th>\n",
       "      <td>2010-04-07</td>\n",
       "      <td>venture</td>\n",
       "      <td>unattributed</td>\n",
       "      <td>120000</td>\n",
       "      <td>USD</td>\n",
       "      <td>\\N</td>\n",
       "      <td>\\N</td>\n",
       "      <td>0</td>\n",
       "      <td>c:256895</td>\n",
       "      <td>Company</td>\n",
       "      <td>...</td>\n",
       "      <td>120000</td>\n",
       "      <td>\\N</td>\n",
       "      <td>\\N</td>\n",
       "      <td>\\N</td>\n",
       "      <td>3</td>\n",
       "      <td>MaurizioVecchione,HenkyWibowo,MarkStolper</td>\n",
       "      <td>Thwapr,Unaffiliated,Unaffiliated</td>\n",
       "      <td>Zurich,Switzerland</td>\n",
       "      <td>CEO,VicePresidentofSoftware,Chairman</td>\n",
       "      <td>0.0</td>\n",
       "    </tr>\n",
       "    <tr>\n",
       "      <th>51871</th>\n",
       "      <td>2010-02-06</td>\n",
       "      <td>other</td>\n",
       "      <td>debt_round</td>\n",
       "      <td>1800180</td>\n",
       "      <td>USD</td>\n",
       "      <td>\\N</td>\n",
       "      <td>\\N</td>\n",
       "      <td>0</td>\n",
       "      <td>c:37738</td>\n",
       "      <td>Company</td>\n",
       "      <td>...</td>\n",
       "      <td>1800180</td>\n",
       "      <td>\\N</td>\n",
       "      <td>\\N</td>\n",
       "      <td>\\N</td>\n",
       "      <td>8</td>\n",
       "      <td>MichaelPowell,DrewSenyei,LouisBock,EckardWeber...</td>\n",
       "      <td>Curverider,Unaffiliated,Unaffiliated,Unaffilia...</td>\n",
       "      <td></td>\n",
       "      <td>Investor,BoardofDirectors,Director,BoardChairm...</td>\n",
       "      <td>0.0</td>\n",
       "    </tr>\n",
       "    <tr>\n",
       "      <th>51872</th>\n",
       "      <td>2013-12-12</td>\n",
       "      <td>series-a</td>\n",
       "      <td>a</td>\n",
       "      <td>3000000</td>\n",
       "      <td>USD</td>\n",
       "      <td>\\N</td>\n",
       "      <td>\\N</td>\n",
       "      <td>1</td>\n",
       "      <td>c:211890</td>\n",
       "      <td>Company</td>\n",
       "      <td>...</td>\n",
       "      <td>3000000</td>\n",
       "      <td>2007-10-19</td>\n",
       "      <td>2013-12-12</td>\n",
       "      <td>3</td>\n",
       "      <td>4</td>\n",
       "      <td>JacobBlackstock,DavidKennedy,DorianBaldwin,Sha...</td>\n",
       "      <td>Unaffiliated,Unaffiliated,Unaffiliated,Unaffil...</td>\n",
       "      <td></td>\n",
       "      <td>CEO,CTO,InteractiveDeveloper,VP,BusinessDevelo...</td>\n",
       "      <td>0.0</td>\n",
       "    </tr>\n",
       "    <tr>\n",
       "      <th>51873</th>\n",
       "      <td>2013-12-12</td>\n",
       "      <td>series-a</td>\n",
       "      <td>a</td>\n",
       "      <td>790783</td>\n",
       "      <td>USD</td>\n",
       "      <td>\\N</td>\n",
       "      <td>\\N</td>\n",
       "      <td>0</td>\n",
       "      <td>c:285864</td>\n",
       "      <td>Company</td>\n",
       "      <td>...</td>\n",
       "      <td>790783</td>\n",
       "      <td>\\N</td>\n",
       "      <td>\\N</td>\n",
       "      <td>\\N</td>\n",
       "      <td>1</td>\n",
       "      <td>RomanGaus</td>\n",
       "      <td>Unaffiliated</td>\n",
       "      <td></td>\n",
       "      <td>CEO</td>\n",
       "      <td>0.0</td>\n",
       "    </tr>\n",
       "    <tr>\n",
       "      <th>51874</th>\n",
       "      <td>2010-04-07</td>\n",
       "      <td>venture</td>\n",
       "      <td>partial</td>\n",
       "      <td>271250</td>\n",
       "      <td>USD</td>\n",
       "      <td>\\N</td>\n",
       "      <td>\\N</td>\n",
       "      <td>0</td>\n",
       "      <td>c:286215</td>\n",
       "      <td>Company</td>\n",
       "      <td>...</td>\n",
       "      <td>271250</td>\n",
       "      <td>\\N</td>\n",
       "      <td>\\N</td>\n",
       "      <td>\\N</td>\n",
       "      <td>1</td>\n",
       "      <td>DavidSchulhof</td>\n",
       "      <td>Unaffiliated</td>\n",
       "      <td></td>\n",
       "      <td>Co-Founder</td>\n",
       "      <td>0.0</td>\n",
       "    </tr>\n",
       "  </tbody>\n",
       "</table>\n",
       "<p>51875 rows × 42 columns</p>\n",
       "</div>"
      ],
      "text/plain": [
       "        funded_at funding_round_type funding_round_code raised_amount_usd  \\\n",
       "0      2006-12-01           series-b                  b           8500000   \n",
       "1      2005-10-01           series-a                  a           2800000   \n",
       "2      2008-09-24          series-c+                  c          28700000   \n",
       "3      2011-07-12          series-c+                  d           5000000   \n",
       "4      2004-09-01              angel              angel            500000   \n",
       "...           ...                ...                ...               ...   \n",
       "51870  2010-04-07            venture       unattributed            120000   \n",
       "51871  2010-02-06              other         debt_round           1800180   \n",
       "51872  2013-12-12           series-a                  a           3000000   \n",
       "51873  2013-12-12           series-a                  a            790783   \n",
       "51874  2010-04-07            venture            partial            271250   \n",
       "\n",
       "      raised_currency_code pre_money_valuation_usd post_money_valuation_usd  \\\n",
       "0                      USD                      \\N                       \\N   \n",
       "1                      USD                      \\N                       \\N   \n",
       "2                      USD                      \\N                       \\N   \n",
       "3                      USD                      \\N                       \\N   \n",
       "4                      USD                      \\N                       \\N   \n",
       "...                    ...                     ...                      ...   \n",
       "51870                  USD                      \\N                       \\N   \n",
       "51871                  USD                      \\N                       \\N   \n",
       "51872                  USD                      \\N                       \\N   \n",
       "51873                  USD                      \\N                       \\N   \n",
       "51874                  USD                      \\N                       \\N   \n",
       "\n",
       "       participants        id entity_type  ... funding_total_usd  \\\n",
       "0                 2       c:4     Company  ...               NaN   \n",
       "1                 8       c:4     Company  ...               NaN   \n",
       "2                 4       c:4     Company  ...               NaN   \n",
       "3                 0       c:4     Company  ...               NaN   \n",
       "4                 2       c:5     Company  ...               NaN   \n",
       "...             ...       ...         ...  ...               ...   \n",
       "51870             0  c:256895     Company  ...            120000   \n",
       "51871             0   c:37738     Company  ...           1800180   \n",
       "51872             1  c:211890     Company  ...           3000000   \n",
       "51873             0  c:285864     Company  ...            790783   \n",
       "51874             0  c:286215     Company  ...            271250   \n",
       "\n",
       "      first_milestone_at last_milestone_at milestones relationships  \\\n",
       "0                    NaN               NaN        NaN           NaN   \n",
       "1                    NaN               NaN        NaN           NaN   \n",
       "2                    NaN               NaN        NaN           NaN   \n",
       "3                    NaN               NaN        NaN           NaN   \n",
       "4                    NaN               NaN        NaN           NaN   \n",
       "...                  ...               ...        ...           ...   \n",
       "51870                 \\N                \\N         \\N             3   \n",
       "51871                 \\N                \\N         \\N             8   \n",
       "51872         2007-10-19        2013-12-12          3             4   \n",
       "51873                 \\N                \\N         \\N             1   \n",
       "51874                 \\N                \\N         \\N             1   \n",
       "\n",
       "                                           persons_names  \\\n",
       "0      KevinRose,JayAdelson,OwenByrne,RonGorodetzky,D...   \n",
       "1      KevinRose,JayAdelson,OwenByrne,RonGorodetzky,D...   \n",
       "2      KevinRose,JayAdelson,OwenByrne,RonGorodetzky,D...   \n",
       "3      KevinRose,JayAdelson,OwenByrne,RonGorodetzky,D...   \n",
       "4      MarkZuckerberg,DustinMoskovitz,OwenVanNatta,Ma...   \n",
       "...                                                  ...   \n",
       "51870          MaurizioVecchione,HenkyWibowo,MarkStolper   \n",
       "51871  MichaelPowell,DrewSenyei,LouisBock,EckardWeber...   \n",
       "51872  JacobBlackstock,DavidKennedy,DorianBaldwin,Sha...   \n",
       "51873                                          RomanGaus   \n",
       "51874                                      DavidSchulhof   \n",
       "\n",
       "                                        all_affiliations  \\\n",
       "0      i/oVentures,Digg,Digg,Digg,TinySpeck,LinkedIn,...   \n",
       "1      i/oVentures,Digg,Digg,Digg,TinySpeck,LinkedIn,...   \n",
       "2      i/oVentures,Digg,Digg,Digg,TinySpeck,LinkedIn,...   \n",
       "3      i/oVentures,Digg,Digg,Digg,TinySpeck,LinkedIn,...   \n",
       "4      Facebook,Facebook,Asana,LinkedIn,GeneralCataly...   \n",
       "...                                                  ...   \n",
       "51870                   Thwapr,Unaffiliated,Unaffiliated   \n",
       "51871  Curverider,Unaffiliated,Unaffiliated,Unaffilia...   \n",
       "51872  Unaffiliated,Unaffiliated,Unaffiliated,Unaffil...   \n",
       "51873                                       Unaffiliated   \n",
       "51874                                       Unaffiliated   \n",
       "\n",
       "                                     persons_birthplaces  \\\n",
       "0      Redding,CA-Detroit,MI-NewRochelle,NewYork-Illi...   \n",
       "1      Redding,CA-Detroit,MI-NewRochelle,NewYork-Illi...   \n",
       "2      Redding,CA-Detroit,MI-NewRochelle,NewYork-Illi...   \n",
       "3      Redding,CA-Detroit,MI-NewRochelle,NewYork-Illi...   \n",
       "4      Gainesville,FL-Hickery,NorthCarolina-CedarFall...   \n",
       "...                                                  ...   \n",
       "51870                                 Zurich,Switzerland   \n",
       "51871                                                      \n",
       "51872                                                      \n",
       "51873                                                      \n",
       "51874                                                      \n",
       "\n",
       "                                          persons_titles relationships_days  \n",
       "0      Founder&CEO,ChiefExecutiveOfficer,SeniorSoftwa...            26522.0  \n",
       "1      Founder&CEO,ChiefExecutiveOfficer,SeniorSoftwa...            26522.0  \n",
       "2      Founder&CEO,ChiefExecutiveOfficer,SeniorSoftwa...            26522.0  \n",
       "3      Founder&CEO,ChiefExecutiveOfficer,SeniorSoftwa...            26522.0  \n",
       "4      FounderandCEO,BoardOfDirectors,Co-Founder,Chie...            77960.0  \n",
       "...                                                  ...                ...  \n",
       "51870               CEO,VicePresidentofSoftware,Chairman                0.0  \n",
       "51871  Investor,BoardofDirectors,Director,BoardChairm...                0.0  \n",
       "51872  CEO,CTO,InteractiveDeveloper,VP,BusinessDevelo...                0.0  \n",
       "51873                                                CEO                0.0  \n",
       "51874                                         Co-Founder                0.0  \n",
       "\n",
       "[51875 rows x 42 columns]"
      ]
     },
     "execution_count": 32,
     "metadata": {},
     "output_type": "execute_result"
    }
   ],
   "source": [
    "# dropping columns\n",
    "temp3 = temp3.drop(['object_id_x', 'parent_id', 'object_id_y', 'person_object_id', \n",
    "                    'relationship_object_id', 'start_at', 'end_at'], axis=1)\n",
    "# the resulting DataFrame\n",
    "temp3"
   ]
  },
  {
   "cell_type": "markdown",
   "metadata": {},
   "source": [
    "### Altering data types of columns"
   ]
  },
  {
   "cell_type": "code",
   "execution_count": 33,
   "metadata": {},
   "outputs": [
    {
     "data": {
      "text/plain": [
       "funded_at                    object\n",
       "funding_round_type           object\n",
       "funding_round_code           object\n",
       "raised_amount_usd            object\n",
       "raised_currency_code         object\n",
       "pre_money_valuation_usd      object\n",
       "post_money_valuation_usd     object\n",
       "participants                  int64\n",
       "id                           object\n",
       "entity_type                  object\n",
       "name                         object\n",
       "category_code                object\n",
       "status                       object\n",
       "founded_at                   object\n",
       "closed_at                    object\n",
       "domain                       object\n",
       "twitter_username             object\n",
       "logo_width                   object\n",
       "logo_height                  object\n",
       "description                  object\n",
       "tag_list                     object\n",
       "country_code                 object\n",
       "state_code                   object\n",
       "city                         object\n",
       "region                       object\n",
       "first_investment_at          object\n",
       "last_investment_at           object\n",
       "investment_rounds            object\n",
       "invested_companies           object\n",
       "first_funding_at             object\n",
       "last_funding_at              object\n",
       "funding_rounds               object\n",
       "funding_total_usd            object\n",
       "first_milestone_at           object\n",
       "last_milestone_at            object\n",
       "milestones                   object\n",
       "relationships                object\n",
       "persons_names                object\n",
       "all_affiliations             object\n",
       "persons_birthplaces          object\n",
       "persons_titles               object\n",
       "relationships_days          float64\n",
       "dtype: object"
      ]
     },
     "execution_count": 33,
     "metadata": {},
     "output_type": "execute_result"
    }
   ],
   "source": [
    "temp3.dtypes"
   ]
  },
  {
   "cell_type": "code",
   "execution_count": 34,
   "metadata": {},
   "outputs": [],
   "source": [
    "# columns to be converted to Datetime columns\n",
    "datetime_cols = ['funded_at', 'founded_at', 'closed_at', 'first_investment_at',\n",
    "                 'last_investment_at', 'first_funding_at', 'last_funding_at',\n",
    "                'first_milestone_at', 'last_milestone_at']\n",
    "\n",
    "# columns to be converted to numerical ones\n",
    "num_cols = ['raised_amount_usd', 'pre_money_valuation_usd', 'post_money_valuation_usd',\n",
    "             'funding_total_usd', 'logo_width', 'logo_height', 'investment_rounds', \n",
    "            'invested_companies', 'funding_rounds', 'milestones', 'relationships']\n",
    "\n",
    "# defining a function for converting columns to the 'datetime' / 'numeric' format\n",
    "def convert_columns(df, cols, dtype):\n",
    "    if dtype == 'dt':\n",
    "        for col in cols:\n",
    "            df[col] = pd.to_datetime(df[col], errors='coerce')\n",
    "    elif dtype == 'num':\n",
    "        for col in cols:\n",
    "            df[col] = pd.to_numeric(df[col], errors='coerce')"
   ]
  },
  {
   "cell_type": "markdown",
   "metadata": {},
   "source": [
    "<ins>__Converting columns__</ins>"
   ]
  },
  {
   "cell_type": "markdown",
   "metadata": {},
   "source": [
    "__Note__: We will convert all numerical columns to the `float` data type, so as to deal with `NaN` values more easily later."
   ]
  },
  {
   "cell_type": "code",
   "execution_count": 35,
   "metadata": {},
   "outputs": [
    {
     "data": {
      "text/plain": [
       "funded_at                   datetime64[ns]\n",
       "funding_round_type                  object\n",
       "funding_round_code                  object\n",
       "raised_amount_usd                  float64\n",
       "raised_currency_code                object\n",
       "pre_money_valuation_usd            float64\n",
       "post_money_valuation_usd           float64\n",
       "participants                         int64\n",
       "id                                  object\n",
       "entity_type                         object\n",
       "name                                object\n",
       "category_code                       object\n",
       "status                              object\n",
       "founded_at                  datetime64[ns]\n",
       "closed_at                   datetime64[ns]\n",
       "domain                              object\n",
       "twitter_username                    object\n",
       "logo_width                         float64\n",
       "logo_height                        float64\n",
       "description                         object\n",
       "tag_list                            object\n",
       "country_code                        object\n",
       "state_code                          object\n",
       "city                                object\n",
       "region                              object\n",
       "first_investment_at         datetime64[ns]\n",
       "last_investment_at          datetime64[ns]\n",
       "investment_rounds                  float64\n",
       "invested_companies                 float64\n",
       "first_funding_at            datetime64[ns]\n",
       "last_funding_at             datetime64[ns]\n",
       "funding_rounds                     float64\n",
       "funding_total_usd                  float64\n",
       "first_milestone_at          datetime64[ns]\n",
       "last_milestone_at           datetime64[ns]\n",
       "milestones                         float64\n",
       "relationships                      float64\n",
       "persons_names                       object\n",
       "all_affiliations                    object\n",
       "persons_birthplaces                 object\n",
       "persons_titles                      object\n",
       "relationships_days                 float64\n",
       "dtype: object"
      ]
     },
     "execution_count": 35,
     "metadata": {},
     "output_type": "execute_result"
    }
   ],
   "source": [
    "# datetime\n",
    "convert_columns(temp3, datetime_cols, 'dt')\n",
    "\n",
    "# numeric\n",
    "convert_columns(temp3, num_cols, 'num')\n",
    "\n",
    "temp3.dtypes"
   ]
  },
  {
   "cell_type": "markdown",
   "metadata": {},
   "source": [
    "## Exploring data"
   ]
  },
  {
   "cell_type": "markdown",
   "metadata": {},
   "source": [
    "<ins>**Analysing data relevant to _Series A fundings_**</ins>"
   ]
  },
  {
   "cell_type": "code",
   "execution_count": 36,
   "metadata": {},
   "outputs": [
    {
     "name": "stdout",
     "output_type": "stream",
     "text": [
      "Number of Series A Fundings: 9665\n",
      "Unique companies: 8711 \n",
      "\n",
      "Some rows from funding-related features (name-wise)\n"
     ]
    },
    {
     "data": {
      "text/html": [
       "<div>\n",
       "<style scoped>\n",
       "    .dataframe tbody tr th:only-of-type {\n",
       "        vertical-align: middle;\n",
       "    }\n",
       "\n",
       "    .dataframe tbody tr th {\n",
       "        vertical-align: top;\n",
       "    }\n",
       "\n",
       "    .dataframe thead th {\n",
       "        text-align: right;\n",
       "    }\n",
       "</style>\n",
       "<table border=\"1\" class=\"dataframe\">\n",
       "  <thead>\n",
       "    <tr style=\"text-align: right;\">\n",
       "      <th></th>\n",
       "      <th>funded_at</th>\n",
       "      <th>funding_round_type</th>\n",
       "      <th>funding_round_code</th>\n",
       "      <th>first_funding_at</th>\n",
       "      <th>last_funding_at</th>\n",
       "      <th>funding_rounds</th>\n",
       "      <th>funding_total_usd</th>\n",
       "    </tr>\n",
       "  </thead>\n",
       "  <tbody>\n",
       "    <tr>\n",
       "      <th>1</th>\n",
       "      <td>2005-10-01</td>\n",
       "      <td>series-a</td>\n",
       "      <td>a</td>\n",
       "      <td>NaT</td>\n",
       "      <td>NaT</td>\n",
       "      <td>NaN</td>\n",
       "      <td>NaN</td>\n",
       "    </tr>\n",
       "    <tr>\n",
       "      <th>5</th>\n",
       "      <td>2005-05-01</td>\n",
       "      <td>series-a</td>\n",
       "      <td>a</td>\n",
       "      <td>NaT</td>\n",
       "      <td>NaT</td>\n",
       "      <td>NaN</td>\n",
       "      <td>NaN</td>\n",
       "    </tr>\n",
       "    <tr>\n",
       "      <th>16</th>\n",
       "      <td>2005-03-01</td>\n",
       "      <td>series-a</td>\n",
       "      <td>a</td>\n",
       "      <td>2005-03-01</td>\n",
       "      <td>2013-05-14</td>\n",
       "      <td>7.0</td>\n",
       "      <td>33672656.0</td>\n",
       "    </tr>\n",
       "    <tr>\n",
       "      <th>17</th>\n",
       "      <td>2006-11-10</td>\n",
       "      <td>series-a</td>\n",
       "      <td>a</td>\n",
       "      <td>2005-03-01</td>\n",
       "      <td>2013-05-14</td>\n",
       "      <td>7.0</td>\n",
       "      <td>33672656.0</td>\n",
       "    </tr>\n",
       "    <tr>\n",
       "      <th>22</th>\n",
       "      <td>2007-01-01</td>\n",
       "      <td>series-a</td>\n",
       "      <td>a</td>\n",
       "      <td>2007-01-01</td>\n",
       "      <td>2009-01-19</td>\n",
       "      <td>3.0</td>\n",
       "      <td>16500000.0</td>\n",
       "    </tr>\n",
       "  </tbody>\n",
       "</table>\n",
       "</div>"
      ],
      "text/plain": [
       "    funded_at funding_round_type funding_round_code first_funding_at  \\\n",
       "1  2005-10-01           series-a                  a              NaT   \n",
       "5  2005-05-01           series-a                  a              NaT   \n",
       "16 2005-03-01           series-a                  a       2005-03-01   \n",
       "17 2006-11-10           series-a                  a       2005-03-01   \n",
       "22 2007-01-01           series-a                  a       2007-01-01   \n",
       "\n",
       "   last_funding_at  funding_rounds  funding_total_usd  \n",
       "1              NaT             NaN                NaN  \n",
       "5              NaT             NaN                NaN  \n",
       "16      2013-05-14             7.0         33672656.0  \n",
       "17      2013-05-14             7.0         33672656.0  \n",
       "22      2009-01-19             3.0         16500000.0  "
      ]
     },
     "execution_count": 36,
     "metadata": {},
     "output_type": "execute_result"
    }
   ],
   "source": [
    "seriesa = temp3.loc[temp3['funding_round_type'] == 'series-a']\n",
    "# number of Series A fundings\n",
    "print('Number of Series A Fundings:', len(seriesa))\n",
    "\n",
    "# number of unique companies that raised a Series A\n",
    "print('Unique companies:',seriesa['id'].nunique(), \"\\n\")\n",
    "\n",
    "# viewing some rows of all the funding-related features (name-wise)\n",
    "print(\"Some rows from funding-related features (name-wise)\")\n",
    "seriesa.filter(like='fund').head()"
   ]
  },
  {
   "cell_type": "markdown",
   "metadata": {},
   "source": [
    "<ins>**Exploring _fundings-related_ data**</ins>"
   ]
  },
  {
   "cell_type": "code",
   "execution_count": 37,
   "metadata": {},
   "outputs": [
    {
     "name": "stdout",
     "output_type": "stream",
     "text": [
      "Most common funding sums\n",
      "\n",
      "1000000.0     715\n",
      "500000.0      529\n",
      "100000.0      492\n",
      "2000000.0     486\n",
      "10000000.0    443\n",
      "Name: funding_total_usd, dtype: int64\n",
      "\n",
      "Fundings and respective capital raised by a random company \n",
      "\n",
      "  funding_round_type  raised_amount_usd\n",
      "0           series-b          8500000.0\n",
      "1           series-a          2800000.0\n",
      "2          series-c+         28700000.0\n",
      "3          series-c+          5000000.0 \n",
      "\n",
      "Funding-related features for a random company\n"
     ]
    },
    {
     "data": {
      "text/html": [
       "<div>\n",
       "<style scoped>\n",
       "    .dataframe tbody tr th:only-of-type {\n",
       "        vertical-align: middle;\n",
       "    }\n",
       "\n",
       "    .dataframe tbody tr th {\n",
       "        vertical-align: top;\n",
       "    }\n",
       "\n",
       "    .dataframe thead th {\n",
       "        text-align: right;\n",
       "    }\n",
       "</style>\n",
       "<table border=\"1\" class=\"dataframe\">\n",
       "  <thead>\n",
       "    <tr style=\"text-align: right;\">\n",
       "      <th></th>\n",
       "      <th>funded_at</th>\n",
       "      <th>funding_round_type</th>\n",
       "      <th>funding_round_code</th>\n",
       "      <th>first_funding_at</th>\n",
       "      <th>last_funding_at</th>\n",
       "      <th>funding_rounds</th>\n",
       "      <th>funding_total_usd</th>\n",
       "    </tr>\n",
       "  </thead>\n",
       "  <tbody>\n",
       "    <tr>\n",
       "      <th>15</th>\n",
       "      <td>2006-05-01</td>\n",
       "      <td>series-b</td>\n",
       "      <td>b</td>\n",
       "      <td>2005-03-01</td>\n",
       "      <td>2013-05-14</td>\n",
       "      <td>7.0</td>\n",
       "      <td>33672656.0</td>\n",
       "    </tr>\n",
       "    <tr>\n",
       "      <th>16</th>\n",
       "      <td>2005-03-01</td>\n",
       "      <td>series-a</td>\n",
       "      <td>a</td>\n",
       "      <td>2005-03-01</td>\n",
       "      <td>2013-05-14</td>\n",
       "      <td>7.0</td>\n",
       "      <td>33672656.0</td>\n",
       "    </tr>\n",
       "    <tr>\n",
       "      <th>17</th>\n",
       "      <td>2006-11-10</td>\n",
       "      <td>series-a</td>\n",
       "      <td>a</td>\n",
       "      <td>2005-03-01</td>\n",
       "      <td>2013-05-14</td>\n",
       "      <td>7.0</td>\n",
       "      <td>33672656.0</td>\n",
       "    </tr>\n",
       "    <tr>\n",
       "      <th>18</th>\n",
       "      <td>2008-02-17</td>\n",
       "      <td>series-b</td>\n",
       "      <td>b</td>\n",
       "      <td>2005-03-01</td>\n",
       "      <td>2013-05-14</td>\n",
       "      <td>7.0</td>\n",
       "      <td>33672656.0</td>\n",
       "    </tr>\n",
       "    <tr>\n",
       "      <th>19</th>\n",
       "      <td>2008-05-25</td>\n",
       "      <td>series-b</td>\n",
       "      <td>b</td>\n",
       "      <td>2005-03-01</td>\n",
       "      <td>2013-05-14</td>\n",
       "      <td>7.0</td>\n",
       "      <td>33672656.0</td>\n",
       "    </tr>\n",
       "    <tr>\n",
       "      <th>20</th>\n",
       "      <td>2009-02-16</td>\n",
       "      <td>venture</td>\n",
       "      <td>unattributed</td>\n",
       "      <td>2005-03-01</td>\n",
       "      <td>2013-05-14</td>\n",
       "      <td>7.0</td>\n",
       "      <td>33672656.0</td>\n",
       "    </tr>\n",
       "    <tr>\n",
       "      <th>21</th>\n",
       "      <td>2013-05-14</td>\n",
       "      <td>venture</td>\n",
       "      <td>partial</td>\n",
       "      <td>2005-03-01</td>\n",
       "      <td>2013-05-14</td>\n",
       "      <td>7.0</td>\n",
       "      <td>33672656.0</td>\n",
       "    </tr>\n",
       "  </tbody>\n",
       "</table>\n",
       "</div>"
      ],
      "text/plain": [
       "    funded_at funding_round_type funding_round_code first_funding_at  \\\n",
       "15 2006-05-01           series-b                  b       2005-03-01   \n",
       "16 2005-03-01           series-a                  a       2005-03-01   \n",
       "17 2006-11-10           series-a                  a       2005-03-01   \n",
       "18 2008-02-17           series-b                  b       2005-03-01   \n",
       "19 2008-05-25           series-b                  b       2005-03-01   \n",
       "20 2009-02-16            venture       unattributed       2005-03-01   \n",
       "21 2013-05-14            venture            partial       2005-03-01   \n",
       "\n",
       "   last_funding_at  funding_rounds  funding_total_usd  \n",
       "15      2013-05-14             7.0         33672656.0  \n",
       "16      2013-05-14             7.0         33672656.0  \n",
       "17      2013-05-14             7.0         33672656.0  \n",
       "18      2013-05-14             7.0         33672656.0  \n",
       "19      2013-05-14             7.0         33672656.0  \n",
       "20      2013-05-14             7.0         33672656.0  \n",
       "21      2013-05-14             7.0         33672656.0  "
      ]
     },
     "execution_count": 37,
     "metadata": {},
     "output_type": "execute_result"
    }
   ],
   "source": [
    "# top counts of fundings values (including NaNs)\n",
    "print(f\"Most common funding sums\\n\")\n",
    "print(f\"{temp3['funding_total_usd'].value_counts().head()}\\n\")\n",
    "\n",
    "# funding round types and respective sums raised by a specific company\n",
    "print(\"Fundings and respective capital raised by a random company\", \"\\n\")\n",
    "print(temp3.loc[temp3['id'] == 'c:4'][['funding_round_type','raised_amount_usd']], \"\\n\")\n",
    "\n",
    "# funding-related features (name-wise) for a specific company\n",
    "print(\"Funding-related features for a random company\")\n",
    "temp3.loc[temp3['id'] == 'c:7299'].filter(like='fund')"
   ]
  },
  {
   "cell_type": "markdown",
   "metadata": {},
   "source": [
    "<ins>**Exploring the `funding_rounds` and `investment_rounds` features**</ins>"
   ]
  },
  {
   "cell_type": "code",
   "execution_count": 38,
   "metadata": {},
   "outputs": [
    {
     "name": "stdout",
     "output_type": "stream",
     "text": [
      "Number of cases where a company had equal numbers of funding and investment rounds \n",
      "\n",
      "False    51760\n",
      "True       115\n",
      "dtype: int64 \n",
      "\n",
      "Total funding rounds (top 3)\n",
      "\n",
      "1.0    19568\n",
      "2.0    11578\n",
      "3.0     7524\n",
      "Name: funding_rounds, dtype: int64 \n",
      "\n",
      "Total investment rounds (top 3)\n",
      "\n",
      "1.0    287\n",
      "2.0     53\n",
      "3.0     33\n",
      "Name: investment_rounds, dtype: int64 \n",
      "\n",
      "Companies with most investment rounds (top 5)\n"
     ]
    },
    {
     "data": {
      "text/html": [
       "<div>\n",
       "<style scoped>\n",
       "    .dataframe tbody tr th:only-of-type {\n",
       "        vertical-align: middle;\n",
       "    }\n",
       "\n",
       "    .dataframe tbody tr th {\n",
       "        vertical-align: top;\n",
       "    }\n",
       "\n",
       "    .dataframe thead th {\n",
       "        text-align: right;\n",
       "    }\n",
       "</style>\n",
       "<table border=\"1\" class=\"dataframe\">\n",
       "  <thead>\n",
       "    <tr style=\"text-align: right;\">\n",
       "      <th></th>\n",
       "      <th>investment_rounds</th>\n",
       "      <th>name</th>\n",
       "    </tr>\n",
       "  </thead>\n",
       "  <tbody>\n",
       "    <tr>\n",
       "      <th>25532</th>\n",
       "      <td>297.0</td>\n",
       "      <td>Techstars</td>\n",
       "    </tr>\n",
       "    <tr>\n",
       "      <th>3311</th>\n",
       "      <td>89.0</td>\n",
       "      <td>Cisco</td>\n",
       "    </tr>\n",
       "    <tr>\n",
       "      <th>27378</th>\n",
       "      <td>58.0</td>\n",
       "      <td>Rock Health</td>\n",
       "    </tr>\n",
       "    <tr>\n",
       "      <th>35895</th>\n",
       "      <td>49.0</td>\n",
       "      <td>FundersClub</td>\n",
       "    </tr>\n",
       "    <tr>\n",
       "      <th>25773</th>\n",
       "      <td>40.0</td>\n",
       "      <td>Seedcamp</td>\n",
       "    </tr>\n",
       "  </tbody>\n",
       "</table>\n",
       "</div>"
      ],
      "text/plain": [
       "       investment_rounds         name\n",
       "25532              297.0    Techstars\n",
       "3311                89.0        Cisco\n",
       "27378               58.0  Rock Health\n",
       "35895               49.0  FundersClub\n",
       "25773               40.0     Seedcamp"
      ]
     },
     "execution_count": 38,
     "metadata": {},
     "output_type": "execute_result"
    }
   ],
   "source": [
    "# direct comparison\n",
    "print(\"Number of cases where a company had equal numbers of funding and investment rounds\", \"\\n\")\n",
    "print((temp3['funding_rounds'] == temp3['investment_rounds']).value_counts(), \"\\n\")\n",
    "\n",
    "# top 3 counts of the number of funding rounds\n",
    "print(f\"Total funding rounds (top 3)\\n\")\n",
    "print(temp3['funding_rounds'].value_counts().head(3), \"\\n\")\n",
    "\n",
    "# top counts of the number of investment rounds\n",
    "print(f\"Total investment rounds (top 3)\\n\")\n",
    "print(temp3['investment_rounds'].value_counts().head(3), \"\\n\")\n",
    "\n",
    "# companies with most investment rounds\n",
    "print(\"Companies with most investment rounds (top 5)\")\n",
    "temp3[['investment_rounds','name']].dropna().drop_duplicates().sort_values(by='investment_rounds',ascending=False).head()"
   ]
  },
  {
   "cell_type": "markdown",
   "metadata": {},
   "source": [
    "### Checking for columns with a single value"
   ]
  },
  {
   "cell_type": "markdown",
   "metadata": {},
   "source": [
    "__Note__: Columns with a single value (__zero-variance predictors__) would probably not be useful for modelling and we can remove them."
   ]
  },
  {
   "cell_type": "code",
   "execution_count": 39,
   "metadata": {},
   "outputs": [
    {
     "data": {
      "text/plain": [
       "funded_at                    3385\n",
       "funding_round_type              9\n",
       "funding_round_code             20\n",
       "raised_amount_usd           10406\n",
       "raised_currency_code            9\n",
       "pre_money_valuation_usd        21\n",
       "post_money_valuation_usd      457\n",
       "participants                   32\n",
       "id                          31268\n",
       "entity_type                     1\n",
       "name                        31268\n",
       "category_code                  43\n",
       "status                          4\n",
       "founded_at                   2391\n",
       "closed_at                     792\n",
       "domain                      29582\n",
       "twitter_username            18646\n",
       "logo_width                   2125\n",
       "logo_height                  1324\n",
       "description                 17555\n",
       "tag_list                    13179\n",
       "country_code                  537\n",
       "state_code                    340\n",
       "city                         4585\n",
       "region                       2557\n",
       "first_investment_at           211\n",
       "last_investment_at            212\n",
       "investment_rounds              22\n",
       "invested_companies             20\n",
       "first_funding_at             3168\n",
       "last_funding_at              2945\n",
       "funding_rounds                 15\n",
       "funding_total_usd            9390\n",
       "first_milestone_at           2054\n",
       "last_milestone_at            1911\n",
       "milestones                      9\n",
       "relationships                  90\n",
       "persons_names               24506\n",
       "all_affiliations            11794\n",
       "persons_birthplaces          3767\n",
       "persons_titles              17788\n",
       "relationships_days           2439\n",
       "dtype: int64"
      ]
     },
     "execution_count": 39,
     "metadata": {},
     "output_type": "execute_result"
    }
   ],
   "source": [
    "temp3.nunique()"
   ]
  },
  {
   "cell_type": "markdown",
   "metadata": {},
   "source": [
    "Based on the aforementioned the `entity_type` column will be removed."
   ]
  },
  {
   "cell_type": "code",
   "execution_count": 40,
   "metadata": {},
   "outputs": [
    {
     "name": "stdout",
     "output_type": "stream",
     "text": [
      "Unique value to be removed:\n",
      "Company    51875\n",
      "Name: entity_type, dtype: int64\n"
     ]
    }
   ],
   "source": [
    "# viewing the feature's unique value\n",
    "print(f\"Unique value to be removed:\\n{temp3['entity_type'].value_counts()}\")\n",
    "\n",
    "# removing the feature\n",
    "temp3 = temp3.drop('entity_type',axis=1)"
   ]
  },
  {
   "cell_type": "markdown",
   "metadata": {},
   "source": [
    "__Note__: We now have a much cleaner dataset than in the beginning (more cleaning/preprocessing to follow) and will share our thoughts regarding the approach we will follow to complete the project."
   ]
  },
  {
   "cell_type": "markdown",
   "metadata": {},
   "source": [
    "## Modelling approach / Mathematical solution\n",
    "\n",
    "We will model the project as a __regression ML project__. More specifically we will have a _supervised batch multiple univariate regression project_. Treating this task as a regression one will allow us to assess whether a startup will raise a Series A funding and also predict the relevant sum (we will predict the company's total funding from the angel and Series A rounds and from that estimate its Series A sum).\n",
    "\n",
    "To that end, we need to define a __lower threshold/bound for a Series A raised amount__. One way to do that, especially considering the structure and characteristics of the available data, is to calculate the **_upper bound of a typical angel funding_**, and assuming that this type of funding is the first one ever chronologically, we will then be able to determine if a startup will raise a Series A by predicting the total funding amount the company will secure. In case that amount is higher than the deciding value we will select as an *upper angel round threshold*, we will assume that the company will raise (at least) a Series A funding.\n",
    "\n",
    "Our __target variable__ (our labels) will be the __total funding amount__ (feature `funding_total_usd` and as we mentioned earlier the total funding is the funding from the first 2 funding rounds in our case) and in order to calculate the necessary upper threshold we will utilise an **_optimal percentile of the aggregated angel fundings_** (so we need to calculate the total angel funding sum per company) using the categorisation of funding rounds according to the `funding_round_type`.\n",
    "\n",
    "In order to be able to estimate the **\"percentage\" (sum) of a company's total funding that corresponds to its Series A**, we will carry out a relevant quick analysis (it will be presented in a bit under the title *__Estimating a total funding's Series A percentage__*; <ins>due to the fact that we are missing a lot of data, as many funding rounds have not been disclosed, the result might not necessarily be realistic</ins>).\n",
    "\n",
    "__Notes__: \n",
    "\n",
    "1. We could also calculate a lower threshold with regard to Series A investments and confirm that this threshold is a value higher than the upper angel A funding, but there isn't always a clear segmentation of raised Angel and Series A sums, meaning there is some overlap between high values of angel fundings and low values of Series A (or perhaps even later stage rounds) fundings; a relevant Series A analysis under the title *__Series A round (aggregated sums) data analysis__* will be presented a bit further down. For that reason we will stick to defining an upper _angel funding_ bound using the `funding_round_type` column.\n",
    "\n",
    "\n",
    "2. We carried out a quick analysis (that follows right away) to assess whether we could utilise the `funding_round_code` column to set a lower Series A threshold, but that column includes many unattributed/unassigned values and it looks a bit messy (on many occasions the categorisations of the two columns do not agree), so for categorising the various funding rounds we used solely the `funding_round_type` column."
   ]
  },
  {
   "cell_type": "markdown",
   "metadata": {},
   "source": [
    "<ins>**Analysing/Exploring data relevant to _funding round categorisations_**</ins>"
   ]
  },
  {
   "cell_type": "code",
   "execution_count": 41,
   "metadata": {},
   "outputs": [
    {
     "name": "stdout",
     "output_type": "stream",
     "text": [
      "'funding_round_type' categorisation counts of values\n",
      "\n",
      "venture           15340\n",
      "angel             13161\n",
      "series-a           9872\n",
      "series-b           4891\n",
      "series-c+          4215\n",
      "other              4200\n",
      "private-equity     1043\n",
      "crowdfunding        111\n",
      "post-ipo             87\n",
      "Name: funding_round_type, dtype: int64 \n",
      "\n",
      "'funding_round_code' categorisation counts of values\n",
      "\n",
      "unattributed        12225\n",
      "seed                11607\n",
      "a                    7998\n",
      "b                    4891\n",
      "debt_round           3408\n",
      "angel                3238\n",
      "partial              3115\n",
      "c                    2498\n",
      "d                    1129\n",
      "private_equity       1043\n",
      "grant                 776\n",
      "e                     430\n",
      "convertible           187\n",
      "f                     145\n",
      "crowd                 111\n",
      "post_ipo_equity        80\n",
      "secondary_market       16\n",
      "g                      13\n",
      "post_ipo_debt           7\n",
      "crowd_equity            3\n",
      "Name: funding_round_code, dtype: int64 \n",
      "\n",
      "TYPE CATEGORISATION: 'Other' fundings\n",
      "debt_round          3351\n",
      "grant                758\n",
      "secondary_market      16\n",
      "Name: funding_round_code, dtype: int64 \n",
      "\n",
      "TYPE CATEGORISATION: 'Venture' fundings\n",
      "unattributed    12012\n",
      "partial          3071\n",
      "Name: funding_round_code, dtype: int64 \n",
      "\n",
      "TYPE CATEGORISATION: 'Series A' fundings\n",
      "a               7840\n",
      "seed            1389\n",
      "angel            394\n",
      "convertible       41\n",
      "crowd_equity       1\n",
      "Name: funding_round_code, dtype: int64 \n",
      "\n",
      "CODE CATEGORISATION: 'Seed' fundings\n",
      "angel       9976\n",
      "series-a    1389\n",
      "Name: funding_round_type, dtype: int64 \n",
      "\n",
      "CODE CATEGORISATION: 'Angel' fundings\n",
      "angel       2726\n",
      "series-a     394\n",
      "Name: funding_round_type, dtype: int64\n"
     ]
    }
   ],
   "source": [
    "# values & counts of the 2 different funding round categorisations\n",
    "print(f\"'funding_round_type' categorisation counts of values\\n\")\n",
    "print(funding_rounds['funding_round_type'].value_counts(),\"\\n\")\n",
    "\n",
    "print(f\"'funding_round_code' categorisation counts of values\\n\")\n",
    "print(funding_rounds['funding_round_code'].value_counts(), \"\\n\")\n",
    "\n",
    "# 'funding_round_code' categories and counts for the 'other', Venture and Series A fundings from the \n",
    "# 'funding_round_type' column\n",
    "print(f\"TYPE CATEGORISATION: 'Other' fundings\")\n",
    "print(temp3.loc[temp3['funding_round_type'] == 'other']['funding_round_code'].value_counts(), \"\\n\")\n",
    "print(f\"TYPE CATEGORISATION: 'Venture' fundings\")\n",
    "print(temp3.loc[temp3['funding_round_type'] == 'venture']['funding_round_code'].value_counts(), \"\\n\")\n",
    "print(f\"TYPE CATEGORISATION: 'Series A' fundings\")\n",
    "print(temp3.loc[temp3['funding_round_type'] == 'series-a']['funding_round_code'].value_counts(), \"\\n\")\n",
    "\n",
    "# 'funding_round_type' categories and counts for the Seed and Angel fundings from the \n",
    "# 'funding_round_code' column\n",
    "print(f\"CODE CATEGORISATION: 'Seed' fundings\")\n",
    "print(temp3.loc[temp3['funding_round_code'] == 'seed']['funding_round_type'].value_counts(), \"\\n\")\n",
    "print(f\"CODE CATEGORISATION: 'Angel' fundings\")\n",
    "print(temp3.loc[temp3['funding_round_code'] == 'angel']['funding_round_type'].value_counts())"
   ]
  },
  {
   "cell_type": "markdown",
   "metadata": {},
   "source": [
    "### Defining a lower bound for an Angel round funding"
   ]
  },
  {
   "cell_type": "markdown",
   "metadata": {},
   "source": [
    "We will first calculate the __total funding per round for every company__."
   ]
  },
  {
   "cell_type": "code",
   "execution_count": 42,
   "metadata": {},
   "outputs": [
    {
     "name": "stdout",
     "output_type": "stream",
     "text": [
      "Column headers \n",
      " [('raised_amount_usd', 'angel') ('raised_amount_usd', 'crowdfunding')\n",
      " ('raised_amount_usd', 'other') ('raised_amount_usd', 'post-ipo')\n",
      " ('raised_amount_usd', 'private-equity') ('raised_amount_usd', 'series-a')\n",
      " ('raised_amount_usd', 'series-b') ('raised_amount_usd', 'series-c+')\n",
      " ('raised_amount_usd', 'venture')]\n"
     ]
    },
    {
     "data": {
      "text/html": [
       "<div>\n",
       "<style scoped>\n",
       "    .dataframe tbody tr th:only-of-type {\n",
       "        vertical-align: middle;\n",
       "    }\n",
       "\n",
       "    .dataframe tbody tr th {\n",
       "        vertical-align: top;\n",
       "    }\n",
       "\n",
       "    .dataframe thead tr th {\n",
       "        text-align: left;\n",
       "    }\n",
       "\n",
       "    .dataframe thead tr:last-of-type th {\n",
       "        text-align: right;\n",
       "    }\n",
       "</style>\n",
       "<table border=\"1\" class=\"dataframe\">\n",
       "  <thead>\n",
       "    <tr>\n",
       "      <th></th>\n",
       "      <th colspan=\"9\" halign=\"left\">raised_amount_usd</th>\n",
       "    </tr>\n",
       "    <tr>\n",
       "      <th>funding_round_type</th>\n",
       "      <th>angel</th>\n",
       "      <th>crowdfunding</th>\n",
       "      <th>other</th>\n",
       "      <th>post-ipo</th>\n",
       "      <th>private-equity</th>\n",
       "      <th>series-a</th>\n",
       "      <th>series-b</th>\n",
       "      <th>series-c+</th>\n",
       "      <th>venture</th>\n",
       "    </tr>\n",
       "    <tr>\n",
       "      <th>id</th>\n",
       "      <th></th>\n",
       "      <th></th>\n",
       "      <th></th>\n",
       "      <th></th>\n",
       "      <th></th>\n",
       "      <th></th>\n",
       "      <th></th>\n",
       "      <th></th>\n",
       "      <th></th>\n",
       "    </tr>\n",
       "  </thead>\n",
       "  <tbody>\n",
       "    <tr>\n",
       "      <th>c:1</th>\n",
       "      <td>NaN</td>\n",
       "      <td>NaN</td>\n",
       "      <td>NaN</td>\n",
       "      <td>NaN</td>\n",
       "      <td>NaN</td>\n",
       "      <td>5250000.0</td>\n",
       "      <td>9500000.0</td>\n",
       "      <td>25000000.0</td>\n",
       "      <td>NaN</td>\n",
       "    </tr>\n",
       "    <tr>\n",
       "      <th>c:1001</th>\n",
       "      <td>NaN</td>\n",
       "      <td>NaN</td>\n",
       "      <td>NaN</td>\n",
       "      <td>NaN</td>\n",
       "      <td>NaN</td>\n",
       "      <td>5000000.0</td>\n",
       "      <td>NaN</td>\n",
       "      <td>NaN</td>\n",
       "      <td>NaN</td>\n",
       "    </tr>\n",
       "    <tr>\n",
       "      <th>c:10014</th>\n",
       "      <td>0.0</td>\n",
       "      <td>NaN</td>\n",
       "      <td>NaN</td>\n",
       "      <td>NaN</td>\n",
       "      <td>NaN</td>\n",
       "      <td>NaN</td>\n",
       "      <td>NaN</td>\n",
       "      <td>NaN</td>\n",
       "      <td>NaN</td>\n",
       "    </tr>\n",
       "    <tr>\n",
       "      <th>c:10015</th>\n",
       "      <td>NaN</td>\n",
       "      <td>NaN</td>\n",
       "      <td>NaN</td>\n",
       "      <td>NaN</td>\n",
       "      <td>NaN</td>\n",
       "      <td>2000000.0</td>\n",
       "      <td>9000000.0</td>\n",
       "      <td>55000000.0</td>\n",
       "      <td>2069200.0</td>\n",
       "    </tr>\n",
       "    <tr>\n",
       "      <th>c:100155</th>\n",
       "      <td>NaN</td>\n",
       "      <td>NaN</td>\n",
       "      <td>375293.0</td>\n",
       "      <td>NaN</td>\n",
       "      <td>NaN</td>\n",
       "      <td>NaN</td>\n",
       "      <td>9750000.0</td>\n",
       "      <td>NaN</td>\n",
       "      <td>NaN</td>\n",
       "    </tr>\n",
       "  </tbody>\n",
       "</table>\n",
       "</div>"
      ],
      "text/plain": [
       "                   raised_amount_usd                                  \\\n",
       "funding_round_type             angel crowdfunding     other post-ipo   \n",
       "id                                                                     \n",
       "c:1                              NaN          NaN       NaN      NaN   \n",
       "c:1001                           NaN          NaN       NaN      NaN   \n",
       "c:10014                          0.0          NaN       NaN      NaN   \n",
       "c:10015                          NaN          NaN       NaN      NaN   \n",
       "c:100155                         NaN          NaN  375293.0      NaN   \n",
       "\n",
       "                                                                                \n",
       "funding_round_type private-equity   series-a   series-b   series-c+    venture  \n",
       "id                                                                              \n",
       "c:1                           NaN  5250000.0  9500000.0  25000000.0        NaN  \n",
       "c:1001                        NaN  5000000.0        NaN         NaN        NaN  \n",
       "c:10014                       NaN        NaN        NaN         NaN        NaN  \n",
       "c:10015                       NaN  2000000.0  9000000.0  55000000.0  2069200.0  \n",
       "c:100155                      NaN        NaN  9750000.0         NaN        NaN  "
      ]
     },
     "execution_count": 42,
     "metadata": {},
     "output_type": "execute_result"
    }
   ],
   "source": [
    "grouped_rounds = temp3.groupby(['id', 'funding_round_type'])['raised_amount_usd'].sum().to_frame()\n",
    "grouped_rounds['funding_round_type'] = grouped_rounds.index.get_level_values(1)\n",
    "grouped_rounds = grouped_rounds.droplevel(1)\n",
    "grouped_rounds = grouped_rounds.pivot(columns='funding_round_type')\n",
    "print(\"Column headers\", \"\\n\", grouped_rounds.columns.values)\n",
    "grouped_rounds.head()"
   ]
  },
  {
   "cell_type": "code",
   "execution_count": 43,
   "metadata": {},
   "outputs": [
    {
     "name": "stdout",
     "output_type": "stream",
     "text": [
      "Descriptive statistics for Series A fundings \n",
      "\n",
      "count    8.711000e+03\n",
      "mean     6.560041e+06\n",
      "std      1.703557e+07\n",
      "min      0.000000e+00\n",
      "25%      1.600000e+06\n",
      "50%      3.200000e+06\n",
      "75%      6.500000e+06\n",
      "max      6.817591e+08\n",
      "Name: series-a_usd, dtype: float64 \n",
      "\n",
      "Fundings of a random company\n",
      "\n",
      "angel_usd                    NaN\n",
      "crowdfunding_usd             NaN\n",
      "other_usd                    NaN\n",
      "post-ipo_usd                 NaN\n",
      "private-equity_usd           NaN\n",
      "series-a_usd           2800000.0\n",
      "series-b_usd           8500000.0\n",
      "series-c+_usd         33700000.0\n",
      "venture_usd                  NaN\n",
      "Name: c:4, dtype: float64\n",
      "\n",
      "Most common Series A funding values\n"
     ]
    },
    {
     "data": {
      "text/plain": [
       "0.0          722\n",
       "2000000.0    463\n",
       "5000000.0    389\n",
       "3000000.0    383\n",
       "1500000.0    350\n",
       "Name: series-a_usd, dtype: int64"
      ]
     },
     "execution_count": 43,
     "metadata": {},
     "output_type": "execute_result"
    }
   ],
   "source": [
    "# renaming columns\n",
    "grouped_rounds.columns = [i[1]+'_usd' for i in grouped_rounds.columns.values]\n",
    "\n",
    "print(\"Descriptive statistics for Series A fundings\",\"\\n\")\n",
    "print(grouped_rounds['series-a_usd'].describe(), \"\\n\")\n",
    "\n",
    "# funding summary for a random company\n",
    "print(f\"Fundings of a random company\\n\\n{grouped_rounds.loc['c:4']}\\n\")\n",
    "\n",
    "# most common (aggregated) Series A funding values\n",
    "print(\"Most common Series A funding values\")\n",
    "grouped_rounds['series-a_usd'].value_counts().head()"
   ]
  },
  {
   "cell_type": "code",
   "execution_count": 44,
   "metadata": {},
   "outputs": [
    {
     "data": {
      "text/plain": [
       "count    1.070200e+04\n",
       "mean     3.679603e+05\n",
       "std      4.604704e+05\n",
       "min      0.000000e+00\n",
       "25%      1.000000e+04\n",
       "50%      1.547620e+05\n",
       "75%      6.000000e+05\n",
       "max      5.088970e+06\n",
       "Name: angel_usd, dtype: float64"
      ]
     },
     "execution_count": 44,
     "metadata": {},
     "output_type": "execute_result"
    }
   ],
   "source": [
    "# statistics for angel fundings\n",
    "angel_rounds = grouped_rounds['angel_usd'].dropna()\n",
    "angel_rounds.describe()"
   ]
  },
  {
   "cell_type": "markdown",
   "metadata": {},
   "source": [
    "<ins>**Calculating the __99th percentile__ of _aggregated angel fundings_**</ins>"
   ]
  },
  {
   "cell_type": "code",
   "execution_count": 45,
   "metadata": {},
   "outputs": [
    {
     "name": "stdout",
     "output_type": "stream",
     "text": [
      "Angel rounds 99th percentile:  1,750,000.0\n",
      "Maximun Angel funding:  5,088,970.0\n"
     ]
    }
   ],
   "source": [
    "print('Angel rounds 99th percentile: ',f\"{np.percentile(angel_rounds,99):,}\")\n",
    "print('Maximun Angel funding: ', f\"{angel_rounds.max():,}\")"
   ]
  },
  {
   "cell_type": "markdown",
   "metadata": {},
   "source": [
    "<ins>`Crowdfunding` data analysis</ins>"
   ]
  },
  {
   "cell_type": "code",
   "execution_count": 46,
   "metadata": {},
   "outputs": [
    {
     "name": "stdout",
     "output_type": "stream",
     "text": [
      "count    1.070000e+02\n",
      "mean     1.641647e+06\n",
      "std      3.962827e+06\n",
      "min      0.000000e+00\n",
      "25%      1.000000e+05\n",
      "50%      2.575930e+05\n",
      "75%      1.425000e+06\n",
      "max      2.700000e+07\n",
      "Name: crowdfunding_usd, dtype: float64\n",
      "\n",
      "Maximum crowdfunding sum: 27,000,000.0\n"
     ]
    }
   ],
   "source": [
    "# statistics for crowdfunding sums\n",
    "print(grouped_rounds['crowdfunding_usd'].describe())\n",
    "print(f\"\\nMaximum crowdfunding sum: {grouped_rounds['crowdfunding_usd'].max():,}\")"
   ]
  },
  {
   "cell_type": "markdown",
   "metadata": {},
   "source": [
    "<ins>__Comments__</ins>\n",
    "\n",
    "As we can see, 99% of all the **_aggregated angel round sums raised_** fall below the sum of \\\\$1,750,000  \\(we are using the 99th percentile so as to deal with outliers; e.g. the maximum angel funding is a sum greater than $5M and we would not like to take that into account\\). And since we assume that an angel funding is always the first funding round chronologically for a startup, if we predict that a startup will raise a total funding sum higher than this value, that means that the startup will raise a _Series A funding_. What we need to do is define how much of a company's total funding constitutes its Series A (for companies that did raise a Series A). The related analysis follows in a bit (under the title **Estimating a total funding's _Series A percentage_**).\n",
    "\n",
    "__Note__: We do not account for the few crowdfunding rounds as it is not always certain if they take place before or after an angel round. Moreover, some crowdfunding sums are pretty high (way bigger than the angel fundings), so if we were to include them in the threshold calculation (by adding the crowdfunding fundings to the angel fundings and calculating the 99th percentile for the total sums of the 2 rounds) we would end up with *outliers that would distort our approach statistically*. We are thus <ins>excluding</ins> the crowdfunding amounts from the _Series A threshold_ calculation."
   ]
  },
  {
   "cell_type": "markdown",
   "metadata": {},
   "source": [
    "**<ins>`Series A round` (aggregated sums) data analysis</ins>**"
   ]
  },
  {
   "cell_type": "code",
   "execution_count": 47,
   "metadata": {},
   "outputs": [
    {
     "name": "stdout",
     "output_type": "stream",
     "text": [
      "Series A fundings 15th percentile 1,000,000.0\n"
     ]
    }
   ],
   "source": [
    "seriesA_rounds = grouped_rounds['series-a_usd'].dropna()\n",
    "print('Series A fundings 15th percentile', f\"{np.percentile(seriesA_rounds,15):,}\")"
   ]
  },
  {
   "cell_type": "markdown",
   "metadata": {},
   "source": [
    "__Note__: We can see here that the _**15th percentile of the aggregated Series A fundings**_ is a value lower than the 99th percentile (\\\\$1,750,000) of the respective _angel fundings_. This is not expected and, as discussed earlier, this has to do with the fact that the categorisation of funding rounds is not definite (since some seed/angel fundings are included in the Series A pool - that can be proven by the preceding funding categorisation analysis) and with the fact that many funding sums have not been disclosed.\n",
    "\n",
    "Any further relevant analysis would be out of scope for this project though, as what is important is to present the analytical process followed to deal with the project and build a model for predictions. So, to that end, and since we cannot be sure about a Series A threshold that is fully representative, after we finalise our ML model we will utilise both the \\\\$1,75M value that we calculated using the Angel fundings feature and a lower value (e.g. \\\\$1M) that was calculated using the Series A fundings feature as Series A thresholds in order to predict how many startups will raise a Series A."
   ]
  },
  {
   "cell_type": "markdown",
   "metadata": {},
   "source": [
    "**<ins>Analysing the `funding_total_usd` feature (our labels)</ins>**"
   ]
  },
  {
   "cell_type": "code",
   "execution_count": 48,
   "metadata": {},
   "outputs": [
    {
     "data": {
      "text/html": [
       "<div>\n",
       "<style scoped>\n",
       "    .dataframe tbody tr th:only-of-type {\n",
       "        vertical-align: middle;\n",
       "    }\n",
       "\n",
       "    .dataframe tbody tr th {\n",
       "        vertical-align: top;\n",
       "    }\n",
       "\n",
       "    .dataframe thead th {\n",
       "        text-align: right;\n",
       "    }\n",
       "</style>\n",
       "<table border=\"1\" class=\"dataframe\">\n",
       "  <thead>\n",
       "    <tr style=\"text-align: right;\">\n",
       "      <th></th>\n",
       "      <th>name</th>\n",
       "      <th>id</th>\n",
       "      <th>raised_amount_usd</th>\n",
       "      <th>funding_total_usd</th>\n",
       "    </tr>\n",
       "  </thead>\n",
       "  <tbody>\n",
       "    <tr>\n",
       "      <th>0</th>\n",
       "      <td>Digg</td>\n",
       "      <td>c:4</td>\n",
       "      <td>8500000.0</td>\n",
       "      <td>NaN</td>\n",
       "    </tr>\n",
       "    <tr>\n",
       "      <th>1</th>\n",
       "      <td>Digg</td>\n",
       "      <td>c:4</td>\n",
       "      <td>2800000.0</td>\n",
       "      <td>NaN</td>\n",
       "    </tr>\n",
       "    <tr>\n",
       "      <th>2</th>\n",
       "      <td>Digg</td>\n",
       "      <td>c:4</td>\n",
       "      <td>28700000.0</td>\n",
       "      <td>NaN</td>\n",
       "    </tr>\n",
       "    <tr>\n",
       "      <th>3</th>\n",
       "      <td>Digg</td>\n",
       "      <td>c:4</td>\n",
       "      <td>5000000.0</td>\n",
       "      <td>NaN</td>\n",
       "    </tr>\n",
       "    <tr>\n",
       "      <th>4</th>\n",
       "      <td>Facebook</td>\n",
       "      <td>c:5</td>\n",
       "      <td>500000.0</td>\n",
       "      <td>NaN</td>\n",
       "    </tr>\n",
       "    <tr>\n",
       "      <th>...</th>\n",
       "      <td>...</td>\n",
       "      <td>...</td>\n",
       "      <td>...</td>\n",
       "      <td>...</td>\n",
       "    </tr>\n",
       "    <tr>\n",
       "      <th>51842</th>\n",
       "      <td>Artoo</td>\n",
       "      <td>c:51014</td>\n",
       "      <td>NaN</td>\n",
       "      <td>NaN</td>\n",
       "    </tr>\n",
       "    <tr>\n",
       "      <th>51843</th>\n",
       "      <td>Ecozen Solutions</td>\n",
       "      <td>c:286063</td>\n",
       "      <td>NaN</td>\n",
       "      <td>NaN</td>\n",
       "    </tr>\n",
       "    <tr>\n",
       "      <th>51844</th>\n",
       "      <td>OneBreath</td>\n",
       "      <td>c:286065</td>\n",
       "      <td>NaN</td>\n",
       "      <td>NaN</td>\n",
       "    </tr>\n",
       "    <tr>\n",
       "      <th>51857</th>\n",
       "      <td>ROCKETHOME</td>\n",
       "      <td>c:60389</td>\n",
       "      <td>NaN</td>\n",
       "      <td>NaN</td>\n",
       "    </tr>\n",
       "    <tr>\n",
       "      <th>51868</th>\n",
       "      <td>Newgistics</td>\n",
       "      <td>c:70841</td>\n",
       "      <td>NaN</td>\n",
       "      <td>NaN</td>\n",
       "    </tr>\n",
       "  </tbody>\n",
       "</table>\n",
       "<p>5998 rows × 4 columns</p>\n",
       "</div>"
      ],
      "text/plain": [
       "                   name        id  raised_amount_usd  funding_total_usd\n",
       "0                  Digg       c:4          8500000.0                NaN\n",
       "1                  Digg       c:4          2800000.0                NaN\n",
       "2                  Digg       c:4         28700000.0                NaN\n",
       "3                  Digg       c:4          5000000.0                NaN\n",
       "4              Facebook       c:5           500000.0                NaN\n",
       "...                 ...       ...                ...                ...\n",
       "51842             Artoo   c:51014                NaN                NaN\n",
       "51843  Ecozen Solutions  c:286063                NaN                NaN\n",
       "51844         OneBreath  c:286065                NaN                NaN\n",
       "51857        ROCKETHOME   c:60389                NaN                NaN\n",
       "51868        Newgistics   c:70841                NaN                NaN\n",
       "\n",
       "[5998 rows x 4 columns]"
      ]
     },
     "execution_count": 48,
     "metadata": {},
     "output_type": "execute_result"
    }
   ],
   "source": [
    "# filtering for rows where there is no 'total funding' value\n",
    "funding_tot_na = temp3.loc[temp3['funding_total_usd'].isnull()]\n",
    "\n",
    "# looking at important features\n",
    "funding_tot_na[['name','id','raised_amount_usd','funding_total_usd']]"
   ]
  },
  {
   "cell_type": "markdown",
   "metadata": {},
   "source": [
    "__Note__: We would normally at this point drop rows for which there is no **_total funding_** value (as we would assume that in this case a company did not raise any capital or that none of its fundings were disclosed), but as we can actually see <ins>there are many occasions where a company raised funds but (for some reason) the `funding_total_usd` value is `NaN`</ins>. \n",
    "\n",
    "Given the aforementioned we will add the available Angel and Series A funding amounts for every company (utilising the `grouped_rounds` DataFrame) and make the **assumption** that this is the total funding that the company secured (since we are interested in predicting whether a startup will raise a Series A). So we first need to create a DataFrame with just the Angel and Series A fundings features, as we assume that these 2 round types are the first ones to be raised chronologically (we'll ignore the few crowdfunding cases as we already mentioned and also according to the categorisation criterion we selected any seed fundings are included in the 'angel' category)."
   ]
  },
  {
   "cell_type": "code",
   "execution_count": 49,
   "metadata": {},
   "outputs": [
    {
     "name": "stdout",
     "output_type": "stream",
     "text": [
      "Total funding for the company with id 'c:1': 5250000.0\n"
     ]
    },
    {
     "data": {
      "text/html": [
       "<div>\n",
       "<style scoped>\n",
       "    .dataframe tbody tr th:only-of-type {\n",
       "        vertical-align: middle;\n",
       "    }\n",
       "\n",
       "    .dataframe tbody tr th {\n",
       "        vertical-align: top;\n",
       "    }\n",
       "\n",
       "    .dataframe thead th {\n",
       "        text-align: right;\n",
       "    }\n",
       "</style>\n",
       "<table border=\"1\" class=\"dataframe\">\n",
       "  <thead>\n",
       "    <tr style=\"text-align: right;\">\n",
       "      <th></th>\n",
       "      <th>angel_usd</th>\n",
       "      <th>series-a_usd</th>\n",
       "      <th>funding_total_usd</th>\n",
       "    </tr>\n",
       "    <tr>\n",
       "      <th>id</th>\n",
       "      <th></th>\n",
       "      <th></th>\n",
       "      <th></th>\n",
       "    </tr>\n",
       "  </thead>\n",
       "  <tbody>\n",
       "    <tr>\n",
       "      <th>c:1</th>\n",
       "      <td>0.0</td>\n",
       "      <td>5250000.0</td>\n",
       "      <td>5250000.0</td>\n",
       "    </tr>\n",
       "    <tr>\n",
       "      <th>c:1001</th>\n",
       "      <td>0.0</td>\n",
       "      <td>5000000.0</td>\n",
       "      <td>5000000.0</td>\n",
       "    </tr>\n",
       "    <tr>\n",
       "      <th>c:10014</th>\n",
       "      <td>0.0</td>\n",
       "      <td>0.0</td>\n",
       "      <td>0.0</td>\n",
       "    </tr>\n",
       "    <tr>\n",
       "      <th>c:10015</th>\n",
       "      <td>0.0</td>\n",
       "      <td>2000000.0</td>\n",
       "      <td>2000000.0</td>\n",
       "    </tr>\n",
       "    <tr>\n",
       "      <th>c:100155</th>\n",
       "      <td>0.0</td>\n",
       "      <td>0.0</td>\n",
       "      <td>0.0</td>\n",
       "    </tr>\n",
       "    <tr>\n",
       "      <th>...</th>\n",
       "      <td>...</td>\n",
       "      <td>...</td>\n",
       "      <td>...</td>\n",
       "    </tr>\n",
       "    <tr>\n",
       "      <th>c:99853</th>\n",
       "      <td>500000.0</td>\n",
       "      <td>0.0</td>\n",
       "      <td>500000.0</td>\n",
       "    </tr>\n",
       "    <tr>\n",
       "      <th>c:9989</th>\n",
       "      <td>1100000.0</td>\n",
       "      <td>0.0</td>\n",
       "      <td>1100000.0</td>\n",
       "    </tr>\n",
       "    <tr>\n",
       "      <th>c:9994</th>\n",
       "      <td>500000.0</td>\n",
       "      <td>0.0</td>\n",
       "      <td>500000.0</td>\n",
       "    </tr>\n",
       "    <tr>\n",
       "      <th>c:9995</th>\n",
       "      <td>750000.0</td>\n",
       "      <td>0.0</td>\n",
       "      <td>750000.0</td>\n",
       "    </tr>\n",
       "    <tr>\n",
       "      <th>c:9998</th>\n",
       "      <td>475000.0</td>\n",
       "      <td>0.0</td>\n",
       "      <td>475000.0</td>\n",
       "    </tr>\n",
       "  </tbody>\n",
       "</table>\n",
       "<p>31268 rows × 3 columns</p>\n",
       "</div>"
      ],
      "text/plain": [
       "          angel_usd  series-a_usd  funding_total_usd\n",
       "id                                                  \n",
       "c:1             0.0     5250000.0          5250000.0\n",
       "c:1001          0.0     5000000.0          5000000.0\n",
       "c:10014         0.0           0.0                0.0\n",
       "c:10015         0.0     2000000.0          2000000.0\n",
       "c:100155        0.0           0.0                0.0\n",
       "...             ...           ...                ...\n",
       "c:99853    500000.0           0.0           500000.0\n",
       "c:9989    1100000.0           0.0          1100000.0\n",
       "c:9994     500000.0           0.0           500000.0\n",
       "c:9995     750000.0           0.0           750000.0\n",
       "c:9998     475000.0           0.0           475000.0\n",
       "\n",
       "[31268 rows x 3 columns]"
      ]
     },
     "execution_count": 49,
     "metadata": {},
     "output_type": "execute_result"
    }
   ],
   "source": [
    "# selecting only the Angel and Series A fundings\n",
    "grouped_rounds = grouped_rounds[['angel_usd','series-a_usd']]\n",
    "\n",
    "# total funding for the 1st company in the 'grouped_rounds' DataFrame\n",
    "print(f\"Total funding for the company with id '{grouped_rounds.index[0]}': {sum(grouped_rounds.fillna(0).iloc[0,:])}\")\n",
    "\n",
    "# CALCULATING THE TOTAL USD FUNDING USING THE 'grouped_rounds' DataFrame\n",
    "grouped_rounds['funding_total_usd'] = grouped_rounds.sum(axis=1)\n",
    "\n",
    "# setting NaNs to 0\n",
    "grouped_rounds = grouped_rounds.fillna(0)\n",
    "\n",
    "grouped_rounds"
   ]
  },
  {
   "cell_type": "markdown",
   "metadata": {},
   "source": [
    "__Note__: We would exclude the companies that haven't raised any capital in both rounds (angel and Series A), as normally this would mean that a startup didn't even raise an angel funding, but this is not necessarily valid due to the fact that a company might have raised a Series B (or a later stage funding) without disclosing its previous fundings, meaning its Angel and Series A fundings. For this reason **we will exclude all the cases where there was no angel funding**, even the ones where we had no Series A funding as well, meaning we'll assume that if a startup didn't raise an angel funding it didn't raise any subsequent funding (this would be expected in reality)."
   ]
  },
  {
   "cell_type": "code",
   "execution_count": 50,
   "metadata": {},
   "outputs": [
    {
     "data": {
      "text/html": [
       "<div>\n",
       "<style scoped>\n",
       "    .dataframe tbody tr th:only-of-type {\n",
       "        vertical-align: middle;\n",
       "    }\n",
       "\n",
       "    .dataframe tbody tr th {\n",
       "        vertical-align: top;\n",
       "    }\n",
       "\n",
       "    .dataframe thead th {\n",
       "        text-align: right;\n",
       "    }\n",
       "</style>\n",
       "<table border=\"1\" class=\"dataframe\">\n",
       "  <thead>\n",
       "    <tr style=\"text-align: right;\">\n",
       "      <th></th>\n",
       "      <th>angel_usd</th>\n",
       "      <th>series-a_usd</th>\n",
       "      <th>funding_total_usd</th>\n",
       "    </tr>\n",
       "    <tr>\n",
       "      <th>id</th>\n",
       "      <th></th>\n",
       "      <th></th>\n",
       "      <th></th>\n",
       "    </tr>\n",
       "  </thead>\n",
       "  <tbody>\n",
       "    <tr>\n",
       "      <th>c:100189</th>\n",
       "      <td>250000.0</td>\n",
       "      <td>0.0</td>\n",
       "      <td>250000.0</td>\n",
       "    </tr>\n",
       "    <tr>\n",
       "      <th>c:100228</th>\n",
       "      <td>100000.0</td>\n",
       "      <td>0.0</td>\n",
       "      <td>100000.0</td>\n",
       "    </tr>\n",
       "    <tr>\n",
       "      <th>c:10026</th>\n",
       "      <td>414840.0</td>\n",
       "      <td>0.0</td>\n",
       "      <td>414840.0</td>\n",
       "    </tr>\n",
       "    <tr>\n",
       "      <th>c:10075</th>\n",
       "      <td>350000.0</td>\n",
       "      <td>0.0</td>\n",
       "      <td>350000.0</td>\n",
       "    </tr>\n",
       "    <tr>\n",
       "      <th>c:10092</th>\n",
       "      <td>100000.0</td>\n",
       "      <td>0.0</td>\n",
       "      <td>100000.0</td>\n",
       "    </tr>\n",
       "  </tbody>\n",
       "</table>\n",
       "</div>"
      ],
      "text/plain": [
       "          angel_usd  series-a_usd  funding_total_usd\n",
       "id                                                  \n",
       "c:100189   250000.0           0.0           250000.0\n",
       "c:100228   100000.0           0.0           100000.0\n",
       "c:10026    414840.0           0.0           414840.0\n",
       "c:10075    350000.0           0.0           350000.0\n",
       "c:10092    100000.0           0.0           100000.0"
      ]
     },
     "execution_count": 50,
     "metadata": {},
     "output_type": "execute_result"
    }
   ],
   "source": [
    "# excluding all the cases where there was no angel funding value (either because it wasn't disclosed or one was never raised)\n",
    "grouped_rounds = grouped_rounds.loc[grouped_rounds['angel_usd'] != 0]\n",
    "grouped_rounds.head()"
   ]
  },
  {
   "cell_type": "code",
   "execution_count": 51,
   "metadata": {},
   "outputs": [
    {
     "name": "stdout",
     "output_type": "stream",
     "text": [
      "Descriptive statistics for total fundings (aggregated Angel and Series A fundings)\n",
      "\n",
      "count    8.218000e+03\n",
      "mean     9.816810e+05\n",
      "std      2.047056e+06\n",
      "min      1.000000e+03\n",
      "25%      1.000000e+05\n",
      "50%      3.931815e+05\n",
      "75%      1.000000e+06\n",
      "max      4.028600e+07\n",
      "Name: funding_total_usd, dtype: float64 \n",
      "\n",
      "Some cases where startups raised both an Angel funding and a Series A\n"
     ]
    },
    {
     "data": {
      "text/html": [
       "<div>\n",
       "<style scoped>\n",
       "    .dataframe tbody tr th:only-of-type {\n",
       "        vertical-align: middle;\n",
       "    }\n",
       "\n",
       "    .dataframe tbody tr th {\n",
       "        vertical-align: top;\n",
       "    }\n",
       "\n",
       "    .dataframe thead th {\n",
       "        text-align: right;\n",
       "    }\n",
       "</style>\n",
       "<table border=\"1\" class=\"dataframe\">\n",
       "  <thead>\n",
       "    <tr style=\"text-align: right;\">\n",
       "      <th></th>\n",
       "      <th>angel_usd</th>\n",
       "      <th>series-a_usd</th>\n",
       "      <th>funding_total_usd</th>\n",
       "    </tr>\n",
       "    <tr>\n",
       "      <th>id</th>\n",
       "      <th></th>\n",
       "      <th></th>\n",
       "      <th></th>\n",
       "    </tr>\n",
       "  </thead>\n",
       "  <tbody>\n",
       "    <tr>\n",
       "      <th>c:101317</th>\n",
       "      <td>1268000.0</td>\n",
       "      <td>2000000.0</td>\n",
       "      <td>3268000.0</td>\n",
       "    </tr>\n",
       "    <tr>\n",
       "      <th>c:10164</th>\n",
       "      <td>500000.0</td>\n",
       "      <td>3000000.0</td>\n",
       "      <td>3500000.0</td>\n",
       "    </tr>\n",
       "    <tr>\n",
       "      <th>c:103155</th>\n",
       "      <td>1480000.0</td>\n",
       "      <td>2200000.0</td>\n",
       "      <td>3680000.0</td>\n",
       "    </tr>\n",
       "    <tr>\n",
       "      <th>c:103388</th>\n",
       "      <td>750000.0</td>\n",
       "      <td>4000000.0</td>\n",
       "      <td>4750000.0</td>\n",
       "    </tr>\n",
       "    <tr>\n",
       "      <th>c:10351</th>\n",
       "      <td>72000.0</td>\n",
       "      <td>1000000.0</td>\n",
       "      <td>1072000.0</td>\n",
       "    </tr>\n",
       "  </tbody>\n",
       "</table>\n",
       "</div>"
      ],
      "text/plain": [
       "          angel_usd  series-a_usd  funding_total_usd\n",
       "id                                                  \n",
       "c:101317  1268000.0     2000000.0          3268000.0\n",
       "c:10164    500000.0     3000000.0          3500000.0\n",
       "c:103155  1480000.0     2200000.0          3680000.0\n",
       "c:103388   750000.0     4000000.0          4750000.0\n",
       "c:10351     72000.0     1000000.0          1072000.0"
      ]
     },
     "execution_count": 51,
     "metadata": {},
     "output_type": "execute_result"
    }
   ],
   "source": [
    "print(f\"Descriptive statistics for total fundings (aggregated Angel and Series A fundings)\\n\")\n",
    "print(grouped_rounds['funding_total_usd'].describe(),\"\\n\")\n",
    "\n",
    "print(\"Some cases where startups raised both an Angel funding and a Series A\")\n",
    "grouped_rounds.loc[grouped_rounds['series-a_usd'] != 0].head()"
   ]
  },
  {
   "cell_type": "markdown",
   "metadata": {},
   "source": [
    "**<ins>Estimating a total funding's __*Series A percentage*__</ins>**"
   ]
  },
  {
   "cell_type": "code",
   "execution_count": 52,
   "metadata": {},
   "outputs": [
    {
     "name": "stdout",
     "output_type": "stream",
     "text": [
      "Some counts of percentages of Series A fundings (out of the total respective aggregated angel and series A fundings)\n"
     ]
    },
    {
     "data": {
      "text/plain": [
       "0.000000    7146\n",
       "0.800000      36\n",
       "0.833333      35\n",
       "0.666667      26\n",
       "0.857143      19\n",
       "Name: series_a_pct, dtype: int64"
      ]
     },
     "execution_count": 52,
     "metadata": {},
     "output_type": "execute_result"
    }
   ],
   "source": [
    "# removing null Series A fundings\n",
    "testdf = grouped_rounds.dropna(subset=['series-a_usd'])\n",
    "\n",
    "# calculating percentages of Series A fundings out of total fundings (Angel + Series A)\n",
    "testdf['series_a_pct'] = testdf['series-a_usd'] / testdf['funding_total_usd']\n",
    "\n",
    "print(\"Some counts of percentages of Series A fundings (out of the total respective aggregated angel and series A fundings)\")\n",
    "testdf['series_a_pct'].value_counts().head()"
   ]
  },
  {
   "cell_type": "markdown",
   "metadata": {},
   "source": [
    "We will now calculate the **mean of the percentages of Series A fundings out of the total fundings (aggregated Angel and Series A fundings)** (without taking into account Series A fundings equal to 0)."
   ]
  },
  {
   "cell_type": "code",
   "execution_count": 53,
   "metadata": {},
   "outputs": [
    {
     "data": {
      "text/plain": [
       "0.8025013651762083"
      ]
     },
     "execution_count": 53,
     "metadata": {},
     "output_type": "execute_result"
    }
   ],
   "source": [
    "seriesa_pct_mean = testdf.loc[testdf['series_a_pct'] != 0]['series_a_pct'].mean()\n",
    "seriesa_pct_mean"
   ]
  },
  {
   "cell_type": "markdown",
   "metadata": {},
   "source": [
    "__Note__: According to this calculation, on average approximately 80% of an aggregated Angel and Series A funding is the corresponding Series A funding sum. We will utilise this value to calculate the Series A fundings in the end, after our model predicts the total fundings (aggregated Angel and Series A sums) companies will raise. <ins>This percentage (80%) might not be realistic</ins> due to the zero angel funding cases that we removed earlier. We couldn't avoid that though as including cases where a company raised a Series A but its angel funding or its previous fundings in general were not disclosed would mess up our dataset (the same issue would exist due to undisclosed subsequent fundings too in case we were aiming to predict the Series B funding for example and were estimating the Series A percentage out of the aggregated Angel, Series A and Series B fundings)."
   ]
  },
  {
   "cell_type": "markdown",
   "metadata": {},
   "source": [
    "### Finalising our dataset"
   ]
  },
  {
   "cell_type": "code",
   "execution_count": 54,
   "metadata": {},
   "outputs": [
    {
     "name": "stdout",
     "output_type": "stream",
     "text": [
      "<class 'pandas.core.frame.DataFrame'>\n",
      "Int64Index: 51875 entries, 0 to 51874\n",
      "Data columns (total 41 columns):\n",
      " #   Column                    Non-Null Count  Dtype         \n",
      "---  ------                    --------------  -----         \n",
      " 0   funded_at                 51640 non-null  datetime64[ns]\n",
      " 1   funding_round_type        51875 non-null  object        \n",
      " 2   funding_round_code        51875 non-null  object        \n",
      " 3   raised_amount_usd         46010 non-null  float64       \n",
      " 4   raised_currency_code      51875 non-null  object        \n",
      " 5   pre_money_valuation_usd   34 non-null     float64       \n",
      " 6   post_money_valuation_usd  1175 non-null   float64       \n",
      " 7   participants              51875 non-null  int64         \n",
      " 8   id                        51875 non-null  object        \n",
      " 9   name                      51875 non-null  object        \n",
      " 10  category_code             51875 non-null  object        \n",
      " 11  status                    51875 non-null  object        \n",
      " 12  founded_at                42587 non-null  datetime64[ns]\n",
      " 13  closed_at                 2868 non-null   datetime64[ns]\n",
      " 14  domain                    51875 non-null  object        \n",
      " 15  twitter_username          51875 non-null  object        \n",
      " 16  logo_width                49244 non-null  float64       \n",
      " 17  logo_height               49244 non-null  float64       \n",
      " 18  description               34241 non-null  object        \n",
      " 19  tag_list                  25579 non-null  object        \n",
      " 20  country_code              50619 non-null  object        \n",
      " 21  state_code                50390 non-null  object        \n",
      " 22  city                      50194 non-null  object        \n",
      " 23  region                    50078 non-null  object        \n",
      " 24  first_investment_at       445 non-null    datetime64[ns]\n",
      " 25  last_investment_at        445 non-null    datetime64[ns]\n",
      " 26  investment_rounds         446 non-null    float64       \n",
      " 27  invested_companies        446 non-null    float64       \n",
      " 28  first_funding_at          49672 non-null  datetime64[ns]\n",
      " 29  last_funding_at           49672 non-null  datetime64[ns]\n",
      " 30  funding_rounds            49852 non-null  float64       \n",
      " 31  funding_total_usd         45877 non-null  float64       \n",
      " 32  first_milestone_at        30731 non-null  datetime64[ns]\n",
      " 33  last_milestone_at         30731 non-null  datetime64[ns]\n",
      " 34  milestones                30731 non-null  float64       \n",
      " 35  relationships             42099 non-null  float64       \n",
      " 36  persons_names             43797 non-null  object        \n",
      " 37  all_affiliations          43797 non-null  object        \n",
      " 38  persons_birthplaces       43797 non-null  object        \n",
      " 39  persons_titles            43797 non-null  object        \n",
      " 40  relationships_days        43797 non-null  float64       \n",
      "dtypes: datetime64[ns](9), float64(12), int64(1), object(19)\n",
      "memory usage: 16.6+ MB\n"
     ]
    }
   ],
   "source": [
    "final = temp3.copy()\n",
    "final.info()"
   ]
  },
  {
   "cell_type": "markdown",
   "metadata": {},
   "source": [
    "<ins>__Removing *non-informative features*__</ins>"
   ]
  },
  {
   "cell_type": "markdown",
   "metadata": {},
   "source": [
    "We will now drop features with few non-null values and features we do not need anymore or that are not that useful. Some comments:\n",
    "\n",
    "- The `funded_at` column could probably be removed. The same goes for the `founded_at` and `closed_at` columns (we could actually use these 2 columns to calculate for how long a company survived - e.g. in days, before ceasing operations - but we do not have many `closed_at` values, so we will leave these 2 datetime features out too).\n",
    "- The `first_funding_at` and `last_funding_at` columns will go as we are not necessarily aware of every funding for a company. The same is valid for `first_milestone_at` and `last_milestone_at`.\n",
    "- As regards the `logo_width` and `logo_height` features we would normally remove them at this point but we'll construct a chart a bit later to show why we should actually do that (this will be a quick fun analysis)."
   ]
  },
  {
   "cell_type": "code",
   "execution_count": 55,
   "metadata": {},
   "outputs": [
    {
     "name": "stdout",
     "output_type": "stream",
     "text": [
      "Number of unique companies:  31268\n"
     ]
    }
   ],
   "source": [
    "final = final.drop(['funded_at', 'funding_round_code', 'raised_currency_code', 'pre_money_valuation_usd',\n",
    "                    'post_money_valuation_usd', 'founded_at', 'closed_at', 'first_investment_at', \n",
    "                    'last_investment_at', 'first_funding_at', 'last_funding_at',\n",
    "                    'first_milestone_at','last_milestone_at'],axis=1)\n",
    "\n",
    "# checking how many companies we have\n",
    "print(\"Number of unique companies: \", final['id'].nunique())"
   ]
  },
  {
   "cell_type": "markdown",
   "metadata": {},
   "source": [
    "**<ins>Combining the features `description` and `tag_list` into one feature</ins>**"
   ]
  },
  {
   "cell_type": "code",
   "execution_count": 56,
   "metadata": {},
   "outputs": [
    {
     "name": "stdout",
     "output_type": "stream",
     "text": [
      "Most common values for the 'description' feature \n",
      "\n",
      "\\N                           897\n",
      "biotechnology company         77\n",
      "Medical device company        46\n",
      "biopharmaceutical company     42\n",
      "software solutions            41\n",
      "Name: description, dtype: int64 \n",
      "\n",
      "Most common values for the 'tag_list' feature \n",
      "\n",
      "\\N                                      1899\n",
      "rock-health                               50\n",
      "femtocell                                 22\n",
      "techstars, techstars-nyc-winter-2011      21\n",
      "web2ireland                               18\n",
      "Name: tag_list, dtype: int64 \n",
      "\n",
      "Counts of values for the combined feature\n"
     ]
    },
    {
     "data": {
      "text/html": [
       "<div>\n",
       "<style scoped>\n",
       "    .dataframe tbody tr th:only-of-type {\n",
       "        vertical-align: middle;\n",
       "    }\n",
       "\n",
       "    .dataframe tbody tr th {\n",
       "        vertical-align: top;\n",
       "    }\n",
       "\n",
       "    .dataframe thead th {\n",
       "        text-align: right;\n",
       "    }\n",
       "</style>\n",
       "<table border=\"1\" class=\"dataframe\">\n",
       "  <thead>\n",
       "    <tr style=\"text-align: right;\">\n",
       "      <th></th>\n",
       "      <th>full_description</th>\n",
       "    </tr>\n",
       "  </thead>\n",
       "  <tbody>\n",
       "    <tr>\n",
       "      <th></th>\n",
       "      <td>15812</td>\n",
       "    </tr>\n",
       "    <tr>\n",
       "      <th>biotechnology company</th>\n",
       "      <td>77</td>\n",
       "    </tr>\n",
       "    <tr>\n",
       "      <th>semiconductor company</th>\n",
       "      <td>41</td>\n",
       "    </tr>\n",
       "    <tr>\n",
       "      <th>biopharmaceutical company</th>\n",
       "      <td>39</td>\n",
       "    </tr>\n",
       "    <tr>\n",
       "      <th>Medical device company</th>\n",
       "      <td>38</td>\n",
       "    </tr>\n",
       "    <tr>\n",
       "      <th>...</th>\n",
       "      <td>...</td>\n",
       "    </tr>\n",
       "    <tr>\n",
       "      <th>Music Industry App</th>\n",
       "      <td>1</td>\n",
       "    </tr>\n",
       "    <tr>\n",
       "      <th>softwarestore</th>\n",
       "      <td>1</td>\n",
       "    </tr>\n",
       "    <tr>\n",
       "      <th>Handmade marketplace in Latin America latin-america, handmade, vintage, marketplace, ecommerce, etsy</th>\n",
       "      <td>1</td>\n",
       "    </tr>\n",
       "    <tr>\n",
       "      <th>Full-cycle online marketplace in Russia ecommerce, marketplace, russia, offline-retail, online-retail</th>\n",
       "      <td>1</td>\n",
       "    </tr>\n",
       "    <tr>\n",
       "      <th>HOVERINK, INC</th>\n",
       "      <td>1</td>\n",
       "    </tr>\n",
       "  </tbody>\n",
       "</table>\n",
       "<p>19650 rows × 1 columns</p>\n",
       "</div>"
      ],
      "text/plain": [
       "                                                    full_description\n",
       "                                                               15812\n",
       "biotechnology company                                             77\n",
       "semiconductor company                                             41\n",
       "biopharmaceutical company                                         39\n",
       "Medical device company                                            38\n",
       "...                                                              ...\n",
       "Music Industry App                                                 1\n",
       " softwarestore                                                     1\n",
       "Handmade marketplace in Latin America latin-ame...                 1\n",
       "Full-cycle online marketplace in Russia ecommer...                 1\n",
       "HOVERINK, INC                                                      1\n",
       "\n",
       "[19650 rows x 1 columns]"
      ]
     },
     "execution_count": 56,
     "metadata": {},
     "output_type": "execute_result"
    }
   ],
   "source": [
    "print(\"Most common values for the 'description' feature\",\"\\n\")\n",
    "print(final['description'].value_counts().head(), \"\\n\")\n",
    "print(\"Most common values for the 'tag_list' feature\",\"\\n\")\n",
    "print(final['tag_list'].value_counts().head(), \"\\n\")\n",
    "\n",
    "# GENERATING THE NEW FEATURE\n",
    "final['full_description'] = final['description'].replace('\\\\N', np.nan).fillna(\"\") + \" \" + final['tag_list'].replace('\\\\N', np.nan).fillna(\"\")\n",
    "\n",
    "# dropping columns not needed anymore\n",
    "final = final.drop(['description', 'tag_list'],axis=1)\n",
    "\n",
    "print(\"Counts of values for the combined feature\")\n",
    "final['full_description'].value_counts(dropna=False).to_frame()"
   ]
  },
  {
   "cell_type": "markdown",
   "metadata": {},
   "source": [
    "**<ins>Analysing geographical features (`city`, `region`, `state_code` and `country_code` features)</ins>**"
   ]
  },
  {
   "cell_type": "code",
   "execution_count": 57,
   "metadata": {},
   "outputs": [
    {
     "name": "stdout",
     "output_type": "stream",
     "text": [
      "Top 20 counts of the 'region' feature\n",
      "\n",
      "SF Bay            10123\n",
      "New York           3164\n",
      "Boston             3092\n",
      "unknown            2811\n",
      "Los Angeles        1989\n",
      "London             1665\n",
      "Seattle            1214\n",
      "Washington DC      1078\n",
      "San Diego           914\n",
      "Denver              768\n",
      "Austin              750\n",
      "Chicago             673\n",
      "Atlanta             551\n",
      "Paris               525\n",
      "Philadelphia        521\n",
      "Dallas              472\n",
      "Raleigh-Durham      403\n",
      "Salt Lake City      364\n",
      "TBD                 353\n",
      "Minneapolis         336\n",
      "Name: region, dtype: int64\n"
     ]
    }
   ],
   "source": [
    "print(f\"Top 20 counts of the 'region' feature\\n\")\n",
    "print(final['region'].value_counts().head(20))"
   ]
  },
  {
   "cell_type": "code",
   "execution_count": 58,
   "metadata": {},
   "outputs": [
    {
     "name": "stdout",
     "output_type": "stream",
     "text": [
      "Incorrect entries in the 'region' feature (strings too long to represent common region names-top 10 longest)\n",
      "\n",
      "44851     an approved and trained group of companies op...\n",
      "44850     an approved and trained group of companies op...\n",
      "1162      mEgo will offer users the chance to allocate ...\n",
      "1160      mEgo will offer users the chance to allocate ...\n",
      "1161      mEgo will offer users the chance to allocate ...\n",
      "1163      mEgo will offer users the chance to allocate ...\n",
      "4622      and altering the hobby by solving birders' mo...\n",
      "43280     while also giving users the ability to social...\n",
      "43279     while also giving users the ability to social...\n",
      "47446     standup comedy and or any other unprotect aud...\n",
      "Name: region, dtype: object \n",
      "\n",
      "Incorrect entries in the 'city' feature (strings too long to represent common city names) with a correct entry present as well\n",
      "\n"
     ]
    },
    {
     "data": {
      "text/html": [
       "<div>\n",
       "<style scoped>\n",
       "    .dataframe tbody tr th:only-of-type {\n",
       "        vertical-align: middle;\n",
       "    }\n",
       "\n",
       "    .dataframe tbody tr th {\n",
       "        vertical-align: top;\n",
       "    }\n",
       "\n",
       "    .dataframe thead th {\n",
       "        text-align: right;\n",
       "    }\n",
       "</style>\n",
       "<table border=\"1\" class=\"dataframe\">\n",
       "  <thead>\n",
       "    <tr style=\"text-align: right;\">\n",
       "      <th></th>\n",
       "      <th>city_len</th>\n",
       "      <th>city</th>\n",
       "    </tr>\n",
       "  </thead>\n",
       "  <tbody>\n",
       "    <tr>\n",
       "      <th>30020</th>\n",
       "      <td>365.0</td>\n",
       "      <td>but sports are not always convenient for thei...</td>\n",
       "    </tr>\n",
       "    <tr>\n",
       "      <th>30021</th>\n",
       "      <td>365.0</td>\n",
       "      <td>but sports are not always convenient for thei...</td>\n",
       "    </tr>\n",
       "    <tr>\n",
       "      <th>49821</th>\n",
       "      <td>304.0</td>\n",
       "      <td>and empower the spirit\\\". The company first m...</td>\n",
       "    </tr>\n",
       "    <tr>\n",
       "      <th>22347</th>\n",
       "      <td>266.0</td>\n",
       "      <td>and users as well; ranging from experts posts...</td>\n",
       "    </tr>\n",
       "    <tr>\n",
       "      <th>31334</th>\n",
       "      <td>231.0</td>\n",
       "      <td>set out to actually provide an invaluable ser...</td>\n",
       "    </tr>\n",
       "    <tr>\n",
       "      <th>...</th>\n",
       "      <td>...</td>\n",
       "      <td>...</td>\n",
       "    </tr>\n",
       "    <tr>\n",
       "      <th>30662</th>\n",
       "      <td>34.0</td>\n",
       "      <td>organizations and entrepreneurs.</td>\n",
       "    </tr>\n",
       "    <tr>\n",
       "      <th>2122</th>\n",
       "      <td>33.0</td>\n",
       "      <td>media &amp; entertainment management</td>\n",
       "    </tr>\n",
       "    <tr>\n",
       "      <th>41822</th>\n",
       "      <td>33.0</td>\n",
       "      <td>Oxford Business Park South,Oxford</td>\n",
       "    </tr>\n",
       "    <tr>\n",
       "      <th>47010</th>\n",
       "      <td>33.0</td>\n",
       "      <td>Cap Delta Biopole Euromédecine II</td>\n",
       "    </tr>\n",
       "    <tr>\n",
       "      <th>28495</th>\n",
       "      <td>33.0</td>\n",
       "      <td>in business networks (Intranets)</td>\n",
       "    </tr>\n",
       "  </tbody>\n",
       "</table>\n",
       "<p>200 rows × 2 columns</p>\n",
       "</div>"
      ],
      "text/plain": [
       "       city_len                                               city\n",
       "30020     365.0   but sports are not always convenient for thei...\n",
       "30021     365.0   but sports are not always convenient for thei...\n",
       "49821     304.0   and empower the spirit\\\". The company first m...\n",
       "22347     266.0   and users as well; ranging from experts posts...\n",
       "31334     231.0   set out to actually provide an invaluable ser...\n",
       "...         ...                                                ...\n",
       "30662      34.0                  organizations and entrepreneurs. \n",
       "2122       33.0                   media & entertainment management\n",
       "41822      33.0                  Oxford Business Park South,Oxford\n",
       "47010      33.0                  Cap Delta Biopole Euromédecine II\n",
       "28495      33.0                   in business networks (Intranets)\n",
       "\n",
       "[200 rows x 2 columns]"
      ]
     },
     "execution_count": 58,
     "metadata": {},
     "output_type": "execute_result"
    }
   ],
   "source": [
    "# setting the values 'unknown' and 'TBD' to NaN\n",
    "final['region'] = final['region'].replace('unknown', np.nan).replace('TBD', np.nan)\n",
    "\n",
    "# creating columns containing the lengths of the strings contained in the columns 'region' and 'city'\n",
    "final['region_len'] = final['region'].str.len()\n",
    "final['city_len'] = final['city'].str.len()\n",
    "\n",
    "# 'region' incorrect entries (actual 10 longest sentences)\n",
    "print(f\"Incorrect entries in the 'region' feature (strings too long to represent common region names-top 10 longest)\\n\")\n",
    "print(final.sort_values('region_len', ascending=False)['region'].head(10), \"\\n\")\n",
    "\n",
    "# 'city' incorrect entries with respective string lengths\n",
    "print(f\"Incorrect entries in the 'city' feature (strings too long to represent common city names) with a correct entry present as well\\n\")\n",
    "final.dropna(subset=['city']).sort_values('city_len', ascending=False)[['city_len', 'city']].head(200)"
   ]
  },
  {
   "cell_type": "markdown",
   "metadata": {},
   "source": [
    "__Note__: As we can see the separate geographical features come with many incorrect entries. From the previous cell it becomes obvious that we cannot easily remove these entries using a string length threshold (meaning remove all strings with a length greater than a specific number), as we risk losing good entries as well. For that reason we will combine these features into one (as we did with the `description` and `tag_list` features earlier) and later implement the *Bag of Words approach*."
   ]
  },
  {
   "cell_type": "markdown",
   "metadata": {},
   "source": [
    "**<ins>Generating a single feature by combining the `city`, `region`, `state_code` and `country_code` features</ins>**"
   ]
  },
  {
   "cell_type": "code",
   "execution_count": 59,
   "metadata": {},
   "outputs": [
    {
     "name": "stdout",
     "output_type": "stream",
     "text": [
      "Some random locations \n",
      "\n",
      "      country_code state_code         city        region\n",
      "51870          USA         CA  Los Angeles   Los Angeles\n",
      "51871          USA         PA      Malvern  Philadelphia\n",
      "51872          CAN         \\N      Toronto       Toronto\n",
      "51873          CHE         \\N       Zurich        Zurich\n",
      "51874          USA         CA    San Mateo        SF Bay \n",
      "\n",
      "A few non-US locations \n",
      "\n",
      "      country_code state_code       city   region\n",
      "51854          GBR         \\N  Cambridge   London\n",
      "51857          NaN        NaN        NaN      NaN\n",
      "51858           \\N         \\N         \\N      NaN\n",
      "51872          CAN         \\N    Toronto  Toronto\n",
      "51873          CHE         \\N     Zurich   Zurich \n",
      "\n",
      "A few US locations \n",
      "\n",
      "      country_code state_code           city         region\n",
      "51868          USA         TX         Austin         Austin\n",
      "51869          USA         CA  Santa Barbara  Santa Barbara\n",
      "51870          USA         CA    Los Angeles    Los Angeles\n",
      "51871          USA         PA        Malvern   Philadelphia\n",
      "51874          USA         CA      San Mateo         SF Bay \n",
      "\n",
      "Counts of values for the combined feature\n"
     ]
    },
    {
     "data": {
      "text/plain": [
       "                                            3579\n",
       "San Francisco SF Bay CA USA                 3357\n",
       "New York New York NY USA                    2536\n",
       "London London  GBR                          1190\n",
       "Palo Alto SF Bay CA USA                      826\n",
       "                                            ... \n",
       "Lillestrom Lillestrom  NOR                     1\n",
       "Andhra Pradesh   IND                           1\n",
       "Technion City,  Haifa Technion City  ISR       1\n",
       "Glendale Milwaukee WI USA                      1\n",
       "Örnsköldsvik Sweden - Other  SWE               1\n",
       "Name: place, Length: 5413, dtype: int64"
      ]
     },
     "execution_count": 59,
     "metadata": {},
     "output_type": "execute_result"
    }
   ],
   "source": [
    "# dropping the 2 columns with the string lengths\n",
    "final.drop(['city_len', 'region_len'],axis=1,inplace=True)\n",
    "\n",
    "# some random rows (location data)\n",
    "print(\"Some random locations\", \"\\n\")\n",
    "print(final[['country_code','state_code','city','region']].tail(), \"\\n\")\n",
    "\n",
    "# taking a look at non-US geographical data\n",
    "print(\"A few non-US locations\", \"\\n\")\n",
    "print(final[['country_code','state_code','city','region']].loc[final['country_code'] != 'USA'].tail(), \"\\n\")\n",
    "\n",
    "# US locations\n",
    "print(\"A few US locations\", \"\\n\")\n",
    "print(final[['country_code','state_code','city','region']].loc[final['country_code'] == 'USA'].tail(), \"\\n\")\n",
    "\n",
    "# BUILDING THE FEATURE\n",
    "final['place'] = final['city'].replace('\\\\N', np.nan).fillna(\"\") + \" \" + final['region'].replace('\\\\N', np.nan).fillna(\"\") + \" \" + final['state_code'].replace('\\\\N', np.nan).fillna(\"\") + \" \" + final['country_code'].replace('\\\\N', np.nan).fillna(\"\")\n",
    "\n",
    "# dropping the initial features\n",
    "final = final.drop(['city','region','state_code','country_code'],axis=1)\n",
    "\n",
    "print(\"Counts of values for the combined feature\")\n",
    "final['place'].value_counts(dropna=False)"
   ]
  },
  {
   "cell_type": "markdown",
   "metadata": {},
   "source": [
    "**<ins>Finding features that contain _info for multiple funding rounds of a company_</ins>**"
   ]
  },
  {
   "cell_type": "code",
   "execution_count": 60,
   "metadata": {},
   "outputs": [],
   "source": [
    "def find_multiple_rounds_cols(df, id_col):\n",
    "    dupls = []\n",
    "    for col in df.columns:\n",
    "        if len(df.dropna(subset=[col]).drop_duplicates(subset=[id_col,col])) > df[id_col].nunique():\n",
    "            dupls.append(col)\n",
    "    return dupls"
   ]
  },
  {
   "cell_type": "code",
   "execution_count": 61,
   "metadata": {},
   "outputs": [
    {
     "data": {
      "text/plain": [
       "['funding_round_type', 'raised_amount_usd', 'participants']"
      ]
     },
     "execution_count": 61,
     "metadata": {},
     "output_type": "execute_result"
    }
   ],
   "source": [
    "mult_list = find_multiple_rounds_cols(final, 'id')\n",
    "mult_list"
   ]
  },
  {
   "cell_type": "markdown",
   "metadata": {},
   "source": [
    "<ins>__Comments__</ins>\n",
    "\n",
    "So these 3 columns are the ones potentially containing information about multiple funding rounds for a company. We had discovered this already and we have already aggregated data for the `funding_round_type` and `raised_amount_usd` features (in the `grouped_rounds` DataFrame), as well as for similar columns from the `relationships` dataset (we have already dealt with those, when we added 5 features earlier, and that is why they did not appear in the previous list).\n",
    "\n",
    "Regarding the `participants` feature we will not calculate the total participants per round per company, but the total participants per company (since various fundings were not disclosed)."
   ]
  },
  {
   "cell_type": "code",
   "execution_count": 62,
   "metadata": {},
   "outputs": [
    {
     "name": "stdout",
     "output_type": "stream",
     "text": [
      "A company's duplicate rows: \n"
     ]
    },
    {
     "data": {
      "text/html": [
       "<div>\n",
       "<style scoped>\n",
       "    .dataframe tbody tr th:only-of-type {\n",
       "        vertical-align: middle;\n",
       "    }\n",
       "\n",
       "    .dataframe tbody tr th {\n",
       "        vertical-align: top;\n",
       "    }\n",
       "\n",
       "    .dataframe thead th {\n",
       "        text-align: right;\n",
       "    }\n",
       "</style>\n",
       "<table border=\"1\" class=\"dataframe\">\n",
       "  <thead>\n",
       "    <tr style=\"text-align: right;\">\n",
       "      <th></th>\n",
       "      <th>id</th>\n",
       "      <th>name</th>\n",
       "      <th>category_code</th>\n",
       "      <th>status</th>\n",
       "      <th>domain</th>\n",
       "      <th>twitter_username</th>\n",
       "      <th>logo_width</th>\n",
       "      <th>logo_height</th>\n",
       "      <th>investment_rounds</th>\n",
       "      <th>invested_companies</th>\n",
       "      <th>...</th>\n",
       "      <th>funding_total_usd</th>\n",
       "      <th>milestones</th>\n",
       "      <th>relationships</th>\n",
       "      <th>persons_names</th>\n",
       "      <th>all_affiliations</th>\n",
       "      <th>persons_birthplaces</th>\n",
       "      <th>persons_titles</th>\n",
       "      <th>relationships_days</th>\n",
       "      <th>full_description</th>\n",
       "      <th>place</th>\n",
       "    </tr>\n",
       "  </thead>\n",
       "  <tbody>\n",
       "    <tr>\n",
       "      <th>0</th>\n",
       "      <td>c:4</td>\n",
       "      <td>Digg</td>\n",
       "      <td>news</td>\n",
       "      <td>acquired</td>\n",
       "      <td>digg.com</td>\n",
       "      <td>digg</td>\n",
       "      <td>280.0</td>\n",
       "      <td>280.0</td>\n",
       "      <td>NaN</td>\n",
       "      <td>NaN</td>\n",
       "      <td>...</td>\n",
       "      <td>NaN</td>\n",
       "      <td>NaN</td>\n",
       "      <td>NaN</td>\n",
       "      <td>KevinRose,JayAdelson,OwenByrne,RonGorodetzky,D...</td>\n",
       "      <td>i/oVentures,Digg,Digg,Digg,TinySpeck,LinkedIn,...</td>\n",
       "      <td>Redding,CA-Detroit,MI-NewRochelle,NewYork-Illi...</td>\n",
       "      <td>Founder&amp;CEO,ChiefExecutiveOfficer,SeniorSoftwa...</td>\n",
       "      <td>26522.0</td>\n",
       "      <td>user driven social content website  it's promo...</td>\n",
       "      <td></td>\n",
       "    </tr>\n",
       "    <tr>\n",
       "      <th>1</th>\n",
       "      <td>c:4</td>\n",
       "      <td>Digg</td>\n",
       "      <td>news</td>\n",
       "      <td>acquired</td>\n",
       "      <td>digg.com</td>\n",
       "      <td>digg</td>\n",
       "      <td>280.0</td>\n",
       "      <td>280.0</td>\n",
       "      <td>NaN</td>\n",
       "      <td>NaN</td>\n",
       "      <td>...</td>\n",
       "      <td>NaN</td>\n",
       "      <td>NaN</td>\n",
       "      <td>NaN</td>\n",
       "      <td>KevinRose,JayAdelson,OwenByrne,RonGorodetzky,D...</td>\n",
       "      <td>i/oVentures,Digg,Digg,Digg,TinySpeck,LinkedIn,...</td>\n",
       "      <td>Redding,CA-Detroit,MI-NewRochelle,NewYork-Illi...</td>\n",
       "      <td>Founder&amp;CEO,ChiefExecutiveOfficer,SeniorSoftwa...</td>\n",
       "      <td>26522.0</td>\n",
       "      <td>user driven social content website  it's promo...</td>\n",
       "      <td></td>\n",
       "    </tr>\n",
       "    <tr>\n",
       "      <th>2</th>\n",
       "      <td>c:4</td>\n",
       "      <td>Digg</td>\n",
       "      <td>news</td>\n",
       "      <td>acquired</td>\n",
       "      <td>digg.com</td>\n",
       "      <td>digg</td>\n",
       "      <td>280.0</td>\n",
       "      <td>280.0</td>\n",
       "      <td>NaN</td>\n",
       "      <td>NaN</td>\n",
       "      <td>...</td>\n",
       "      <td>NaN</td>\n",
       "      <td>NaN</td>\n",
       "      <td>NaN</td>\n",
       "      <td>KevinRose,JayAdelson,OwenByrne,RonGorodetzky,D...</td>\n",
       "      <td>i/oVentures,Digg,Digg,Digg,TinySpeck,LinkedIn,...</td>\n",
       "      <td>Redding,CA-Detroit,MI-NewRochelle,NewYork-Illi...</td>\n",
       "      <td>Founder&amp;CEO,ChiefExecutiveOfficer,SeniorSoftwa...</td>\n",
       "      <td>26522.0</td>\n",
       "      <td>user driven social content website  it's promo...</td>\n",
       "      <td></td>\n",
       "    </tr>\n",
       "    <tr>\n",
       "      <th>3</th>\n",
       "      <td>c:4</td>\n",
       "      <td>Digg</td>\n",
       "      <td>news</td>\n",
       "      <td>acquired</td>\n",
       "      <td>digg.com</td>\n",
       "      <td>digg</td>\n",
       "      <td>280.0</td>\n",
       "      <td>280.0</td>\n",
       "      <td>NaN</td>\n",
       "      <td>NaN</td>\n",
       "      <td>...</td>\n",
       "      <td>NaN</td>\n",
       "      <td>NaN</td>\n",
       "      <td>NaN</td>\n",
       "      <td>KevinRose,JayAdelson,OwenByrne,RonGorodetzky,D...</td>\n",
       "      <td>i/oVentures,Digg,Digg,Digg,TinySpeck,LinkedIn,...</td>\n",
       "      <td>Redding,CA-Detroit,MI-NewRochelle,NewYork-Illi...</td>\n",
       "      <td>Founder&amp;CEO,ChiefExecutiveOfficer,SeniorSoftwa...</td>\n",
       "      <td>26522.0</td>\n",
       "      <td>user driven social content website  it's promo...</td>\n",
       "      <td></td>\n",
       "    </tr>\n",
       "  </tbody>\n",
       "</table>\n",
       "<p>4 rows × 21 columns</p>\n",
       "</div>"
      ],
      "text/plain": [
       "    id  name category_code    status    domain twitter_username  logo_width  \\\n",
       "0  c:4  Digg          news  acquired  digg.com             digg       280.0   \n",
       "1  c:4  Digg          news  acquired  digg.com             digg       280.0   \n",
       "2  c:4  Digg          news  acquired  digg.com             digg       280.0   \n",
       "3  c:4  Digg          news  acquired  digg.com             digg       280.0   \n",
       "\n",
       "   logo_height  investment_rounds  invested_companies  ...  funding_total_usd  \\\n",
       "0        280.0                NaN                 NaN  ...                NaN   \n",
       "1        280.0                NaN                 NaN  ...                NaN   \n",
       "2        280.0                NaN                 NaN  ...                NaN   \n",
       "3        280.0                NaN                 NaN  ...                NaN   \n",
       "\n",
       "   milestones  relationships  \\\n",
       "0         NaN            NaN   \n",
       "1         NaN            NaN   \n",
       "2         NaN            NaN   \n",
       "3         NaN            NaN   \n",
       "\n",
       "                                       persons_names  \\\n",
       "0  KevinRose,JayAdelson,OwenByrne,RonGorodetzky,D...   \n",
       "1  KevinRose,JayAdelson,OwenByrne,RonGorodetzky,D...   \n",
       "2  KevinRose,JayAdelson,OwenByrne,RonGorodetzky,D...   \n",
       "3  KevinRose,JayAdelson,OwenByrne,RonGorodetzky,D...   \n",
       "\n",
       "                                    all_affiliations  \\\n",
       "0  i/oVentures,Digg,Digg,Digg,TinySpeck,LinkedIn,...   \n",
       "1  i/oVentures,Digg,Digg,Digg,TinySpeck,LinkedIn,...   \n",
       "2  i/oVentures,Digg,Digg,Digg,TinySpeck,LinkedIn,...   \n",
       "3  i/oVentures,Digg,Digg,Digg,TinySpeck,LinkedIn,...   \n",
       "\n",
       "                                 persons_birthplaces  \\\n",
       "0  Redding,CA-Detroit,MI-NewRochelle,NewYork-Illi...   \n",
       "1  Redding,CA-Detroit,MI-NewRochelle,NewYork-Illi...   \n",
       "2  Redding,CA-Detroit,MI-NewRochelle,NewYork-Illi...   \n",
       "3  Redding,CA-Detroit,MI-NewRochelle,NewYork-Illi...   \n",
       "\n",
       "                                      persons_titles relationships_days  \\\n",
       "0  Founder&CEO,ChiefExecutiveOfficer,SeniorSoftwa...            26522.0   \n",
       "1  Founder&CEO,ChiefExecutiveOfficer,SeniorSoftwa...            26522.0   \n",
       "2  Founder&CEO,ChiefExecutiveOfficer,SeniorSoftwa...            26522.0   \n",
       "3  Founder&CEO,ChiefExecutiveOfficer,SeniorSoftwa...            26522.0   \n",
       "\n",
       "                                    full_description place  \n",
       "0  user driven social content website  it's promo...        \n",
       "1  user driven social content website  it's promo...        \n",
       "2  user driven social content website  it's promo...        \n",
       "3  user driven social content website  it's promo...        \n",
       "\n",
       "[4 rows x 21 columns]"
      ]
     },
     "execution_count": 62,
     "metadata": {},
     "output_type": "execute_result"
    }
   ],
   "source": [
    "# getting the remaining columns\n",
    "dupl_list = []\n",
    "for col in final.columns:\n",
    "    if col not in mult_list:\n",
    "        dupl_list.append(col)\n",
    "        \n",
    "# a specific company's duplicate rows\n",
    "print(\"A company's duplicate rows: \")\n",
    "final.loc[final['id'] == 'c:4'][dupl_list]"
   ]
  },
  {
   "cell_type": "code",
   "execution_count": 63,
   "metadata": {},
   "outputs": [
    {
     "name": "stdout",
     "output_type": "stream",
     "text": [
      "Total nulls number: 127661\n"
     ]
    }
   ],
   "source": [
    "# removing duplicates from columns that don't contain info for companies with multiple funding rounds\n",
    "grouped_no_duplicates = final[dupl_list].dropna(subset=['id']).drop_duplicates(subset=['id']).set_index('id')\n",
    "\n",
    "# getting all the null values of the DataFrame\n",
    "print(f\"Total nulls number: {grouped_no_duplicates.isnull().sum().sum()}\")"
   ]
  },
  {
   "cell_type": "markdown",
   "metadata": {},
   "source": [
    "**<ins>Calculating the _total participants per company_</ins>**"
   ]
  },
  {
   "cell_type": "code",
   "execution_count": 64,
   "metadata": {},
   "outputs": [
    {
     "name": "stdout",
     "output_type": "stream",
     "text": [
      "Participants number for various funding rounds \n",
      "\n",
      "    id      name  participants\n",
      "0  c:4      Digg             2\n",
      "1  c:4      Digg             8\n",
      "2  c:4      Digg             4\n",
      "3  c:4      Digg             0\n",
      "4  c:5  Facebook             2\n",
      "5  c:5  Facebook             3\n",
      "6  c:5  Facebook             4\n",
      "7  c:5  Facebook             1\n",
      "8  c:5  Facebook             2\n",
      "9  c:5  Facebook             1 \n",
      "\n",
      "Total participants for the company 'Digg': participants    14\n",
      "Name: c:4, dtype: int64\n",
      "\n",
      "Some rows from the 'total participants per company' feature\n",
      "\n"
     ]
    },
    {
     "data": {
      "text/html": [
       "<div>\n",
       "<style scoped>\n",
       "    .dataframe tbody tr th:only-of-type {\n",
       "        vertical-align: middle;\n",
       "    }\n",
       "\n",
       "    .dataframe tbody tr th {\n",
       "        vertical-align: top;\n",
       "    }\n",
       "\n",
       "    .dataframe thead th {\n",
       "        text-align: right;\n",
       "    }\n",
       "</style>\n",
       "<table border=\"1\" class=\"dataframe\">\n",
       "  <thead>\n",
       "    <tr style=\"text-align: right;\">\n",
       "      <th></th>\n",
       "      <th>participants</th>\n",
       "    </tr>\n",
       "    <tr>\n",
       "      <th>id</th>\n",
       "      <th></th>\n",
       "    </tr>\n",
       "  </thead>\n",
       "  <tbody>\n",
       "    <tr>\n",
       "      <th>c:1</th>\n",
       "      <td>9</td>\n",
       "    </tr>\n",
       "    <tr>\n",
       "      <th>c:1001</th>\n",
       "      <td>3</td>\n",
       "    </tr>\n",
       "    <tr>\n",
       "      <th>c:10014</th>\n",
       "      <td>1</td>\n",
       "    </tr>\n",
       "    <tr>\n",
       "      <th>c:10015</th>\n",
       "      <td>19</td>\n",
       "    </tr>\n",
       "    <tr>\n",
       "      <th>c:100155</th>\n",
       "      <td>5</td>\n",
       "    </tr>\n",
       "  </tbody>\n",
       "</table>\n",
       "</div>"
      ],
      "text/plain": [
       "          participants\n",
       "id                    \n",
       "c:1                  9\n",
       "c:1001               3\n",
       "c:10014              1\n",
       "c:10015             19\n",
       "c:100155             5"
      ]
     },
     "execution_count": 64,
     "metadata": {},
     "output_type": "execute_result"
    }
   ],
   "source": [
    "print(\"Participants number for various funding rounds\", \"\\n\")\n",
    "print(final[['id','name','participants']].head(10), \"\\n\")\n",
    "\n",
    "# GENERATING THE FEATURE\n",
    "grouped_participants = grouped_num_column(final, 'participants', 'id')\n",
    "\n",
    "# total participants for the company 'Digg'\n",
    "print(f\"Total participants for the company 'Digg': {grouped_participants.loc['c:4']}\\n\")\n",
    "\n",
    "print(f\"Some rows from the 'total participants per company' feature\\n\")\n",
    "grouped_participants.head()"
   ]
  },
  {
   "cell_type": "markdown",
   "metadata": {},
   "source": [
    "**<ins>Merging separate datasets to construct the *final unified dataset*</ins>**"
   ]
  },
  {
   "cell_type": "markdown",
   "metadata": {},
   "source": [
    "__Note__: We will call our unified dataset `funding`. From this point on, whenever we use the term 'data' we will be referring to our `funding` dataset."
   ]
  },
  {
   "cell_type": "code",
   "execution_count": 65,
   "metadata": {},
   "outputs": [
    {
     "name": "stdout",
     "output_type": "stream",
     "text": [
      "'\\N' values remain in the columns: ['category_code', 'domain', 'twitter_username']\n",
      "\n",
      "Converting '\\N' values to NaN\n",
      "\n",
      "The final unified dataset\n"
     ]
    },
    {
     "data": {
      "text/html": [
       "<div>\n",
       "<style scoped>\n",
       "    .dataframe tbody tr th:only-of-type {\n",
       "        vertical-align: middle;\n",
       "    }\n",
       "\n",
       "    .dataframe tbody tr th {\n",
       "        vertical-align: top;\n",
       "    }\n",
       "\n",
       "    .dataframe thead th {\n",
       "        text-align: right;\n",
       "    }\n",
       "</style>\n",
       "<table border=\"1\" class=\"dataframe\">\n",
       "  <thead>\n",
       "    <tr style=\"text-align: right;\">\n",
       "      <th></th>\n",
       "      <th>name</th>\n",
       "      <th>category_code</th>\n",
       "      <th>status</th>\n",
       "      <th>domain</th>\n",
       "      <th>twitter_username</th>\n",
       "      <th>logo_width</th>\n",
       "      <th>logo_height</th>\n",
       "      <th>investment_rounds</th>\n",
       "      <th>invested_companies</th>\n",
       "      <th>funding_rounds</th>\n",
       "      <th>...</th>\n",
       "      <th>all_affiliations</th>\n",
       "      <th>persons_birthplaces</th>\n",
       "      <th>persons_titles</th>\n",
       "      <th>relationships_days</th>\n",
       "      <th>full_description</th>\n",
       "      <th>place</th>\n",
       "      <th>participants</th>\n",
       "      <th>angel_usd</th>\n",
       "      <th>series-a_usd</th>\n",
       "      <th>funding_total_usd</th>\n",
       "    </tr>\n",
       "    <tr>\n",
       "      <th>id</th>\n",
       "      <th></th>\n",
       "      <th></th>\n",
       "      <th></th>\n",
       "      <th></th>\n",
       "      <th></th>\n",
       "      <th></th>\n",
       "      <th></th>\n",
       "      <th></th>\n",
       "      <th></th>\n",
       "      <th></th>\n",
       "      <th></th>\n",
       "      <th></th>\n",
       "      <th></th>\n",
       "      <th></th>\n",
       "      <th></th>\n",
       "      <th></th>\n",
       "      <th></th>\n",
       "      <th></th>\n",
       "      <th></th>\n",
       "      <th></th>\n",
       "      <th></th>\n",
       "    </tr>\n",
       "  </thead>\n",
       "  <tbody>\n",
       "    <tr>\n",
       "      <th>c:5</th>\n",
       "      <td>Facebook</td>\n",
       "      <td>social</td>\n",
       "      <td>ipo</td>\n",
       "      <td>facebook.com</td>\n",
       "      <td>facebook</td>\n",
       "      <td>2100.0</td>\n",
       "      <td>790.0</td>\n",
       "      <td>NaN</td>\n",
       "      <td>NaN</td>\n",
       "      <td>NaN</td>\n",
       "      <td>...</td>\n",
       "      <td>Facebook,Facebook,Asana,LinkedIn,GeneralCataly...</td>\n",
       "      <td>Gainesville,FL-Hickery,NorthCarolina-CedarFall...</td>\n",
       "      <td>FounderandCEO,BoardOfDirectors,Co-Founder,Chie...</td>\n",
       "      <td>77960.0</td>\n",
       "      <td>Social network</td>\n",
       "      <td></td>\n",
       "      <td>20</td>\n",
       "      <td>500000.0</td>\n",
       "      <td>12700000.0</td>\n",
       "      <td>13200000</td>\n",
       "    </tr>\n",
       "    <tr>\n",
       "      <th>c:15</th>\n",
       "      <td>Scribd</td>\n",
       "      <td>news</td>\n",
       "      <td>operating</td>\n",
       "      <td>scribd.com</td>\n",
       "      <td>scribd</td>\n",
       "      <td>114.0</td>\n",
       "      <td>114.0</td>\n",
       "      <td>NaN</td>\n",
       "      <td>NaN</td>\n",
       "      <td>5.0</td>\n",
       "      <td>...</td>\n",
       "      <td>GumGum,cacaoTV,Scribd,Scribd,Bebo,Scribd,Gravi...</td>\n",
       "      <td>LosAngeles-LagunaBeach,CA</td>\n",
       "      <td>BoardofDirectors,CEO/Co-Founder,CTO/Co-Founder...</td>\n",
       "      <td>5448.0</td>\n",
       "      <td>Read Unlimited Books book-subscription, digita...</td>\n",
       "      <td>San Francisco SF Bay CA USA</td>\n",
       "      <td>15</td>\n",
       "      <td>52000.0</td>\n",
       "      <td>3710000.0</td>\n",
       "      <td>3762000</td>\n",
       "    </tr>\n",
       "    <tr>\n",
       "      <th>c:43</th>\n",
       "      <td>Thoof</td>\n",
       "      <td>web</td>\n",
       "      <td>closed</td>\n",
       "      <td>thoof.com</td>\n",
       "      <td>NaN</td>\n",
       "      <td>195.0</td>\n",
       "      <td>97.0</td>\n",
       "      <td>NaN</td>\n",
       "      <td>NaN</td>\n",
       "      <td>1.0</td>\n",
       "      <td>...</td>\n",
       "      <td>OneSpot,OneSpot</td>\n",
       "      <td></td>\n",
       "      <td>Board,FounderandCEO</td>\n",
       "      <td>744.0</td>\n",
       "      <td>social-news</td>\n",
       "      <td>Austin Austin TX USA</td>\n",
       "      <td>2</td>\n",
       "      <td>1000000.0</td>\n",
       "      <td>0.0</td>\n",
       "      <td>1000000</td>\n",
       "    </tr>\n",
       "    <tr>\n",
       "      <th>c:44</th>\n",
       "      <td>Jingle Networks</td>\n",
       "      <td>mobile</td>\n",
       "      <td>acquired</td>\n",
       "      <td>jinglenetworks.com</td>\n",
       "      <td>Marchex</td>\n",
       "      <td>230.0</td>\n",
       "      <td>38.0</td>\n",
       "      <td>NaN</td>\n",
       "      <td>NaN</td>\n",
       "      <td>7.0</td>\n",
       "      <td>...</td>\n",
       "      <td>JingleNetworks,Vitrue,JingleNetworks,gen,Unaff...</td>\n",
       "      <td></td>\n",
       "      <td>FounderandCTO,Director,CFO,BoardMember,CTO,Dir...</td>\n",
       "      <td>2557.0</td>\n",
       "      <td>Voice and Mobile Search directoryassistance, a...</td>\n",
       "      <td>New York New York NY USA</td>\n",
       "      <td>19</td>\n",
       "      <td>400000.0</td>\n",
       "      <td>5000000.0</td>\n",
       "      <td>5400000</td>\n",
       "    </tr>\n",
       "    <tr>\n",
       "      <th>c:54</th>\n",
       "      <td>Wesabe</td>\n",
       "      <td>web</td>\n",
       "      <td>closed</td>\n",
       "      <td>wesabe.com</td>\n",
       "      <td>jasonlong</td>\n",
       "      <td>129.0</td>\n",
       "      <td>133.0</td>\n",
       "      <td>NaN</td>\n",
       "      <td>NaN</td>\n",
       "      <td>2.0</td>\n",
       "      <td>...</td>\n",
       "      <td>Wesabe,Wesabe,CrowdVine</td>\n",
       "      <td>SantaRosa,CA</td>\n",
       "      <td>Co-founderandCEO,Co-FounderandCEO,SoftwareEngi...</td>\n",
       "      <td>0.0</td>\n",
       "      <td>moneymanagement, finance, money</td>\n",
       "      <td>San Francisco SF Bay CA USA</td>\n",
       "      <td>3</td>\n",
       "      <td>700000.0</td>\n",
       "      <td>4000000.0</td>\n",
       "      <td>4700000</td>\n",
       "    </tr>\n",
       "    <tr>\n",
       "      <th>...</th>\n",
       "      <td>...</td>\n",
       "      <td>...</td>\n",
       "      <td>...</td>\n",
       "      <td>...</td>\n",
       "      <td>...</td>\n",
       "      <td>...</td>\n",
       "      <td>...</td>\n",
       "      <td>...</td>\n",
       "      <td>...</td>\n",
       "      <td>...</td>\n",
       "      <td>...</td>\n",
       "      <td>...</td>\n",
       "      <td>...</td>\n",
       "      <td>...</td>\n",
       "      <td>...</td>\n",
       "      <td>...</td>\n",
       "      <td>...</td>\n",
       "      <td>...</td>\n",
       "      <td>...</td>\n",
       "      <td>...</td>\n",
       "      <td>...</td>\n",
       "    </tr>\n",
       "    <tr>\n",
       "      <th>c:182681</th>\n",
       "      <td>Sportlobster</td>\n",
       "      <td>web</td>\n",
       "      <td>operating</td>\n",
       "      <td>sportlobster.com</td>\n",
       "      <td>sportlobster</td>\n",
       "      <td>696.0</td>\n",
       "      <td>165.0</td>\n",
       "      <td>NaN</td>\n",
       "      <td>NaN</td>\n",
       "      <td>2.0</td>\n",
       "      <td>...</td>\n",
       "      <td>NI&amp;COCREATIVE,Sportlobster,Sportlobster</td>\n",
       "      <td>Windsor</td>\n",
       "      <td>ChiefArchitect,Co-Founder,Co-Founder</td>\n",
       "      <td>0.0</td>\n",
       "      <td>The Sport Social Network sport, sports, social...</td>\n",
       "      <td>London London  GBR</td>\n",
       "      <td>0</td>\n",
       "      <td>750000.0</td>\n",
       "      <td>1000000.0</td>\n",
       "      <td>1750000</td>\n",
       "    </tr>\n",
       "    <tr>\n",
       "      <th>c:285592</th>\n",
       "      <td>Chippmunk</td>\n",
       "      <td>ecommerce</td>\n",
       "      <td>operating</td>\n",
       "      <td>chippmunk.com</td>\n",
       "      <td>ShopChippmunk</td>\n",
       "      <td>180.0</td>\n",
       "      <td>63.0</td>\n",
       "      <td>NaN</td>\n",
       "      <td>NaN</td>\n",
       "      <td>1.0</td>\n",
       "      <td>...</td>\n",
       "      <td>Unaffiliated,Unaffiliated</td>\n",
       "      <td></td>\n",
       "      <td>Co-FounderandCEO,Co-FounderandHeadofProduct</td>\n",
       "      <td>0.0</td>\n",
       "      <td>Savings Search Engine shopping, retailers, sav...</td>\n",
       "      <td>Los Angeles Los Angeles CA USA</td>\n",
       "      <td>5</td>\n",
       "      <td>750000.0</td>\n",
       "      <td>0.0</td>\n",
       "      <td>750000</td>\n",
       "    </tr>\n",
       "    <tr>\n",
       "      <th>c:286003</th>\n",
       "      <td>Microbiome Therapeutics</td>\n",
       "      <td>biotech</td>\n",
       "      <td>operating</td>\n",
       "      <td>mbiome.com</td>\n",
       "      <td>NaN</td>\n",
       "      <td>252.0</td>\n",
       "      <td>82.0</td>\n",
       "      <td>NaN</td>\n",
       "      <td>NaN</td>\n",
       "      <td>1.0</td>\n",
       "      <td>...</td>\n",
       "      <td>Unaffiliated,Unaffiliated</td>\n",
       "      <td></td>\n",
       "      <td>President&amp;CEO,CSO</td>\n",
       "      <td>0.0</td>\n",
       "      <td></td>\n",
       "      <td>Broomfield Denver CO USA</td>\n",
       "      <td>0</td>\n",
       "      <td>1265131.0</td>\n",
       "      <td>0.0</td>\n",
       "      <td>1265131</td>\n",
       "    </tr>\n",
       "    <tr>\n",
       "      <th>c:286037</th>\n",
       "      <td>Wham City Lights</td>\n",
       "      <td>software</td>\n",
       "      <td>operating</td>\n",
       "      <td>whamcitylights.com</td>\n",
       "      <td>WhamCityLights</td>\n",
       "      <td>1104.0</td>\n",
       "      <td>217.0</td>\n",
       "      <td>NaN</td>\n",
       "      <td>NaN</td>\n",
       "      <td>NaN</td>\n",
       "      <td>...</td>\n",
       "      <td>Unaffiliated</td>\n",
       "      <td></td>\n",
       "      <td>President</td>\n",
       "      <td>0.0</td>\n",
       "      <td></td>\n",
       "      <td></td>\n",
       "      <td>0</td>\n",
       "      <td>500000.0</td>\n",
       "      <td>0.0</td>\n",
       "      <td>500000</td>\n",
       "    </tr>\n",
       "    <tr>\n",
       "      <th>c:286052</th>\n",
       "      <td>DoorBot</td>\n",
       "      <td>security</td>\n",
       "      <td>operating</td>\n",
       "      <td>getdoorbot.com</td>\n",
       "      <td>NaN</td>\n",
       "      <td>180.0</td>\n",
       "      <td>56.0</td>\n",
       "      <td>NaN</td>\n",
       "      <td>NaN</td>\n",
       "      <td>1.0</td>\n",
       "      <td>...</td>\n",
       "      <td>AudioMicro,SimulScribe</td>\n",
       "      <td>NewJersey</td>\n",
       "      <td>CHIEFINVENTOR,CTO</td>\n",
       "      <td>0.0</td>\n",
       "      <td></td>\n",
       "      <td>Santa Monica Los Angeles CA USA</td>\n",
       "      <td>0</td>\n",
       "      <td>1000000.0</td>\n",
       "      <td>0.0</td>\n",
       "      <td>1000000</td>\n",
       "    </tr>\n",
       "  </tbody>\n",
       "</table>\n",
       "<p>8218 rows × 23 columns</p>\n",
       "</div>"
      ],
      "text/plain": [
       "                             name category_code     status  \\\n",
       "id                                                           \n",
       "c:5                      Facebook        social        ipo   \n",
       "c:15                       Scribd          news  operating   \n",
       "c:43                        Thoof           web     closed   \n",
       "c:44              Jingle Networks        mobile   acquired   \n",
       "c:54                       Wesabe           web     closed   \n",
       "...                           ...           ...        ...   \n",
       "c:182681             Sportlobster           web  operating   \n",
       "c:285592                Chippmunk     ecommerce  operating   \n",
       "c:286003  Microbiome Therapeutics       biotech  operating   \n",
       "c:286037         Wham City Lights      software  operating   \n",
       "c:286052                  DoorBot      security  operating   \n",
       "\n",
       "                      domain twitter_username  logo_width  logo_height  \\\n",
       "id                                                                       \n",
       "c:5             facebook.com         facebook      2100.0        790.0   \n",
       "c:15              scribd.com           scribd       114.0        114.0   \n",
       "c:43               thoof.com              NaN       195.0         97.0   \n",
       "c:44      jinglenetworks.com          Marchex       230.0         38.0   \n",
       "c:54              wesabe.com        jasonlong       129.0        133.0   \n",
       "...                      ...              ...         ...          ...   \n",
       "c:182681    sportlobster.com     sportlobster       696.0        165.0   \n",
       "c:285592       chippmunk.com    ShopChippmunk       180.0         63.0   \n",
       "c:286003          mbiome.com              NaN       252.0         82.0   \n",
       "c:286037  whamcitylights.com   WhamCityLights      1104.0        217.0   \n",
       "c:286052      getdoorbot.com              NaN       180.0         56.0   \n",
       "\n",
       "          investment_rounds  invested_companies  funding_rounds  ...  \\\n",
       "id                                                               ...   \n",
       "c:5                     NaN                 NaN             NaN  ...   \n",
       "c:15                    NaN                 NaN             5.0  ...   \n",
       "c:43                    NaN                 NaN             1.0  ...   \n",
       "c:44                    NaN                 NaN             7.0  ...   \n",
       "c:54                    NaN                 NaN             2.0  ...   \n",
       "...                     ...                 ...             ...  ...   \n",
       "c:182681                NaN                 NaN             2.0  ...   \n",
       "c:285592                NaN                 NaN             1.0  ...   \n",
       "c:286003                NaN                 NaN             1.0  ...   \n",
       "c:286037                NaN                 NaN             NaN  ...   \n",
       "c:286052                NaN                 NaN             1.0  ...   \n",
       "\n",
       "                                           all_affiliations  \\\n",
       "id                                                            \n",
       "c:5       Facebook,Facebook,Asana,LinkedIn,GeneralCataly...   \n",
       "c:15      GumGum,cacaoTV,Scribd,Scribd,Bebo,Scribd,Gravi...   \n",
       "c:43                                        OneSpot,OneSpot   \n",
       "c:44      JingleNetworks,Vitrue,JingleNetworks,gen,Unaff...   \n",
       "c:54                                Wesabe,Wesabe,CrowdVine   \n",
       "...                                                     ...   \n",
       "c:182681            NI&COCREATIVE,Sportlobster,Sportlobster   \n",
       "c:285592                          Unaffiliated,Unaffiliated   \n",
       "c:286003                          Unaffiliated,Unaffiliated   \n",
       "c:286037                                       Unaffiliated   \n",
       "c:286052                             AudioMicro,SimulScribe   \n",
       "\n",
       "                                        persons_birthplaces  \\\n",
       "id                                                            \n",
       "c:5       Gainesville,FL-Hickery,NorthCarolina-CedarFall...   \n",
       "c:15                              LosAngeles-LagunaBeach,CA   \n",
       "c:43                                                          \n",
       "c:44                                                          \n",
       "c:54                                           SantaRosa,CA   \n",
       "...                                                     ...   \n",
       "c:182681                                            Windsor   \n",
       "c:285592                                                      \n",
       "c:286003                                                      \n",
       "c:286037                                                      \n",
       "c:286052                                          NewJersey   \n",
       "\n",
       "                                             persons_titles  \\\n",
       "id                                                            \n",
       "c:5       FounderandCEO,BoardOfDirectors,Co-Founder,Chie...   \n",
       "c:15      BoardofDirectors,CEO/Co-Founder,CTO/Co-Founder...   \n",
       "c:43                                    Board,FounderandCEO   \n",
       "c:44      FounderandCTO,Director,CFO,BoardMember,CTO,Dir...   \n",
       "c:54      Co-founderandCEO,Co-FounderandCEO,SoftwareEngi...   \n",
       "...                                                     ...   \n",
       "c:182681               ChiefArchitect,Co-Founder,Co-Founder   \n",
       "c:285592        Co-FounderandCEO,Co-FounderandHeadofProduct   \n",
       "c:286003                                  President&CEO,CSO   \n",
       "c:286037                                          President   \n",
       "c:286052                                  CHIEFINVENTOR,CTO   \n",
       "\n",
       "         relationships_days  \\\n",
       "id                            \n",
       "c:5                 77960.0   \n",
       "c:15                 5448.0   \n",
       "c:43                  744.0   \n",
       "c:44                 2557.0   \n",
       "c:54                    0.0   \n",
       "...                     ...   \n",
       "c:182681                0.0   \n",
       "c:285592                0.0   \n",
       "c:286003                0.0   \n",
       "c:286037                0.0   \n",
       "c:286052                0.0   \n",
       "\n",
       "                                           full_description  \\\n",
       "id                                                            \n",
       "c:5                                         Social network    \n",
       "c:15      Read Unlimited Books book-subscription, digita...   \n",
       "c:43                                            social-news   \n",
       "c:44      Voice and Mobile Search directoryassistance, a...   \n",
       "c:54                        moneymanagement, finance, money   \n",
       "...                                                     ...   \n",
       "c:182681  The Sport Social Network sport, sports, social...   \n",
       "c:285592  Savings Search Engine shopping, retailers, sav...   \n",
       "c:286003                                                      \n",
       "c:286037                                                      \n",
       "c:286052                                                      \n",
       "\n",
       "                                    place  participants  angel_usd  \\\n",
       "id                                                                   \n",
       "c:5                                                  20   500000.0   \n",
       "c:15          San Francisco SF Bay CA USA            15    52000.0   \n",
       "c:43                 Austin Austin TX USA             2  1000000.0   \n",
       "c:44             New York New York NY USA            19   400000.0   \n",
       "c:54          San Francisco SF Bay CA USA             3   700000.0   \n",
       "...                                   ...           ...        ...   \n",
       "c:182681               London London  GBR             0   750000.0   \n",
       "c:285592   Los Angeles Los Angeles CA USA             5   750000.0   \n",
       "c:286003         Broomfield Denver CO USA             0  1265131.0   \n",
       "c:286037                                              0   500000.0   \n",
       "c:286052  Santa Monica Los Angeles CA USA             0  1000000.0   \n",
       "\n",
       "         series-a_usd  funding_total_usd  \n",
       "id                                        \n",
       "c:5        12700000.0           13200000  \n",
       "c:15        3710000.0            3762000  \n",
       "c:43              0.0            1000000  \n",
       "c:44        5000000.0            5400000  \n",
       "c:54        4000000.0            4700000  \n",
       "...               ...                ...  \n",
       "c:182681    1000000.0            1750000  \n",
       "c:285592          0.0             750000  \n",
       "c:286003          0.0            1265131  \n",
       "c:286037          0.0             500000  \n",
       "c:286052          0.0            1000000  \n",
       "\n",
       "[8218 rows x 23 columns]"
      ]
     },
     "execution_count": 65,
     "metadata": {},
     "output_type": "execute_result"
    }
   ],
   "source": [
    "# dropping the original 'funding_total_usd' column (the one containing NaNs)\n",
    "grouped_no_duplicates = grouped_no_duplicates.drop(['funding_total_usd'],axis=1)\n",
    "\n",
    "# OUR FINAL UNIFIED DATASET\n",
    "funding = grouped_no_duplicates.merge(grouped_participants,left_index=True,right_index=True).merge(grouped_rounds,left_index=True,right_index=True)\n",
    "\n",
    "# suppressing the scientific notation for the 'funding_total_usd' column ('int64' as we have very large numbers)\n",
    "funding['funding_total_usd'] = funding['funding_total_usd'].astype('int64')\n",
    "\n",
    "# checking if any '\\N' values remain\n",
    "rem = []\n",
    "for col in funding.columns:\n",
    "    if '\\\\N' in funding[col].value_counts():\n",
    "        rem.append(col)\n",
    "print(f\"'\\\\N' values remain in the columns: {rem}\\n\")\n",
    "\n",
    "# converting remaining '\\N' values to NaN values\n",
    "if len(rem) > 0:\n",
    "    print(f\"Converting '\\\\N' values to NaN\\n\")\n",
    "    funding = funding.replace('\\\\N', np.nan)\n",
    "\n",
    "print(\"The final unified dataset\")\n",
    "funding"
   ]
  },
  {
   "cell_type": "markdown",
   "metadata": {},
   "source": [
    "### Checking the data structure"
   ]
  },
  {
   "cell_type": "code",
   "execution_count": 66,
   "metadata": {},
   "outputs": [
    {
     "name": "stdout",
     "output_type": "stream",
     "text": [
      "<class 'pandas.core.frame.DataFrame'>\n",
      "Index: 8218 entries, c:5 to c:286052\n",
      "Data columns (total 23 columns):\n",
      " #   Column               Non-Null Count  Dtype  \n",
      "---  ------               --------------  -----  \n",
      " 0   name                 8218 non-null   object \n",
      " 1   category_code        8045 non-null   object \n",
      " 2   status               8218 non-null   object \n",
      " 3   domain               8021 non-null   object \n",
      " 4   twitter_username     6423 non-null   object \n",
      " 5   logo_width           7775 non-null   float64\n",
      " 6   logo_height          7775 non-null   float64\n",
      " 7   investment_rounds    23 non-null     float64\n",
      " 8   invested_companies   23 non-null     float64\n",
      " 9   funding_rounds       7739 non-null   float64\n",
      " 10  milestones           5138 non-null   float64\n",
      " 11  relationships        6754 non-null   float64\n",
      " 12  persons_names        7179 non-null   object \n",
      " 13  all_affiliations     7179 non-null   object \n",
      " 14  persons_birthplaces  7179 non-null   object \n",
      " 15  persons_titles       7179 non-null   object \n",
      " 16  relationships_days   7179 non-null   float64\n",
      " 17  full_description     8218 non-null   object \n",
      " 18  place                8218 non-null   object \n",
      " 19  participants         8218 non-null   int64  \n",
      " 20  angel_usd            8218 non-null   float64\n",
      " 21  series-a_usd         8218 non-null   float64\n",
      " 22  funding_total_usd    8218 non-null   int64  \n",
      "dtypes: float64(10), int64(2), object(11)\n",
      "memory usage: 1.5+ MB\n"
     ]
    }
   ],
   "source": [
    "funding.info()"
   ]
  },
  {
   "cell_type": "markdown",
   "metadata": {},
   "source": [
    "__Note__: As we can see there are various features with missing values. There are 3 ways to handle this:\n",
    "1. By dropping rows that contain `NaN` values\n",
    "2. By dropping entire features (for features with many null values)\n",
    "3. By imputing the missing values\n",
    "\n",
    "We will begin the process by dropping some features that have many nulls and features we do not really need anymore (since our target attribute is the _total funding_ - aggregated Angel and Series A sums - per company the separate sums raised per round can be removed). When it comes to the `funding_rounds` feature we won't drop it despite the fact that some companies raised a high number of fundings (e.g. > 10) because an Angel or a Series A funding might have been split into multiple fundings."
   ]
  },
  {
   "cell_type": "code",
   "execution_count": 67,
   "metadata": {},
   "outputs": [],
   "source": [
    "cols_to_go = ['investment_rounds', 'invested_companies', 'domain', \n",
    "              'twitter_username', 'angel_usd', 'series-a_usd']\n",
    "\n",
    "# dropping the features\n",
    "funding = funding.drop(cols_to_go, axis=1)\n",
    "\n",
    "# setting the 'name' column as the index\n",
    "funding = funding.set_index('name')"
   ]
  },
  {
   "cell_type": "markdown",
   "metadata": {},
   "source": [
    "We will now drop rows with `NaN` values in various columns."
   ]
  },
  {
   "cell_type": "code",
   "execution_count": 68,
   "metadata": {},
   "outputs": [
    {
     "name": "stdout",
     "output_type": "stream",
     "text": [
      "A summary for the 'funding' DataFrame\n",
      "\n",
      "<class 'pandas.core.frame.DataFrame'>\n",
      "Index: 6746 entries, Facebook to DoorBot\n",
      "Data columns (total 16 columns):\n",
      " #   Column               Non-Null Count  Dtype  \n",
      "---  ------               --------------  -----  \n",
      " 0   category_code        6746 non-null   object \n",
      " 1   status               6746 non-null   object \n",
      " 2   logo_width           6746 non-null   float64\n",
      " 3   logo_height          6746 non-null   float64\n",
      " 4   funding_rounds       6313 non-null   float64\n",
      " 5   milestones           4731 non-null   float64\n",
      " 6   relationships        6313 non-null   float64\n",
      " 7   persons_names        6746 non-null   object \n",
      " 8   all_affiliations     6746 non-null   object \n",
      " 9   persons_birthplaces  6746 non-null   object \n",
      " 10  persons_titles       6746 non-null   object \n",
      " 11  relationships_days   6746 non-null   float64\n",
      " 12  full_description     6746 non-null   object \n",
      " 13  place                6746 non-null   object \n",
      " 14  participants         6746 non-null   int64  \n",
      " 15  funding_total_usd    6746 non-null   int64  \n",
      "dtypes: float64(6), int64(2), object(8)\n",
      "memory usage: 896.0+ KB\n",
      "None \n",
      "\n",
      "Data types of features counts\n",
      "\n"
     ]
    },
    {
     "data": {
      "text/plain": [
       "object     8\n",
       "float64    6\n",
       "int64      2\n",
       "dtype: int64"
      ]
     },
     "execution_count": 68,
     "metadata": {},
     "output_type": "execute_result"
    }
   ],
   "source": [
    "cols_drop_nans = []\n",
    "for col in funding.columns:\n",
    "    if col not in ['funding_rounds', 'milestones', 'relationships']:\n",
    "        cols_drop_nans.append(col)\n",
    "\n",
    "# dropping the rows\n",
    "funding = funding.dropna(subset=cols_drop_nans)\n",
    "\n",
    "print(f\"A summary for the 'funding' DataFrame\\n\")\n",
    "print(funding.info(), \"\\n\")\n",
    "\n",
    "# data types\n",
    "print(f\"Data types of features counts\\n\")\n",
    "funding.dtypes.value_counts()"
   ]
  },
  {
   "cell_type": "markdown",
   "metadata": {},
   "source": [
    "__Note__: As we can see 3 features remain that have nonnull values, the `funding_rounds`, `milestones` and `relationships` ones (as we did not drop their rows containing nulls). We will deal with these remaining missing values later (via imputation).\n",
    "\n",
    "Regarding feature data types, we have various `object` (**_text_**) features, out of which some are _**categorical**_ (meaning they have repetitive values), and other numerical ones.\n",
    "\n",
    "We will now get a summary of **_numerical_** attributes."
   ]
  },
  {
   "cell_type": "code",
   "execution_count": 69,
   "metadata": {},
   "outputs": [
    {
     "data": {
      "text/html": [
       "<div>\n",
       "<style scoped>\n",
       "    .dataframe tbody tr th:only-of-type {\n",
       "        vertical-align: middle;\n",
       "    }\n",
       "\n",
       "    .dataframe tbody tr th {\n",
       "        vertical-align: top;\n",
       "    }\n",
       "\n",
       "    .dataframe thead th {\n",
       "        text-align: right;\n",
       "    }\n",
       "</style>\n",
       "<table border=\"1\" class=\"dataframe\">\n",
       "  <thead>\n",
       "    <tr style=\"text-align: right;\">\n",
       "      <th></th>\n",
       "      <th>logo_width</th>\n",
       "      <th>logo_height</th>\n",
       "      <th>funding_rounds</th>\n",
       "      <th>milestones</th>\n",
       "      <th>relationships</th>\n",
       "      <th>relationships_days</th>\n",
       "      <th>participants</th>\n",
       "      <th>funding_total_usd</th>\n",
       "    </tr>\n",
       "  </thead>\n",
       "  <tbody>\n",
       "    <tr>\n",
       "      <th>count</th>\n",
       "      <td>6746.000000</td>\n",
       "      <td>6746.000000</td>\n",
       "      <td>6313.000000</td>\n",
       "      <td>4731.000000</td>\n",
       "      <td>6313.000000</td>\n",
       "      <td>6746.000000</td>\n",
       "      <td>6746.000000</td>\n",
       "      <td>6.746000e+03</td>\n",
       "    </tr>\n",
       "    <tr>\n",
       "      <th>mean</th>\n",
       "      <td>603.433739</td>\n",
       "      <td>288.928106</td>\n",
       "      <td>1.721527</td>\n",
       "      <td>1.574509</td>\n",
       "      <td>4.287027</td>\n",
       "      <td>401.583012</td>\n",
       "      <td>2.453157</td>\n",
       "      <td>1.091702e+06</td>\n",
       "    </tr>\n",
       "    <tr>\n",
       "      <th>std</th>\n",
       "      <td>744.552303</td>\n",
       "      <td>403.853067</td>\n",
       "      <td>1.223738</td>\n",
       "      <td>0.786580</td>\n",
       "      <td>13.820871</td>\n",
       "      <td>7200.916654</td>\n",
       "      <td>4.191447</td>\n",
       "      <td>2.218262e+06</td>\n",
       "    </tr>\n",
       "    <tr>\n",
       "      <th>min</th>\n",
       "      <td>10.000000</td>\n",
       "      <td>10.000000</td>\n",
       "      <td>1.000000</td>\n",
       "      <td>1.000000</td>\n",
       "      <td>1.000000</td>\n",
       "      <td>0.000000</td>\n",
       "      <td>0.000000</td>\n",
       "      <td>1.000000e+03</td>\n",
       "    </tr>\n",
       "    <tr>\n",
       "      <th>25%</th>\n",
       "      <td>201.000000</td>\n",
       "      <td>77.000000</td>\n",
       "      <td>1.000000</td>\n",
       "      <td>1.000000</td>\n",
       "      <td>2.000000</td>\n",
       "      <td>0.000000</td>\n",
       "      <td>0.000000</td>\n",
       "      <td>1.014660e+05</td>\n",
       "    </tr>\n",
       "    <tr>\n",
       "      <th>50%</th>\n",
       "      <td>320.000000</td>\n",
       "      <td>141.000000</td>\n",
       "      <td>1.000000</td>\n",
       "      <td>1.000000</td>\n",
       "      <td>3.000000</td>\n",
       "      <td>0.000000</td>\n",
       "      <td>1.000000</td>\n",
       "      <td>4.282750e+05</td>\n",
       "    </tr>\n",
       "    <tr>\n",
       "      <th>75%</th>\n",
       "      <td>702.500000</td>\n",
       "      <td>345.000000</td>\n",
       "      <td>2.000000</td>\n",
       "      <td>2.000000</td>\n",
       "      <td>5.000000</td>\n",
       "      <td>0.000000</td>\n",
       "      <td>3.000000</td>\n",
       "      <td>1.000000e+06</td>\n",
       "    </tr>\n",
       "    <tr>\n",
       "      <th>max</th>\n",
       "      <td>10079.000000</td>\n",
       "      <td>7500.000000</td>\n",
       "      <td>15.000000</td>\n",
       "      <td>7.000000</td>\n",
       "      <td>1046.000000</td>\n",
       "      <td>579561.000000</td>\n",
       "      <td>58.000000</td>\n",
       "      <td>4.028600e+07</td>\n",
       "    </tr>\n",
       "  </tbody>\n",
       "</table>\n",
       "</div>"
      ],
      "text/plain": [
       "         logo_width  logo_height  funding_rounds   milestones  relationships  \\\n",
       "count   6746.000000  6746.000000     6313.000000  4731.000000    6313.000000   \n",
       "mean     603.433739   288.928106        1.721527     1.574509       4.287027   \n",
       "std      744.552303   403.853067        1.223738     0.786580      13.820871   \n",
       "min       10.000000    10.000000        1.000000     1.000000       1.000000   \n",
       "25%      201.000000    77.000000        1.000000     1.000000       2.000000   \n",
       "50%      320.000000   141.000000        1.000000     1.000000       3.000000   \n",
       "75%      702.500000   345.000000        2.000000     2.000000       5.000000   \n",
       "max    10079.000000  7500.000000       15.000000     7.000000    1046.000000   \n",
       "\n",
       "       relationships_days  participants  funding_total_usd  \n",
       "count         6746.000000   6746.000000       6.746000e+03  \n",
       "mean           401.583012      2.453157       1.091702e+06  \n",
       "std           7200.916654      4.191447       2.218262e+06  \n",
       "min              0.000000      0.000000       1.000000e+03  \n",
       "25%              0.000000      0.000000       1.014660e+05  \n",
       "50%              0.000000      1.000000       4.282750e+05  \n",
       "75%              0.000000      3.000000       1.000000e+06  \n",
       "max         579561.000000     58.000000       4.028600e+07  "
      ]
     },
     "execution_count": 69,
     "metadata": {},
     "output_type": "execute_result"
    }
   ],
   "source": [
    "funding.describe()"
   ]
  },
  {
   "cell_type": "markdown",
   "metadata": {},
   "source": [
    "We will also _**plot a histogram**_ for every _numerical feature_ , this will give us a better idea of the type of data we are dealing with."
   ]
  },
  {
   "cell_type": "code",
   "execution_count": 70,
   "metadata": {},
   "outputs": [
    {
     "data": {
      "image/png": "[encoded data removed]",
      "text/plain": [
       "<Figure size 1152x792 with 9 Axes>"
      ]
     },
     "metadata": {
      "needs_background": "light"
     },
     "output_type": "display_data"
    }
   ],
   "source": [
    "funding.hist(bins=30, figsize=(16,11))\n",
    "plt.show()"
   ]
  },
  {
   "cell_type": "markdown",
   "metadata": {},
   "source": [
    "__Note__: Our attributes have very different scales, so we need to perform _**feature scaling**_."
   ]
  },
  {
   "cell_type": "markdown",
   "metadata": {},
   "source": [
    "### Creating a Test Set"
   ]
  },
  {
   "cell_type": "markdown",
   "metadata": {},
   "source": [
    "We will use the random number's generator seed to make sure that the same test set will be produced every time we run our program (this way our algorithm will not get to see the whole dataset since the same shuffled indices will be produced every time).\n",
    "\n",
    "__Note__: `funding` will be our __training set__ from now on."
   ]
  },
  {
   "cell_type": "code",
   "execution_count": 71,
   "metadata": {},
   "outputs": [
    {
     "name": "stdout",
     "output_type": "stream",
     "text": [
      "Training set size:  5396\n",
      "Test set size:  1350 \n",
      "\n",
      "Top rows from the test set\n"
     ]
    },
    {
     "data": {
      "text/html": [
       "<div>\n",
       "<style scoped>\n",
       "    .dataframe tbody tr th:only-of-type {\n",
       "        vertical-align: middle;\n",
       "    }\n",
       "\n",
       "    .dataframe tbody tr th {\n",
       "        vertical-align: top;\n",
       "    }\n",
       "\n",
       "    .dataframe thead th {\n",
       "        text-align: right;\n",
       "    }\n",
       "</style>\n",
       "<table border=\"1\" class=\"dataframe\">\n",
       "  <thead>\n",
       "    <tr style=\"text-align: right;\">\n",
       "      <th></th>\n",
       "      <th>category_code</th>\n",
       "      <th>status</th>\n",
       "      <th>logo_width</th>\n",
       "      <th>logo_height</th>\n",
       "      <th>funding_rounds</th>\n",
       "      <th>milestones</th>\n",
       "      <th>relationships</th>\n",
       "      <th>persons_names</th>\n",
       "      <th>all_affiliations</th>\n",
       "      <th>persons_birthplaces</th>\n",
       "      <th>persons_titles</th>\n",
       "      <th>relationships_days</th>\n",
       "      <th>full_description</th>\n",
       "      <th>place</th>\n",
       "      <th>participants</th>\n",
       "      <th>funding_total_usd</th>\n",
       "    </tr>\n",
       "    <tr>\n",
       "      <th>name</th>\n",
       "      <th></th>\n",
       "      <th></th>\n",
       "      <th></th>\n",
       "      <th></th>\n",
       "      <th></th>\n",
       "      <th></th>\n",
       "      <th></th>\n",
       "      <th></th>\n",
       "      <th></th>\n",
       "      <th></th>\n",
       "      <th></th>\n",
       "      <th></th>\n",
       "      <th></th>\n",
       "      <th></th>\n",
       "      <th></th>\n",
       "      <th></th>\n",
       "    </tr>\n",
       "  </thead>\n",
       "  <tbody>\n",
       "    <tr>\n",
       "      <th>Lonely Sock</th>\n",
       "      <td>games_video</td>\n",
       "      <td>operating</td>\n",
       "      <td>600.0</td>\n",
       "      <td>450.0</td>\n",
       "      <td>1.0</td>\n",
       "      <td>NaN</td>\n",
       "      <td>1.0</td>\n",
       "      <td>JurajChrappa</td>\n",
       "      <td>Unaffiliated</td>\n",
       "      <td></td>\n",
       "      <td>Founder&amp;CEO</td>\n",
       "      <td>0.0</td>\n",
       "      <td>Mobile social games developer games, mobile, s...</td>\n",
       "      <td>Prague Prague  CZE</td>\n",
       "      <td>0</td>\n",
       "      <td>500000</td>\n",
       "    </tr>\n",
       "    <tr>\n",
       "      <th>Efficiency Exchange</th>\n",
       "      <td>analytics</td>\n",
       "      <td>operating</td>\n",
       "      <td>200.0</td>\n",
       "      <td>94.0</td>\n",
       "      <td>1.0</td>\n",
       "      <td>NaN</td>\n",
       "      <td>4.0</td>\n",
       "      <td>NeilKataria,TarynSullivan,SamuelZhou,LeeTrout</td>\n",
       "      <td>newBrandAnalytics,Unaffiliated,Unaffiliated,Un...</td>\n",
       "      <td></td>\n",
       "      <td>Investor,CEO,R&amp;D,Developer</td>\n",
       "      <td>0.0</td>\n",
       "      <td>Global supply chain analytics energy-managemen...</td>\n",
       "      <td>Virginia - Other VA USA</td>\n",
       "      <td>3</td>\n",
       "      <td>600000</td>\n",
       "    </tr>\n",
       "    <tr>\n",
       "      <th>Gingr</th>\n",
       "      <td>mobile</td>\n",
       "      <td>operating</td>\n",
       "      <td>819.0</td>\n",
       "      <td>331.0</td>\n",
       "      <td>1.0</td>\n",
       "      <td>NaN</td>\n",
       "      <td>2.0</td>\n",
       "      <td>HimanshuBamoria,SagarChandna</td>\n",
       "      <td>Unaffiliated,Unaffiliated</td>\n",
       "      <td></td>\n",
       "      <td>founder,founder</td>\n",
       "      <td>0.0</td>\n",
       "      <td>Whatsapp for local businesses local-space, mob...</td>\n",
       "      <td>Gurgaon Gurgaon  IND</td>\n",
       "      <td>0</td>\n",
       "      <td>28000</td>\n",
       "    </tr>\n",
       "    <tr>\n",
       "      <th>KlickEx</th>\n",
       "      <td>finance</td>\n",
       "      <td>operating</td>\n",
       "      <td>1280.0</td>\n",
       "      <td>1024.0</td>\n",
       "      <td>3.0</td>\n",
       "      <td>2.0</td>\n",
       "      <td>10.0</td>\n",
       "      <td>PhilNorman,PhilNorman,RobertBell,RossPeat,Ross...</td>\n",
       "      <td>Unaffiliated,Unaffiliated,KlickEx,Unaffiliated...</td>\n",
       "      <td>USA</td>\n",
       "      <td>Board,Director,CompanyManager,CEO,HeadofRetail...</td>\n",
       "      <td>4371.0</td>\n",
       "      <td>money-transfer, inter-bank-payments, payments...</td>\n",
       "      <td>Athens Athens  GRC</td>\n",
       "      <td>1</td>\n",
       "      <td>185000</td>\n",
       "    </tr>\n",
       "    <tr>\n",
       "      <th>PropelAd.com</th>\n",
       "      <td>advertising</td>\n",
       "      <td>operating</td>\n",
       "      <td>177.0</td>\n",
       "      <td>54.0</td>\n",
       "      <td>1.0</td>\n",
       "      <td>2.0</td>\n",
       "      <td>4.0</td>\n",
       "      <td>CharlieArdagh,GaryRafferty,TadhgO'Toole,JohnLa...</td>\n",
       "      <td>Unaffiliated,Unaffiliated,BloomEquity,PropelAd...</td>\n",
       "      <td>Dublin,Ireland-Dublin</td>\n",
       "      <td>CEO/Founder,CTO,Director/Investor,VPMarketing</td>\n",
       "      <td>0.0</td>\n",
       "      <td>Facebook Ads optimization service.  ireland, f...</td>\n",
       "      <td>Dublin Dublin  IRL</td>\n",
       "      <td>2</td>\n",
       "      <td>150000</td>\n",
       "    </tr>\n",
       "  </tbody>\n",
       "</table>\n",
       "</div>"
      ],
      "text/plain": [
       "                    category_code     status  logo_width  logo_height  \\\n",
       "name                                                                    \n",
       "Lonely Sock           games_video  operating       600.0        450.0   \n",
       "Efficiency Exchange     analytics  operating       200.0         94.0   \n",
       "Gingr                      mobile  operating       819.0        331.0   \n",
       "KlickEx                   finance  operating      1280.0       1024.0   \n",
       "PropelAd.com          advertising  operating       177.0         54.0   \n",
       "\n",
       "                     funding_rounds  milestones  relationships  \\\n",
       "name                                                             \n",
       "Lonely Sock                     1.0         NaN            1.0   \n",
       "Efficiency Exchange             1.0         NaN            4.0   \n",
       "Gingr                           1.0         NaN            2.0   \n",
       "KlickEx                         3.0         2.0           10.0   \n",
       "PropelAd.com                    1.0         2.0            4.0   \n",
       "\n",
       "                                                         persons_names  \\\n",
       "name                                                                     \n",
       "Lonely Sock                                               JurajChrappa   \n",
       "Efficiency Exchange      NeilKataria,TarynSullivan,SamuelZhou,LeeTrout   \n",
       "Gingr                                     HimanshuBamoria,SagarChandna   \n",
       "KlickEx              PhilNorman,PhilNorman,RobertBell,RossPeat,Ross...   \n",
       "PropelAd.com         CharlieArdagh,GaryRafferty,TadhgO'Toole,JohnLa...   \n",
       "\n",
       "                                                      all_affiliations  \\\n",
       "name                                                                     \n",
       "Lonely Sock                                               Unaffiliated   \n",
       "Efficiency Exchange  newBrandAnalytics,Unaffiliated,Unaffiliated,Un...   \n",
       "Gingr                                        Unaffiliated,Unaffiliated   \n",
       "KlickEx              Unaffiliated,Unaffiliated,KlickEx,Unaffiliated...   \n",
       "PropelAd.com         Unaffiliated,Unaffiliated,BloomEquity,PropelAd...   \n",
       "\n",
       "                       persons_birthplaces  \\\n",
       "name                                         \n",
       "Lonely Sock                                  \n",
       "Efficiency Exchange                          \n",
       "Gingr                                        \n",
       "KlickEx                                USA   \n",
       "PropelAd.com         Dublin,Ireland-Dublin   \n",
       "\n",
       "                                                        persons_titles  \\\n",
       "name                                                                     \n",
       "Lonely Sock                                                Founder&CEO   \n",
       "Efficiency Exchange                         Investor,CEO,R&D,Developer   \n",
       "Gingr                                                  founder,founder   \n",
       "KlickEx              Board,Director,CompanyManager,CEO,HeadofRetail...   \n",
       "PropelAd.com             CEO/Founder,CTO,Director/Investor,VPMarketing   \n",
       "\n",
       "                     relationships_days  \\\n",
       "name                                      \n",
       "Lonely Sock                         0.0   \n",
       "Efficiency Exchange                 0.0   \n",
       "Gingr                               0.0   \n",
       "KlickEx                          4371.0   \n",
       "PropelAd.com                        0.0   \n",
       "\n",
       "                                                      full_description  \\\n",
       "name                                                                     \n",
       "Lonely Sock          Mobile social games developer games, mobile, s...   \n",
       "Efficiency Exchange  Global supply chain analytics energy-managemen...   \n",
       "Gingr                Whatsapp for local businesses local-space, mob...   \n",
       "KlickEx               money-transfer, inter-bank-payments, payments...   \n",
       "PropelAd.com         Facebook Ads optimization service.  ireland, f...   \n",
       "\n",
       "                                        place  participants  funding_total_usd  \n",
       "name                                                                            \n",
       "Lonely Sock                Prague Prague  CZE             0             500000  \n",
       "Efficiency Exchange   Virginia - Other VA USA             3             600000  \n",
       "Gingr                    Gurgaon Gurgaon  IND             0              28000  \n",
       "KlickEx                    Athens Athens  GRC             1             185000  \n",
       "PropelAd.com               Dublin Dublin  IRL             2             150000  "
      ]
     },
     "execution_count": 71,
     "metadata": {},
     "output_type": "execute_result"
    }
   ],
   "source": [
    "np.random.seed(42)\n",
    "\n",
    "# splitting the dataset (using random sampling)\n",
    "from sklearn.model_selection import train_test_split\n",
    "train_set, test_set = train_test_split(funding, test_size=0.2, random_state=42)\n",
    "\n",
    "print(\"Training set size: \", len(train_set))\n",
    "print(\"Test set size: \", len(test_set),\"\\n\")\n",
    "\n",
    "print(\"Top rows from the test set\")\n",
    "test_set.head()"
   ]
  },
  {
   "cell_type": "markdown",
   "metadata": {},
   "source": [
    "__Note__: We generated our test set using _**random sampling**_. Normally we would discuss with the **_relevant stakeholders_** to understand whether a feature is really important for predicting company success (in our case for predicting the total Angel and Series A funding in usd specifically) and we would then perform _**stratified sampling**_ based on that feature to ensure that the test set is representative of the various categories of the feature in the entire dataset. That way we would reduce the potential __sampling bias__ introduced via random sampling (this method could prove problematic especially if our dataset is not large enough relative to the number of features)."
   ]
  },
  {
   "cell_type": "markdown",
   "metadata": {},
   "source": [
    "## Visualizing the data"
   ]
  },
  {
   "cell_type": "code",
   "execution_count": 72,
   "metadata": {},
   "outputs": [
    {
     "data": {
      "image/png": "[encoded data removed]",
      "text/plain": [
       "<Figure size 576x288 with 1 Axes>"
      ]
     },
     "metadata": {
      "needs_background": "light"
     },
     "output_type": "display_data"
    }
   ],
   "source": [
    "# 'funding' will be our training set from this point on\n",
    "funding = train_set.copy()\n",
    "\n",
    "# plotting the total funding (aggregated Angel and Series A funding) against the funding rounds (for up to 10 rounds)\n",
    "funding.loc[funding['funding_rounds']<=10].plot(kind='scatter',x='funding_rounds',y='funding_total_usd',alpha=0.15,figsize=(8,4))\n",
    "plt.show()"
   ]
  },
  {
   "cell_type": "markdown",
   "metadata": {},
   "source": [
    "__Comment__: The number of funding rounds for similar aggregated Angel and Series A total fundings varies considerably. A reason for that is that our data is not comprehensive (many rounds have not been disclosed)."
   ]
  },
  {
   "cell_type": "code",
   "execution_count": 73,
   "metadata": {},
   "outputs": [
    {
     "data": {
      "image/png": "[encoded data removed]",
      "text/plain": [
       "<Figure size 864x648 with 2 Axes>"
      ]
     },
     "metadata": {
      "needs_background": "light"
     },
     "output_type": "display_data"
    }
   ],
   "source": [
    "# plotting the number of total participants against the funding rounds number (for up to 10 rounds) and taking a \n",
    "# look at the related total angel and series A fundings (using the colorbar)\n",
    "funding.loc[funding['funding_rounds']<=10].plot(kind='scatter', x='funding_rounds', y='participants', alpha=0.45, \n",
    "            figsize=(12,9), c='funding_total_usd',cmap=plt.get_cmap(\"brg\"), colorbar=True, sharex=False)\n",
    "plt.show()"
   ]
  },
  {
   "cell_type": "markdown",
   "metadata": {},
   "source": [
    "__Note__: From the __total fundings scatteplot__ it seems that the total Angel and Series A funding of a company is related to the total number of participants of the company to an extent, a definite trend cannot be spotted though, as the incomplete input data has taken its toll on this chart as well. In general though it seems that the more participants a company has the better."
   ]
  },
  {
   "cell_type": "code",
   "execution_count": 74,
   "metadata": {},
   "outputs": [
    {
     "name": "stdout",
     "output_type": "stream",
     "text": [
      "Statistics of total fundings (aggregated angel and series A fundings)\n",
      "\n",
      "count    5.396000e+03\n",
      "mean     1.084400e+06\n",
      "std      2.219738e+06\n",
      "min      1.000000e+03\n",
      "25%      1.000000e+05\n",
      "50%      4.250000e+05\n",
      "75%      1.000000e+06\n",
      "max      4.028600e+07\n",
      "Name: funding_total_usd, dtype: float64 \n",
      "\n",
      "Some information about the company with the highest total (aggregated angel and series A) funding\n",
      "\n",
      "            funding_rounds  funding_total_usd  relationships  participants\n",
      "name                                                                      \n",
      "Livescribe            10.0           40286000           11.0            24\n"
     ]
    }
   ],
   "source": [
    "print(f\"Statistics of total fundings (aggregated angel and series A fundings)\\n\")\n",
    "print(funding['funding_total_usd'].describe(), \"\\n\")\n",
    "\n",
    "# the company with the highest total funding\n",
    "print(f\"Some information about the company with the highest total (aggregated angel and series A) funding\\n\")\n",
    "print(funding[['funding_rounds','funding_total_usd','relationships','participants']].loc[funding['funding_total_usd'] == funding['funding_total_usd'].max()])"
   ]
  },
  {
   "cell_type": "markdown",
   "metadata": {},
   "source": [
    "### Looking for correlations"
   ]
  },
  {
   "cell_type": "markdown",
   "metadata": {},
   "source": [
    "We will compute the **_standard correlation coefficient_** (__Pearson's r__) for every pair of numerical attributes and then examine to which extent each attribute correlates with the `total_funding_usd` (the aggregated Angel and Series A funding)."
   ]
  },
  {
   "cell_type": "code",
   "execution_count": 75,
   "metadata": {},
   "outputs": [
    {
     "data": {
      "text/html": [
       "<div>\n",
       "<style scoped>\n",
       "    .dataframe tbody tr th:only-of-type {\n",
       "        vertical-align: middle;\n",
       "    }\n",
       "\n",
       "    .dataframe tbody tr th {\n",
       "        vertical-align: top;\n",
       "    }\n",
       "\n",
       "    .dataframe thead th {\n",
       "        text-align: right;\n",
       "    }\n",
       "</style>\n",
       "<table border=\"1\" class=\"dataframe\">\n",
       "  <thead>\n",
       "    <tr style=\"text-align: right;\">\n",
       "      <th></th>\n",
       "      <th>logo_width</th>\n",
       "      <th>logo_height</th>\n",
       "      <th>funding_rounds</th>\n",
       "      <th>milestones</th>\n",
       "      <th>relationships</th>\n",
       "      <th>relationships_days</th>\n",
       "      <th>participants</th>\n",
       "      <th>funding_total_usd</th>\n",
       "    </tr>\n",
       "  </thead>\n",
       "  <tbody>\n",
       "    <tr>\n",
       "      <th>logo_width</th>\n",
       "      <td>1.000000</td>\n",
       "      <td>0.764795</td>\n",
       "      <td>0.003987</td>\n",
       "      <td>-0.033772</td>\n",
       "      <td>0.011176</td>\n",
       "      <td>0.005837</td>\n",
       "      <td>0.006034</td>\n",
       "      <td>0.000557</td>\n",
       "    </tr>\n",
       "    <tr>\n",
       "      <th>logo_height</th>\n",
       "      <td>0.764795</td>\n",
       "      <td>1.000000</td>\n",
       "      <td>-0.021485</td>\n",
       "      <td>-0.077972</td>\n",
       "      <td>-0.005192</td>\n",
       "      <td>-0.003201</td>\n",
       "      <td>-0.024091</td>\n",
       "      <td>-0.038115</td>\n",
       "    </tr>\n",
       "    <tr>\n",
       "      <th>funding_rounds</th>\n",
       "      <td>0.003987</td>\n",
       "      <td>-0.021485</td>\n",
       "      <td>1.000000</td>\n",
       "      <td>0.334789</td>\n",
       "      <td>0.133747</td>\n",
       "      <td>0.030955</td>\n",
       "      <td>0.501707</td>\n",
       "      <td>0.464419</td>\n",
       "    </tr>\n",
       "    <tr>\n",
       "      <th>milestones</th>\n",
       "      <td>-0.033772</td>\n",
       "      <td>-0.077972</td>\n",
       "      <td>0.334789</td>\n",
       "      <td>1.000000</td>\n",
       "      <td>0.159305</td>\n",
       "      <td>0.084989</td>\n",
       "      <td>0.377495</td>\n",
       "      <td>0.315842</td>\n",
       "    </tr>\n",
       "    <tr>\n",
       "      <th>relationships</th>\n",
       "      <td>0.011176</td>\n",
       "      <td>-0.005192</td>\n",
       "      <td>0.133747</td>\n",
       "      <td>0.159305</td>\n",
       "      <td>1.000000</td>\n",
       "      <td>0.966704</td>\n",
       "      <td>0.136954</td>\n",
       "      <td>0.255189</td>\n",
       "    </tr>\n",
       "    <tr>\n",
       "      <th>relationships_days</th>\n",
       "      <td>0.005837</td>\n",
       "      <td>-0.003201</td>\n",
       "      <td>0.030955</td>\n",
       "      <td>0.084989</td>\n",
       "      <td>0.966704</td>\n",
       "      <td>1.000000</td>\n",
       "      <td>0.037716</td>\n",
       "      <td>0.181807</td>\n",
       "    </tr>\n",
       "    <tr>\n",
       "      <th>participants</th>\n",
       "      <td>0.006034</td>\n",
       "      <td>-0.024091</td>\n",
       "      <td>0.501707</td>\n",
       "      <td>0.377495</td>\n",
       "      <td>0.136954</td>\n",
       "      <td>0.037716</td>\n",
       "      <td>1.000000</td>\n",
       "      <td>0.459204</td>\n",
       "    </tr>\n",
       "    <tr>\n",
       "      <th>funding_total_usd</th>\n",
       "      <td>0.000557</td>\n",
       "      <td>-0.038115</td>\n",
       "      <td>0.464419</td>\n",
       "      <td>0.315842</td>\n",
       "      <td>0.255189</td>\n",
       "      <td>0.181807</td>\n",
       "      <td>0.459204</td>\n",
       "      <td>1.000000</td>\n",
       "    </tr>\n",
       "  </tbody>\n",
       "</table>\n",
       "</div>"
      ],
      "text/plain": [
       "                    logo_width  logo_height  funding_rounds  milestones  \\\n",
       "logo_width            1.000000     0.764795        0.003987   -0.033772   \n",
       "logo_height           0.764795     1.000000       -0.021485   -0.077972   \n",
       "funding_rounds        0.003987    -0.021485        1.000000    0.334789   \n",
       "milestones           -0.033772    -0.077972        0.334789    1.000000   \n",
       "relationships         0.011176    -0.005192        0.133747    0.159305   \n",
       "relationships_days    0.005837    -0.003201        0.030955    0.084989   \n",
       "participants          0.006034    -0.024091        0.501707    0.377495   \n",
       "funding_total_usd     0.000557    -0.038115        0.464419    0.315842   \n",
       "\n",
       "                    relationships  relationships_days  participants  \\\n",
       "logo_width               0.011176            0.005837      0.006034   \n",
       "logo_height             -0.005192           -0.003201     -0.024091   \n",
       "funding_rounds           0.133747            0.030955      0.501707   \n",
       "milestones               0.159305            0.084989      0.377495   \n",
       "relationships            1.000000            0.966704      0.136954   \n",
       "relationships_days       0.966704            1.000000      0.037716   \n",
       "participants             0.136954            0.037716      1.000000   \n",
       "funding_total_usd        0.255189            0.181807      0.459204   \n",
       "\n",
       "                    funding_total_usd  \n",
       "logo_width                   0.000557  \n",
       "logo_height                 -0.038115  \n",
       "funding_rounds               0.464419  \n",
       "milestones                   0.315842  \n",
       "relationships                0.255189  \n",
       "relationships_days           0.181807  \n",
       "participants                 0.459204  \n",
       "funding_total_usd            1.000000  "
      ]
     },
     "execution_count": 75,
     "metadata": {},
     "output_type": "execute_result"
    }
   ],
   "source": [
    "corr_matrix = funding.corr()\n",
    "corr_matrix"
   ]
  },
  {
   "cell_type": "code",
   "execution_count": 76,
   "metadata": {},
   "outputs": [
    {
     "data": {
      "text/plain": [
       "funding_total_usd     1.000000\n",
       "funding_rounds        0.464419\n",
       "participants          0.459204\n",
       "milestones            0.315842\n",
       "relationships         0.255189\n",
       "relationships_days    0.181807\n",
       "logo_width            0.000557\n",
       "logo_height          -0.038115\n",
       "Name: funding_total_usd, dtype: float64"
      ]
     },
     "execution_count": 76,
     "metadata": {},
     "output_type": "execute_result"
    }
   ],
   "source": [
    "corr_matrix['funding_total_usd'].sort_values(ascending=False)"
   ]
  },
  {
   "cell_type": "markdown",
   "metadata": {},
   "source": [
    "__Note__: As we can see the strongest _positive correlation_ for the given dataset exists between the `funding_total_usd` and the `funding_rounds` and `participants` features, meaning e.g. that the __total Angel and Series A funding__ tends to go up when the __number of participants__  increases. As regards the `logo_width` and `logo_width` features, their correlation coefficients are close to zero, so there is _no linear correlation_ between them and the _total funding_. That was more or less expected and in case we - for some reason - felt like exploring further the distant possibility of the logo dimensions of a company having any actual impact on funding, we could construct the following scatterplot."
   ]
  },
  {
   "cell_type": "code",
   "execution_count": 77,
   "metadata": {},
   "outputs": [
    {
     "data": {
      "image/png": "[encoded data removed]",
      "text/plain": [
       "<Figure size 864x648 with 2 Axes>"
      ]
     },
     "metadata": {
      "needs_background": "light"
     },
     "output_type": "display_data"
    }
   ],
   "source": [
    "funding.plot(kind='scatter', x='logo_width', y='logo_height', alpha=0.5, figsize=(12,9),\n",
    "             c='funding_total_usd',cmap=plt.get_cmap(\"gist_stern\"), colorbar=True, sharex=False)\n",
    "plt.show()"
   ]
  },
  {
   "cell_type": "markdown",
   "metadata": {},
   "source": [
    "We cannot identify a pattern here. We can now remove the logo dimensions features (from every dataset)."
   ]
  },
  {
   "cell_type": "code",
   "execution_count": 78,
   "metadata": {},
   "outputs": [],
   "source": [
    "funding = funding.drop(['logo_width', 'logo_height'],axis=1)\n",
    "# removing the features from the training set we created earlier\n",
    "train_set = train_set.drop(['logo_width', 'logo_height'],axis=1)\n",
    "# removing the features from the test set we created earlier\n",
    "test_set = test_set.drop(['logo_width', 'logo_height'],axis=1)"
   ]
  },
  {
   "cell_type": "markdown",
   "metadata": {},
   "source": [
    "Let's now plot every numerical feature against every other numerical feature to **check for correlations**. We will focus on the most promising features, meaning features that seem most correlated with the total funding."
   ]
  },
  {
   "cell_type": "code",
   "execution_count": 79,
   "metadata": {},
   "outputs": [
    {
     "data": {
      "image/png": "[encoded data removed]",
      "text/plain": [
       "<Figure size 1080x792 with 16 Axes>"
      ]
     },
     "metadata": {
      "needs_background": "light"
     },
     "output_type": "display_data"
    }
   ],
   "source": [
    "from pandas.plotting import scatter_matrix\n",
    "\n",
    "features = ['funding_total_usd','funding_rounds','participants','milestones']\n",
    "scatter_matrix(funding[features], figsize=(15,11))\n",
    "plt.tight_layout()\n",
    "plt.show()"
   ]
  },
  {
   "cell_type": "markdown",
   "metadata": {},
   "source": [
    "One of the most promising features to predict a company's total Angel and Series A funding is the total number of its participants, so we will examine the correlation scatterplot of these features on its own."
   ]
  },
  {
   "cell_type": "code",
   "execution_count": 80,
   "metadata": {},
   "outputs": [
    {
     "data": {
      "image/png": "[encoded data removed]",
      "text/plain": [
       "<Figure size 432x288 with 1 Axes>"
      ]
     },
     "metadata": {
      "needs_background": "light"
     },
     "output_type": "display_data"
    }
   ],
   "source": [
    "funding.plot(kind='scatter',x='participants',y='funding_total_usd',alpha=0.15)\n",
    "plt.axis([0, 50, 0, 4.02e+7])\n",
    "plt.show()"
   ]
  },
  {
   "cell_type": "markdown",
   "metadata": {},
   "source": [
    "__Note__: As we can see from this plot there is a relatively strong correlation (there is an upward trend, especially for a number of participants less than 15, as the aggregated Angel and Series A fundings seem to be getting bigger in general and the data points are not very dispersed)."
   ]
  },
  {
   "cell_type": "markdown",
   "metadata": {},
   "source": [
    "## Preparing the data for Machine Learning algorithms"
   ]
  },
  {
   "cell_type": "code",
   "execution_count": 81,
   "metadata": {},
   "outputs": [],
   "source": [
    "# separating predictors and labels\n",
    "funding = train_set.drop(\"funding_total_usd\",axis=1)\n",
    "funding_labels = train_set[\"funding_total_usd\"].copy()"
   ]
  },
  {
   "cell_type": "markdown",
   "metadata": {},
   "source": [
    "### Data Cleaning"
   ]
  },
  {
   "cell_type": "markdown",
   "metadata": {},
   "source": [
    "As we mentioned earlier 3 of our features still have missing values. We will deal with this by setting the missing values to _zero_ for the `milestones` attribute (this could have some implications, but given the incomplete data we have we'll proceed) and to the _median_ for the `funding_rounds` and `relationships` attributes (the median needs to be computed on the training set)."
   ]
  },
  {
   "cell_type": "code",
   "execution_count": 82,
   "metadata": {},
   "outputs": [
    {
     "name": "stdout",
     "output_type": "stream",
     "text": [
      "Top 3 counts of values for 'milestones' (including NaNs)\n",
      "\n",
      "1.0    2163\n",
      "NaN    1610\n",
      "2.0    1176\n",
      "Name: milestones, dtype: int64 \n",
      "\n",
      "Setting nulls to zero\n"
     ]
    }
   ],
   "source": [
    "# top counts of values for 'milestones' (including NaNs)\n",
    "print(f\"Top 3 counts of values for 'milestones' (including NaNs)\\n\")\n",
    "print(funding[\"milestones\"].value_counts(dropna=False).head(3),\"\\n\")\n",
    "\n",
    "# setting NaNs to zero\n",
    "print(\"Setting nulls to zero\")\n",
    "funding[\"milestones\"] = funding[\"milestones\"].fillna(0)"
   ]
  },
  {
   "cell_type": "markdown",
   "metadata": {},
   "source": [
    "We will deal with the remaining missing values using sklearn's `SimpleImputer`. We first need to remove all the text attributes and then we will fit the `imputer` instance to the training data (since the median can only be computed on numerical features)."
   ]
  },
  {
   "cell_type": "code",
   "execution_count": 83,
   "metadata": {},
   "outputs": [
    {
     "data": {
      "text/plain": [
       "SimpleImputer(strategy='median')"
      ]
     },
     "execution_count": 83,
     "metadata": {},
     "output_type": "execute_result"
    }
   ],
   "source": [
    "# getting the numerical features\n",
    "funding_num = funding.select_dtypes(include=['number'])\n",
    "\n",
    "from sklearn.impute import SimpleImputer\n",
    "imputer = SimpleImputer(strategy='median')\n",
    "\n",
    "# fitting the imputer to the training data only\n",
    "imputer.fit(funding_num)"
   ]
  },
  {
   "cell_type": "code",
   "execution_count": 84,
   "metadata": {},
   "outputs": [
    {
     "name": "stdout",
     "output_type": "stream",
     "text": [
      "[1. 1. 3. 0. 1.]\n",
      "[1. 1. 3. 0. 1.]\n"
     ]
    }
   ],
   "source": [
    "# checking the calculated median values\n",
    "print(imputer.statistics_)\n",
    "\n",
    "# calculating the medians \"manually\" for comparison reasons\n",
    "print(funding_num.median().values)"
   ]
  },
  {
   "cell_type": "markdown",
   "metadata": {},
   "source": [
    "Our \"trained\" imputer will now be utilised to transform the training set (missing values will be replaced with the learned medians)."
   ]
  },
  {
   "cell_type": "code",
   "execution_count": 85,
   "metadata": {},
   "outputs": [
    {
     "data": {
      "text/html": [
       "<div>\n",
       "<style scoped>\n",
       "    .dataframe tbody tr th:only-of-type {\n",
       "        vertical-align: middle;\n",
       "    }\n",
       "\n",
       "    .dataframe tbody tr th {\n",
       "        vertical-align: top;\n",
       "    }\n",
       "\n",
       "    .dataframe thead th {\n",
       "        text-align: right;\n",
       "    }\n",
       "</style>\n",
       "<table border=\"1\" class=\"dataframe\">\n",
       "  <thead>\n",
       "    <tr style=\"text-align: right;\">\n",
       "      <th></th>\n",
       "      <th>funding_rounds</th>\n",
       "      <th>milestones</th>\n",
       "      <th>relationships</th>\n",
       "      <th>relationships_days</th>\n",
       "      <th>participants</th>\n",
       "    </tr>\n",
       "    <tr>\n",
       "      <th>name</th>\n",
       "      <th></th>\n",
       "      <th></th>\n",
       "      <th></th>\n",
       "      <th></th>\n",
       "      <th></th>\n",
       "    </tr>\n",
       "  </thead>\n",
       "  <tbody>\n",
       "    <tr>\n",
       "      <th>SteadyFare</th>\n",
       "      <td>1.0</td>\n",
       "      <td>0.0</td>\n",
       "      <td>3.0</td>\n",
       "      <td>0.0</td>\n",
       "      <td>0.0</td>\n",
       "    </tr>\n",
       "    <tr>\n",
       "      <th>Bondsy</th>\n",
       "      <td>2.0</td>\n",
       "      <td>2.0</td>\n",
       "      <td>8.0</td>\n",
       "      <td>0.0</td>\n",
       "      <td>7.0</td>\n",
       "    </tr>\n",
       "    <tr>\n",
       "      <th>Local Magnet</th>\n",
       "      <td>1.0</td>\n",
       "      <td>0.0</td>\n",
       "      <td>1.0</td>\n",
       "      <td>0.0</td>\n",
       "      <td>0.0</td>\n",
       "    </tr>\n",
       "    <tr>\n",
       "      <th>MondeCafes</th>\n",
       "      <td>2.0</td>\n",
       "      <td>1.0</td>\n",
       "      <td>2.0</td>\n",
       "      <td>0.0</td>\n",
       "      <td>0.0</td>\n",
       "    </tr>\n",
       "    <tr>\n",
       "      <th>Ark</th>\n",
       "      <td>3.0</td>\n",
       "      <td>2.0</td>\n",
       "      <td>6.0</td>\n",
       "      <td>153.0</td>\n",
       "      <td>20.0</td>\n",
       "    </tr>\n",
       "  </tbody>\n",
       "</table>\n",
       "</div>"
      ],
      "text/plain": [
       "              funding_rounds  milestones  relationships  relationships_days  \\\n",
       "name                                                                          \n",
       "SteadyFare               1.0         0.0            3.0                 0.0   \n",
       "Bondsy                   2.0         2.0            8.0                 0.0   \n",
       "Local Magnet             1.0         0.0            1.0                 0.0   \n",
       "MondeCafes               2.0         1.0            2.0                 0.0   \n",
       "Ark                      3.0         2.0            6.0               153.0   \n",
       "\n",
       "              participants  \n",
       "name                        \n",
       "SteadyFare             0.0  \n",
       "Bondsy                 7.0  \n",
       "Local Magnet           0.0  \n",
       "MondeCafes             0.0  \n",
       "Ark                   20.0  "
      ]
     },
     "execution_count": 85,
     "metadata": {},
     "output_type": "execute_result"
    }
   ],
   "source": [
    "X = imputer.transform(funding_num)\n",
    "\n",
    "funding_num_tr = pd.DataFrame(X, columns=funding_num.columns, index=funding_num.index)\n",
    "funding_num_tr.head()"
   ]
  },
  {
   "cell_type": "markdown",
   "metadata": {},
   "source": [
    "### Feature Scaling"
   ]
  },
  {
   "cell_type": "markdown",
   "metadata": {},
   "source": [
    "Our _numerical features_ have different scales, so we need to apply feature scaling. More specifically we will apply __standardization__ using sklearn's _StandardScaler_ transformer."
   ]
  },
  {
   "cell_type": "code",
   "execution_count": 86,
   "metadata": {},
   "outputs": [
    {
     "name": "stdout",
     "output_type": "stream",
     "text": [
      "Relative data scaling (in order to achieve zero mean and unit variance) per feature: \n",
      "\n",
      "[1.19853267e+00 9.72134650e-01 1.48387286e+01 8.03782128e+03\n",
      " 4.22033513e+00] \n",
      "\n",
      "Mean per feature (in the training set): \n",
      "\n",
      "[  1.67420311   1.10415122   4.25982209 429.63880652   2.44977761]\n"
     ]
    },
    {
     "data": {
      "text/html": [
       "<div>\n",
       "<style scoped>\n",
       "    .dataframe tbody tr th:only-of-type {\n",
       "        vertical-align: middle;\n",
       "    }\n",
       "\n",
       "    .dataframe tbody tr th {\n",
       "        vertical-align: top;\n",
       "    }\n",
       "\n",
       "    .dataframe thead th {\n",
       "        text-align: right;\n",
       "    }\n",
       "</style>\n",
       "<table border=\"1\" class=\"dataframe\">\n",
       "  <thead>\n",
       "    <tr style=\"text-align: right;\">\n",
       "      <th></th>\n",
       "      <th>funding_rounds</th>\n",
       "      <th>milestones</th>\n",
       "      <th>relationships</th>\n",
       "      <th>relationships_days</th>\n",
       "      <th>participants</th>\n",
       "    </tr>\n",
       "    <tr>\n",
       "      <th>name</th>\n",
       "      <th></th>\n",
       "      <th></th>\n",
       "      <th></th>\n",
       "      <th></th>\n",
       "      <th></th>\n",
       "    </tr>\n",
       "  </thead>\n",
       "  <tbody>\n",
       "    <tr>\n",
       "      <th>SteadyFare</th>\n",
       "      <td>-0.562524</td>\n",
       "      <td>-1.135801</td>\n",
       "      <td>-0.084901</td>\n",
       "      <td>-0.053452</td>\n",
       "      <td>-0.580470</td>\n",
       "    </tr>\n",
       "    <tr>\n",
       "      <th>Bondsy</th>\n",
       "      <td>0.271830</td>\n",
       "      <td>0.921527</td>\n",
       "      <td>0.252055</td>\n",
       "      <td>-0.053452</td>\n",
       "      <td>1.078166</td>\n",
       "    </tr>\n",
       "    <tr>\n",
       "      <th>Local Magnet</th>\n",
       "      <td>-0.562524</td>\n",
       "      <td>-1.135801</td>\n",
       "      <td>-0.219683</td>\n",
       "      <td>-0.053452</td>\n",
       "      <td>-0.580470</td>\n",
       "    </tr>\n",
       "    <tr>\n",
       "      <th>MondeCafes</th>\n",
       "      <td>0.271830</td>\n",
       "      <td>-0.107137</td>\n",
       "      <td>-0.152292</td>\n",
       "      <td>-0.053452</td>\n",
       "      <td>-0.580470</td>\n",
       "    </tr>\n",
       "    <tr>\n",
       "      <th>Ark</th>\n",
       "      <td>1.106183</td>\n",
       "      <td>0.921527</td>\n",
       "      <td>0.117273</td>\n",
       "      <td>-0.034417</td>\n",
       "      <td>4.158490</td>\n",
       "    </tr>\n",
       "  </tbody>\n",
       "</table>\n",
       "</div>"
      ],
      "text/plain": [
       "              funding_rounds  milestones  relationships  relationships_days  \\\n",
       "name                                                                          \n",
       "SteadyFare         -0.562524   -1.135801      -0.084901           -0.053452   \n",
       "Bondsy              0.271830    0.921527       0.252055           -0.053452   \n",
       "Local Magnet       -0.562524   -1.135801      -0.219683           -0.053452   \n",
       "MondeCafes          0.271830   -0.107137      -0.152292           -0.053452   \n",
       "Ark                 1.106183    0.921527       0.117273           -0.034417   \n",
       "\n",
       "              participants  \n",
       "name                        \n",
       "SteadyFare       -0.580470  \n",
       "Bondsy            1.078166  \n",
       "Local Magnet     -0.580470  \n",
       "MondeCafes       -0.580470  \n",
       "Ark               4.158490  "
      ]
     },
     "execution_count": 86,
     "metadata": {},
     "output_type": "execute_result"
    }
   ],
   "source": [
    "from sklearn.preprocessing import StandardScaler\n",
    "scaler = StandardScaler()\n",
    "\n",
    "# fitting the scaler to the training data only\n",
    "scaler.fit(funding_num_tr)\n",
    "X1 = scaler.transform(funding_num_tr)\n",
    "\n",
    "print(\"Relative data scaling (in order to achieve zero mean and unit variance) per feature:\",\"\\n\")\n",
    "print(scaler.scale_, \"\\n\")\n",
    "print(\"Mean per feature (in the training set):\",\"\\n\")\n",
    "print(scaler.mean_)\n",
    "\n",
    "# creating a DataFrame to take a look\n",
    "funding_num_tr = pd.DataFrame(X1, columns=funding_num_tr.columns, index=funding_num_tr.index)\n",
    "funding_num_tr.head()"
   ]
  },
  {
   "cell_type": "code",
   "execution_count": 87,
   "metadata": {},
   "outputs": [
    {
     "data": {
      "text/plain": [
       "<5396x5 sparse matrix of type '<class 'numpy.float64'>'\n",
       "\twith 26980 stored elements in Compressed Sparse Row format>"
      ]
     },
     "execution_count": 87,
     "metadata": {},
     "output_type": "execute_result"
    }
   ],
   "source": [
    "# converting the funding_num_tr DataFrame to a sparse matrix\n",
    "from scipy.sparse import csr_matrix\n",
    "funding_num_tr = csr_matrix(funding_num_tr.values)\n",
    "funding_num_tr"
   ]
  },
  {
   "cell_type": "markdown",
   "metadata": {},
   "source": [
    "Our numerical features are now preprocessed and ready (in the `funding_num_tr` sparse matrix)."
   ]
  },
  {
   "cell_type": "markdown",
   "metadata": {},
   "source": [
    "### Handling text and categorical features"
   ]
  },
  {
   "cell_type": "markdown",
   "metadata": {},
   "source": [
    "We have various text attributes in our dataset, and some of those are categorical."
   ]
  },
  {
   "cell_type": "markdown",
   "metadata": {},
   "source": [
    "**<ins>_Categorical attributes_ preprocessing</ins>**"
   ]
  },
  {
   "cell_type": "code",
   "execution_count": 88,
   "metadata": {},
   "outputs": [
    {
     "name": "stdout",
     "output_type": "stream",
     "text": [
      "Most common values for 'category_code'\n",
      "\n",
      "web            829\n",
      "software       699\n",
      "mobile         520\n",
      "ecommerce      407\n",
      "games_video    302\n",
      "Name: category_code, dtype: int64\n",
      "\n",
      "Value counts for 'status'\n",
      "\n",
      "operating    4649\n",
      "closed        440\n",
      "acquired      293\n",
      "ipo            14\n",
      "Name: status, dtype: int64\n",
      "\n",
      "Some values of the categorical features\n"
     ]
    },
    {
     "data": {
      "text/html": [
       "<div>\n",
       "<style scoped>\n",
       "    .dataframe tbody tr th:only-of-type {\n",
       "        vertical-align: middle;\n",
       "    }\n",
       "\n",
       "    .dataframe tbody tr th {\n",
       "        vertical-align: top;\n",
       "    }\n",
       "\n",
       "    .dataframe thead th {\n",
       "        text-align: right;\n",
       "    }\n",
       "</style>\n",
       "<table border=\"1\" class=\"dataframe\">\n",
       "  <thead>\n",
       "    <tr style=\"text-align: right;\">\n",
       "      <th></th>\n",
       "      <th>category_code</th>\n",
       "      <th>status</th>\n",
       "    </tr>\n",
       "    <tr>\n",
       "      <th>name</th>\n",
       "      <th></th>\n",
       "      <th></th>\n",
       "    </tr>\n",
       "  </thead>\n",
       "  <tbody>\n",
       "    <tr>\n",
       "      <th>SteadyFare</th>\n",
       "      <td>travel</td>\n",
       "      <td>closed</td>\n",
       "    </tr>\n",
       "    <tr>\n",
       "      <th>Bondsy</th>\n",
       "      <td>web</td>\n",
       "      <td>operating</td>\n",
       "    </tr>\n",
       "    <tr>\n",
       "      <th>Local Magnet</th>\n",
       "      <td>local</td>\n",
       "      <td>operating</td>\n",
       "    </tr>\n",
       "    <tr>\n",
       "      <th>MondeCafes</th>\n",
       "      <td>hospitality</td>\n",
       "      <td>operating</td>\n",
       "    </tr>\n",
       "    <tr>\n",
       "      <th>Ark</th>\n",
       "      <td>search</td>\n",
       "      <td>operating</td>\n",
       "    </tr>\n",
       "    <tr>\n",
       "      <th>MindEdge</th>\n",
       "      <td>other</td>\n",
       "      <td>operating</td>\n",
       "    </tr>\n",
       "    <tr>\n",
       "      <th>PLYmedia</th>\n",
       "      <td>advertising</td>\n",
       "      <td>operating</td>\n",
       "    </tr>\n",
       "    <tr>\n",
       "      <th>SwapBeats</th>\n",
       "      <td>software</td>\n",
       "      <td>operating</td>\n",
       "    </tr>\n",
       "    <tr>\n",
       "      <th>REMOTV</th>\n",
       "      <td>mobile</td>\n",
       "      <td>closed</td>\n",
       "    </tr>\n",
       "    <tr>\n",
       "      <th>GumGum</th>\n",
       "      <td>advertising</td>\n",
       "      <td>operating</td>\n",
       "    </tr>\n",
       "  </tbody>\n",
       "</table>\n",
       "</div>"
      ],
      "text/plain": [
       "             category_code     status\n",
       "name                                 \n",
       "SteadyFare          travel     closed\n",
       "Bondsy                 web  operating\n",
       "Local Magnet         local  operating\n",
       "MondeCafes     hospitality  operating\n",
       "Ark                 search  operating\n",
       "MindEdge             other  operating\n",
       "PLYmedia       advertising  operating\n",
       "SwapBeats         software  operating\n",
       "REMOTV              mobile     closed\n",
       "GumGum         advertising  operating"
      ]
     },
     "execution_count": 88,
     "metadata": {},
     "output_type": "execute_result"
    }
   ],
   "source": [
    "categorical_cols = ['category_code', 'status']\n",
    "\n",
    "# getting the categorical features\n",
    "funding_cat = funding[categorical_cols]\n",
    "\n",
    "print(f\"Most common values for 'category_code'\\n\\n{funding['category_code'].value_counts().head()}\\n\")\n",
    "print(f\"Value counts for 'status'\\n\\n{funding['status'].value_counts()}\\n\")\n",
    "\n",
    "print(\"Some values of the categorical features\")\n",
    "funding_cat.head(10)"
   ]
  },
  {
   "cell_type": "markdown",
   "metadata": {},
   "source": [
    "In the case of _categorical features_ we are not dealing with arbitrary text, we instead have a limited number of possible values and each of them represents a category. Most Machine Learning algorithms prefer to work with numbers, so we will convert these categories from text to numbers. Our categories are not ordered, so we will apply **_one-hot encoding_**, meaning we will create one binary attribute per category: one attribute will be equal to 1 (hot), while the others will be 0 (cold). We will use sklearn's `OneHotEncoder` class to convert categorical values into one-hot vectors."
   ]
  },
  {
   "cell_type": "code",
   "execution_count": 89,
   "metadata": {},
   "outputs": [
    {
     "data": {
      "text/plain": [
       "<5396x46 sparse matrix of type '<class 'numpy.float64'>'\n",
       "\twith 10792 stored elements in Compressed Sparse Row format>"
      ]
     },
     "execution_count": 89,
     "metadata": {},
     "output_type": "execute_result"
    }
   ],
   "source": [
    "from sklearn.preprocessing import OneHotEncoder\n",
    "cat_encoder = OneHotEncoder()\n",
    "funding_cat_1hot = cat_encoder.fit_transform(funding_cat)\n",
    "funding_cat_1hot"
   ]
  },
  {
   "cell_type": "code",
   "execution_count": 90,
   "metadata": {},
   "outputs": [
    {
     "data": {
      "text/plain": [
       "[array(['advertising', 'analytics', 'automotive', 'biotech', 'cleantech',\n",
       "        'consulting', 'design', 'ecommerce', 'education', 'enterprise',\n",
       "        'fashion', 'finance', 'games_video', 'government', 'hardware',\n",
       "        'health', 'hospitality', 'legal', 'local', 'manufacturing',\n",
       "        'medical', 'messaging', 'mobile', 'music', 'nanotech',\n",
       "        'network_hosting', 'news', 'nonprofit', 'other', 'pets',\n",
       "        'photo_video', 'public_relations', 'real_estate', 'search',\n",
       "        'security', 'semiconductor', 'social', 'software', 'sports',\n",
       "        'transportation', 'travel', 'web'], dtype=object),\n",
       " array(['acquired', 'closed', 'ipo', 'operating'], dtype=object)]"
      ]
     },
     "execution_count": 90,
     "metadata": {},
     "output_type": "execute_result"
    }
   ],
   "source": [
    "# viewing the various categories of categorical features\n",
    "cat_encoder.categories_"
   ]
  },
  {
   "cell_type": "markdown",
   "metadata": {},
   "source": [
    "**<ins>Remaining _text (non-categorical) attributes_ preprocessing</ins>**"
   ]
  },
  {
   "cell_type": "markdown",
   "metadata": {},
   "source": [
    "We will implement the __Bag-of-Words Model__, and more specifically the **TF-IDF** approach for the remaining text attributes."
   ]
  },
  {
   "cell_type": "code",
   "execution_count": 91,
   "metadata": {},
   "outputs": [
    {
     "data": {
      "text/plain": [
       "['persons_names',\n",
       " 'all_affiliations',\n",
       " 'persons_birthplaces',\n",
       " 'persons_titles',\n",
       " 'full_description',\n",
       " 'place']"
      ]
     },
     "execution_count": 91,
     "metadata": {},
     "output_type": "execute_result"
    }
   ],
   "source": [
    "# getting all the 'object' features\n",
    "object_cols = funding.select_dtypes(include=['object']).columns\n",
    "\n",
    "# getting the remaining (non-categorical) text attributes\n",
    "text_cols = [col for col in object_cols if col not in categorical_cols]\n",
    "text_cols"
   ]
  },
  {
   "cell_type": "code",
   "execution_count": 92,
   "metadata": {},
   "outputs": [
    {
     "data": {
      "text/plain": [
       "<5396x41161 sparse matrix of type '<class 'numpy.float64'>'\n",
       "\twith 165820 stored elements in COOrdinate format>"
      ]
     },
     "execution_count": 92,
     "metadata": {},
     "output_type": "execute_result"
    }
   ],
   "source": [
    "# IMPLEMENTING THE TF-IDF APPROACH\n",
    "encoded_vectors = []\n",
    "\n",
    "from sklearn.feature_extraction.text import TfidfVectorizer\n",
    "\n",
    "for col in text_cols:\n",
    "    text = funding[col].tolist()\n",
    "    vectorizer = TfidfVectorizer()\n",
    "    # tokenizing and building the vocabulary\n",
    "    vectorizer.fit(text)\n",
    "    # encoding the text\n",
    "    vector = vectorizer.transform(text)\n",
    "    encoded_vectors.append(vector)\n",
    "    \n",
    "# concatenating the sparse matrices we got after applying tf-idf\n",
    "from scipy.sparse import hstack\n",
    "funding_text_tfidf = hstack((encoded_vectors))\n",
    "\n",
    "# concatenating all sparse matrices (for numerical, categorical, and other text fearures)\n",
    "funding_prep = hstack((funding_num_tr, funding_cat_1hot, funding_text_tfidf))\n",
    "funding_prep"
   ]
  },
  {
   "cell_type": "markdown",
   "metadata": {},
   "source": [
    "### Transformation pipelines"
   ]
  },
  {
   "cell_type": "markdown",
   "metadata": {},
   "source": [
    "At this point we will use sklearn's `Pipeline` class to implement all the previous transformations more easily, quickly and in a centralised way. We will first build a **pipeline for preprocessing our numerical features**."
   ]
  },
  {
   "cell_type": "code",
   "execution_count": 93,
   "metadata": {},
   "outputs": [
    {
     "data": {
      "text/plain": [
       "array([[-0.56252377, -1.13580071, -0.08490095, -0.05345215, -0.58046992],\n",
       "       [ 0.27182979,  0.92152746,  0.25205515, -0.05345215,  1.07816613],\n",
       "       [-0.56252377, -1.13580071, -0.21968338, -0.05345215, -0.58046992],\n",
       "       ...,\n",
       "       [-0.56252377, -0.10713662,  0.11727271, -0.05345215,  0.1303741 ],\n",
       "       [-0.56252377, -1.13580071, -0.08490095, -0.05345215, -0.58046992],\n",
       "       [ 1.94053692,  0.92152746,  1.53248829,  0.25496476, -0.34352192]])"
      ]
     },
     "execution_count": 93,
     "metadata": {},
     "output_type": "execute_result"
    }
   ],
   "source": [
    "from sklearn.pipeline import Pipeline\n",
    "\n",
    "num_pipeline = Pipeline([\n",
    "    (\"imputer\", SimpleImputer(strategy=\"median\")),\n",
    "    (\"standard_scaler\", StandardScaler())\n",
    "])\n",
    "\n",
    "funding_tr_num = num_pipeline.fit_transform(funding_num)\n",
    "\n",
    "funding_tr_num"
   ]
  },
  {
   "cell_type": "markdown",
   "metadata": {},
   "source": [
    "We can actually use a single transformer able to handle all columns, numerical and text ones (categorical or not), in order to apply the appropriate transformations to each column without having to handle numerical and text features separately."
   ]
  },
  {
   "cell_type": "code",
   "execution_count": 94,
   "metadata": {},
   "outputs": [
    {
     "data": {
      "text/plain": [
       "<5396x41161 sparse matrix of type '<class 'numpy.float64'>'\n",
       "\twith 165820 stored elements in Compressed Sparse Row format>"
      ]
     },
     "execution_count": 94,
     "metadata": {},
     "output_type": "execute_result"
    }
   ],
   "source": [
    "from sklearn.compose import ColumnTransformer\n",
    "\n",
    "num_features = list(funding_num)\n",
    "cat_features = categorical_cols\n",
    "text_rest_features = text_cols\n",
    "\n",
    "full_pipeline = ColumnTransformer([\n",
    "    (\"num\", num_pipeline, num_features),\n",
    "    (\"cat\", OneHotEncoder(), cat_features),\n",
    "    (\"tfidf1\", TfidfVectorizer(), text_rest_features[0]),\n",
    "    (\"tfidf2\", TfidfVectorizer(), text_rest_features[1]),\n",
    "    (\"tfidf3\", TfidfVectorizer(), text_rest_features[2]),\n",
    "    (\"tfidf4\", TfidfVectorizer(), text_rest_features[3]),\n",
    "    (\"tfidf5\", TfidfVectorizer(), text_rest_features[4]),\n",
    "    (\"tfidf6\", TfidfVectorizer(), text_rest_features[5])\n",
    "])\n",
    "\n",
    "funding_prepared = full_pipeline.fit_transform(funding)\n",
    "funding_prepared"
   ]
  },
  {
   "cell_type": "markdown",
   "metadata": {},
   "source": [
    "## Selecting and training a model"
   ]
  },
  {
   "cell_type": "markdown",
   "metadata": {},
   "source": [
    "We are now ready to select and train a Machine Learning model."
   ]
  },
  {
   "cell_type": "markdown",
   "metadata": {},
   "source": [
    "### Training and evaluating on the training set"
   ]
  },
  {
   "cell_type": "markdown",
   "metadata": {},
   "source": [
    "We will first train a __Linear Regression__ model and try it out on some instances from the training set."
   ]
  },
  {
   "cell_type": "code",
   "execution_count": 95,
   "metadata": {},
   "outputs": [
    {
     "name": "stdout",
     "output_type": "stream",
     "text": [
      "Predictions: [  24993.  754469.   25000.  135673. 5249996.]\n",
      "Labels: [25000, 754466, 25000, 135668, 5250000]\n"
     ]
    }
   ],
   "source": [
    "from sklearn.linear_model import LinearRegression\n",
    "\n",
    "# training the model\n",
    "lin_reg = LinearRegression()\n",
    "lin_reg.fit(funding_prepared, funding_labels)\n",
    "\n",
    "some_data = funding.iloc[:5]\n",
    "some_labels = funding_labels.iloc[:5]\n",
    "some_data_prepared = full_pipeline.transform(some_data)\n",
    "\n",
    "print(f\"Predictions: {np.round_(lin_reg.predict(some_data_prepared))}\")\n",
    "print(f\"Labels: {list(some_labels)}\") # actual values"
   ]
  },
  {
   "cell_type": "markdown",
   "metadata": {},
   "source": [
    "We can see that most of our predictions are way too accurate.\n",
    "\n",
    "Now let's measure this regression model's RMSE on the entire training set."
   ]
  },
  {
   "cell_type": "code",
   "execution_count": 96,
   "metadata": {},
   "outputs": [
    {
     "name": "stdout",
     "output_type": "stream",
     "text": [
      "RMSE: 11.58207771230716\n",
      "MAE:6.994217336382006\n"
     ]
    }
   ],
   "source": [
    "from sklearn.metrics import mean_squared_error\n",
    "\n",
    "funding_predictions_lr = lin_reg.predict(funding_prepared)\n",
    "\n",
    "# using the root mean squared error as the performance measure\n",
    "lin_reg_mse = mean_squared_error(funding_labels, funding_predictions_lr)\n",
    "lin_reg_rmse = np.sqrt(lin_reg_mse)\n",
    "\n",
    "# using the mean absolute error as the performance measure\n",
    "from sklearn.metrics import mean_absolute_error\n",
    "\n",
    "lin_reg_mae = mean_absolute_error(funding_labels, funding_predictions_lr)\n",
    "print(f\"RMSE: {lin_reg_rmse}\\nMAE:{lin_reg_mae}\")"
   ]
  },
  {
   "cell_type": "markdown",
   "metadata": {},
   "source": [
    "__Note__: The _Mean Absolute Error_ is probably a better performance measure choice for our case as it is less sensitive to outliers (and we do have outliers in our data)."
   ]
  },
  {
   "cell_type": "code",
   "execution_count": 97,
   "metadata": {},
   "outputs": [
    {
     "name": "stdout",
     "output_type": "stream",
     "text": [
      "Our target feature (Aggregated Angel and Series A fundings): funding_total_usd\n"
     ]
    },
    {
     "data": {
      "text/plain": [
       "count    5.396000e+03\n",
       "mean     1.084400e+06\n",
       "std      2.219738e+06\n",
       "min      1.000000e+03\n",
       "25%      1.000000e+05\n",
       "50%      4.250000e+05\n",
       "75%      1.000000e+06\n",
       "max      4.028600e+07\n",
       "Name: funding_total_usd, dtype: float64"
      ]
     },
     "execution_count": 97,
     "metadata": {},
     "output_type": "execute_result"
    }
   ],
   "source": [
    "print(f\"Our target feature (Aggregated Angel and Series A fundings): {funding_labels.name}\")\n",
    "# descriptive statistics of our target feature\n",
    "funding_labels.describe()"
   ]
  },
  {
   "cell_type": "markdown",
   "metadata": {},
   "source": [
    "__Note__: As we can see the median of the aggregated angel and series A fundings (the 2nd quartile) \\\\$425,000, so a typical prediction error of almost \\\\$11,6 (RMSE) or \\\\$7 when using the MAE denotes *overfitting of the training data*."
   ]
  },
  {
   "cell_type": "markdown",
   "metadata": {},
   "source": [
    "We will now try a __Decision Tree Regression__ model."
   ]
  },
  {
   "cell_type": "code",
   "execution_count": 98,
   "metadata": {},
   "outputs": [
    {
     "name": "stdout",
     "output_type": "stream",
     "text": [
      "RMSE:  0.0 \n",
      "\n",
      "MAE 0.0\n"
     ]
    }
   ],
   "source": [
    "from sklearn.tree import DecisionTreeRegressor\n",
    "\n",
    "# training the model\n",
    "tree_reg = DecisionTreeRegressor(random_state=42)\n",
    "tree_reg.fit(funding_prepared, funding_labels)\n",
    "\n",
    "# evaluating on the training set\n",
    "funding_predictions_tr = tree_reg.predict(funding_prepared)\n",
    "\n",
    "tree_reg_rmse = mean_squared_error(funding_labels, funding_predictions_tr, squared=False)\n",
    "print(\"RMSE: \", tree_reg_rmse, \"\\n\")\n",
    "\n",
    "tree_reg_mae = mean_absolute_error(funding_labels, funding_predictions_tr)\n",
    "print(\"MAE\", tree_reg_mae)"
   ]
  },
  {
   "cell_type": "markdown",
   "metadata": {},
   "source": [
    "__Note__: The DecisionTreeRegressor is a model more powerful than linear regression capable of identifying complex nonlinear relationships in a dataset. When using this model we get a _mean squared error_ and a _mean absolute error_ of 0 (meaning there is no error at all), so this model seems to be overfitting the training dataset to a great extent. We will confirm that this is the case using cross-validation by utilising a part of the training set for training and a part for model validation (we should not touch the test set for for evaluation purposes)."
   ]
  },
  {
   "cell_type": "markdown",
   "metadata": {},
   "source": [
    "### Cross-validation"
   ]
  },
  {
   "cell_type": "markdown",
   "metadata": {},
   "source": [
    "We will utilise sklearn's _K-fold cross-validation_ feature to evaluate the **Decision Tree Regression model**."
   ]
  },
  {
   "cell_type": "code",
   "execution_count": 99,
   "metadata": {},
   "outputs": [],
   "source": [
    "from sklearn.model_selection import cross_val_score\n",
    "\n",
    "scores = cross_val_score(tree_reg, funding_prepared, funding_labels,\n",
    "                                 scoring=\"neg_mean_absolute_error\", cv=5)\n",
    "tree_scores_mae = -scores"
   ]
  },
  {
   "cell_type": "markdown",
   "metadata": {},
   "source": [
    "**Note**: Sklearn's cross-validation features don't expect a cost function, but a utility function, so the scoring function provides the opposite of the MAE; this explains the negative sign in the last line of code in the previous cell."
   ]
  },
  {
   "cell_type": "code",
   "execution_count": 100,
   "metadata": {},
   "outputs": [],
   "source": [
    "def display_scores(scores):\n",
    "    print(f\"Scores: {scores}\")\n",
    "    print(f\"Mean: {scores.mean()}\")\n",
    "    print(f\"Standard Deviation: {scores.std()}\")"
   ]
  },
  {
   "cell_type": "code",
   "execution_count": 101,
   "metadata": {},
   "outputs": [
    {
     "name": "stdout",
     "output_type": "stream",
     "text": [
      "Scores: [ 933359.81203704 1032784.15384615 1021578.59684893 1064932.\n",
      "  891127.50046339]\n",
      "Mean: 988756.4126391032\n",
      "Standard Deviation: 65450.20356386113\n"
     ]
    }
   ],
   "source": [
    "display_scores(tree_scores_mae)"
   ]
  },
  {
   "cell_type": "markdown",
   "metadata": {},
   "source": [
    "The scores mean provides an estimate of model performance and the standard deviation of the scores is a measure of how precise this estimate is. So, after all, the Decision Tree actually seems to be performing pretty bad (with an error of almost \\\\$990,000) and is overfitting the training set. For comparison reasons we will also calculate the same scores for the Linear Regression model."
   ]
  },
  {
   "cell_type": "code",
   "execution_count": 102,
   "metadata": {},
   "outputs": [
    {
     "name": "stdout",
     "output_type": "stream",
     "text": [
      "Scores: [1006668.49619639 1111467.64136087 1021466.70827843 1080413.4037909\n",
      "  971409.29568027]\n",
      "Mean: 1038285.1090613721\n",
      "Standard Deviation: 50764.7899235624\n"
     ]
    }
   ],
   "source": [
    "# cross-validation for the linear regression model\n",
    "scores = cross_val_score(lin_reg, funding_prepared, funding_labels,\n",
    "                        scoring='neg_mean_absolute_error', cv=5)\n",
    "lin_scores_mae = -scores\n",
    "\n",
    "display_scores(lin_scores_mae)"
   ]
  },
  {
   "cell_type": "markdown",
   "metadata": {},
   "source": [
    "The linear regression model's error is even higher, so it performs worse than the Decision Tree model. Our data seems fairly ripe for overfitting so we will add __L1 and L2 regularisation__ to the linear regression model."
   ]
  },
  {
   "cell_type": "code",
   "execution_count": 103,
   "metadata": {},
   "outputs": [
    {
     "name": "stdout",
     "output_type": "stream",
     "text": [
      "Best alpha:  2.0\n",
      "MAE 10742.010682137972\n",
      "Scores: [ 918313.9333099  1082477.39923379  999896.23789654 1010700.95709098\n",
      "  884883.30445494]\n",
      "Mean: 979254.3663972296\n",
      "Standard Deviation: 70270.33961810262\n"
     ]
    }
   ],
   "source": [
    "# adding L1 regularisation\n",
    "from sklearn.linear_model import Lasso\n",
    "from statistics import mean\n",
    "\n",
    "alphas_scores_lasso = []\n",
    "\n",
    "for alpha_val in np.arange(0.4,2.1,0.4):\n",
    "    lasso_reg = Lasso(alpha=alpha_val, tol=0.09, random_state=42)\n",
    "    lasso_reg.fit(funding_prepared, funding_labels)\n",
    "    scores = cross_val_score(lasso_reg, funding_prepared, funding_labels, \n",
    "                                scoring='neg_mean_absolute_error', cv=5)\n",
    "    scores = -scores\n",
    "    avg_scores_lasso_mae = mean(scores)*100\n",
    "    alphas_scores_lasso.append([avg_scores_lasso_mae,alpha_val, scores])\n",
    "\n",
    "# choosing the optimal alpha\n",
    "min_scores = alphas_scores_lasso[0][0]\n",
    "best_cv_scores = alphas_scores_lasso[0][2]\n",
    "for i in range(1,len(alphas_scores_lasso)):\n",
    "    if alphas_scores_lasso[i][0] < min_scores:\n",
    "        best_alpha_lasso = alphas_scores_lasso[i][1]\n",
    "        best_cv_scores = alphas_scores_lasso[i][2]\n",
    "\n",
    "print(\"Best alpha: \", best_alpha_lasso)\n",
    "\n",
    "# training the final lasso regression model\n",
    "lasso_reg = Lasso(alpha=best_alpha_lasso, tol=0.09, random_state=42)\n",
    "lasso_reg.fit(funding_prepared, funding_labels)\n",
    "\n",
    "funding_predictions_lasso = lasso_reg.predict(funding_prepared)\n",
    "\n",
    "# evaluating on the training set\n",
    "lasso_reg_mae = mean_absolute_error(funding_labels, funding_predictions_lasso)\n",
    "print(\"MAE\", lasso_reg_mae)\n",
    "\n",
    "# cross-validation\n",
    "display_scores(best_cv_scores)"
   ]
  },
  {
   "cell_type": "code",
   "execution_count": 104,
   "metadata": {},
   "outputs": [
    {
     "name": "stdout",
     "output_type": "stream",
     "text": [
      "Best alpha:  2.0\n",
      "MAE 391560.1421385844\n",
      "Scores: [ 927731.15119339 1031731.21594709  962559.48961421 1015686.43040347\n",
      "  873542.36576498]\n",
      "Mean: 962250.1305846276\n",
      "Standard Deviation: 57868.44138560362\n"
     ]
    }
   ],
   "source": [
    "# adding L2 regularisation\n",
    "from sklearn.linear_model import Ridge\n",
    "\n",
    "alphas_scores_ridge = []\n",
    "\n",
    "for alpha_val in np.arange(0.4,2.1,0.4):\n",
    "    ridge_reg = Ridge(alpha=alpha_val, random_state=42)\n",
    "    ridge_reg.fit(funding_prepared, funding_labels)\n",
    "    scores = cross_val_score(ridge_reg, funding_prepared, funding_labels, \n",
    "                                scoring='neg_mean_absolute_error', cv=5)\n",
    "    scores = -scores\n",
    "    avg_scores_ridge_mae = mean(scores)*100\n",
    "    alphas_scores_ridge.append([avg_scores_ridge_mae,alpha_val, scores])\n",
    "\n",
    "# choosing the optimal alpha\n",
    "min_scores = alphas_scores_ridge[0][0]\n",
    "best_cv_scores = alphas_scores_ridge[0][2]\n",
    "for i in range(1,len(alphas_scores_ridge)):\n",
    "    if alphas_scores_ridge[i][0] < min_scores:\n",
    "        best_alpha_ridge = alphas_scores_ridge[i][1]\n",
    "        best_cv_scores = alphas_scores_ridge[i][2]\n",
    "\n",
    "print(\"Best alpha: \", best_alpha_ridge)\n",
    "\n",
    "# training the final ridge regression model\n",
    "ridge_reg = Ridge(alpha=best_alpha_ridge, random_state=42)\n",
    "ridge_reg.fit(funding_prepared, funding_labels)\n",
    "\n",
    "funding_predictions_ridge = ridge_reg.predict(funding_prepared)\n",
    "\n",
    "# evaluating on the training set\n",
    "ridge_reg_mae = mean_absolute_error(funding_labels, funding_predictions_ridge)\n",
    "print(\"MAE\", ridge_reg_mae)\n",
    "\n",
    "# cross-validation\n",
    "display_scores(best_cv_scores)"
   ]
  },
  {
   "cell_type": "markdown",
   "metadata": {},
   "source": [
    "The L1 and L2 regularisation techniques improved the MAE a bit (Ridge Regression provided a slightly better result)."
   ]
  },
  {
   "cell_type": "markdown",
   "metadata": {},
   "source": [
    "We will now try a __Random Forest Regression__ model."
   ]
  },
  {
   "cell_type": "code",
   "execution_count": 105,
   "metadata": {},
   "outputs": [
    {
     "name": "stdout",
     "output_type": "stream",
     "text": [
      "MAE (training set): 290256.2873498888\n",
      "\n",
      "Scores: [736589.2485463  838385.65589435 811928.20569972 833142.94601483\n",
      " 668728.01916589]\n",
      "Mean: 777754.8150642175\n",
      "Standard Deviation: 65564.0307304139\n"
     ]
    }
   ],
   "source": [
    "from sklearn.ensemble import RandomForestRegressor\n",
    "\n",
    "# training the model\n",
    "forest_reg = RandomForestRegressor(n_estimators=100, random_state=42)\n",
    "forest_reg.fit(funding_prepared, funding_labels)\n",
    "\n",
    "# evaluating on the training set\n",
    "funding_predictions_rf = forest_reg.predict(funding_prepared)\n",
    "forest_reg_mae = mean_absolute_error(funding_labels, funding_predictions_rf)\n",
    "print(f\"MAE (training set): {forest_reg_mae}\\n\")\n",
    "\n",
    "# cross-validation\n",
    "scores = cross_val_score(forest_reg, funding_prepared, funding_labels,\n",
    "                        scoring='neg_mean_absolute_error', cv=5)\n",
    "forest_scores_mae = -scores\n",
    "\n",
    "display_scores(forest_scores_mae)"
   ]
  },
  {
   "cell_type": "code",
   "execution_count": 106,
   "metadata": {},
   "outputs": [
    {
     "data": {
      "text/plain": [
       "count         5.000000\n",
       "mean     777754.815064\n",
       "std       73302.814796\n",
       "min      668728.019166\n",
       "25%      736589.248546\n",
       "50%      811928.205700\n",
       "75%      833142.946015\n",
       "max      838385.655894\n",
       "dtype: float64"
      ]
     },
     "execution_count": 106,
     "metadata": {},
     "output_type": "execute_result"
    }
   ],
   "source": [
    "# descriptive statistics for the Random Forest's cross-validation score\n",
    "pd.Series(forest_scores_mae).describe()"
   ]
  },
  {
   "cell_type": "markdown",
   "metadata": {},
   "source": [
    "__Note__: The Random Forest seems like the best solution so far. However, its score on the training set (approx. \\\\$290,256) is lower than on the validation sets (approx. \\\\$777,755), so this model is still overfitting the training set."
   ]
  },
  {
   "cell_type": "markdown",
   "metadata": {},
   "source": [
    "We will try out a __Support Vector Machine__ model as well."
   ]
  },
  {
   "cell_type": "code",
   "execution_count": 107,
   "metadata": {},
   "outputs": [
    {
     "name": "stdout",
     "output_type": "stream",
     "text": [
      "MAE (training set) 936969.7313185635 \n",
      "\n",
      "Scores: [ 889485.22043765 1027670.49761732  938694.76598765  964022.55629045\n",
      "  867167.07765158]\n",
      "Mean: 937408.0235969285\n",
      "Standard Deviation: 56723.34408812242\n"
     ]
    }
   ],
   "source": [
    "from sklearn.svm import SVR\n",
    "\n",
    "# training the model\n",
    "svm_reg = SVR(kernel='linear')\n",
    "svm_reg.fit(funding_prepared, funding_labels)\n",
    "\n",
    "# evaluating on the training set\n",
    "funding_predictions_svm = svm_reg.predict(funding_prepared)\n",
    "svm_reg_mae = mean_absolute_error(funding_labels, funding_predictions_svm)\n",
    "print(\"MAE (training set)\", svm_reg_mae, \"\\n\")\n",
    "\n",
    "# cross-validation\n",
    "scores = cross_val_score(svm_reg, funding_prepared, funding_labels,\n",
    "                        scoring='neg_mean_absolute_error', cv=5)\n",
    "svm_reg_scores_mae = -scores\n",
    "\n",
    "display_scores(svm_reg_scores_mae)"
   ]
  },
  {
   "cell_type": "markdown",
   "metadata": {},
   "source": [
    "The SVM model is not a great performer as well, even when evaluating the model on the training set."
   ]
  },
  {
   "cell_type": "markdown",
   "metadata": {},
   "source": [
    "### Fine-tuning our models"
   ]
  },
  {
   "cell_type": "markdown",
   "metadata": {},
   "source": [
    "We will search for the best combination of hyperparameters for the Random Forest Regression model with Scikit-Learn's `GridSearchCV`. We will try 21 combinations of RandomForestRegressor hyperparameter values with five-fold cross-validation, and that means we will have 105 rounds of training."
   ]
  },
  {
   "cell_type": "code",
   "execution_count": 108,
   "metadata": {},
   "outputs": [
    {
     "data": {
      "text/plain": [
       "GridSearchCV(cv=5, estimator=RandomForestRegressor(random_state=42),\n",
       "             param_grid=[{'max_features': [2, 4, 6, 8],\n",
       "                          'n_estimators': [10, 30, 100]},\n",
       "                         {'bootstrap': [False], 'max_features': [2, 3, 4],\n",
       "                          'n_estimators': [10, 30, 100]}],\n",
       "             return_train_score=True, scoring='neg_mean_absolute_error')"
      ]
     },
     "execution_count": 108,
     "metadata": {},
     "output_type": "execute_result"
    }
   ],
   "source": [
    "from sklearn.model_selection import GridSearchCV\n",
    "\n",
    "param_grid = [\n",
    "    # 1st stage: evaluation of 12 combinations of hyperparameter values\n",
    "    {\"n_estimators\": [10,30,100], \"max_features\": [2,4,6,8]},\n",
    "    # 2nd stage: evaluation 9 combinations of hyperparameters, with the 'bootstrap' hyperparameter set to False\n",
    "    {\"bootstrap\": [False], \"n_estimators\": [10,30,100], \"max_features\": [2,3,4]}\n",
    "]\n",
    "\n",
    "forest_reg_cv = RandomForestRegressor(random_state=42)\n",
    "\n",
    "# training\n",
    "grid_search = GridSearchCV(forest_reg_cv, param_grid, scoring=\"neg_mean_absolute_error\",\n",
    "                          cv=5, return_train_score=True)\n",
    "grid_search.fit(funding_prepared, funding_labels)"
   ]
  },
  {
   "cell_type": "code",
   "execution_count": 109,
   "metadata": {},
   "outputs": [
    {
     "name": "stdout",
     "output_type": "stream",
     "text": [
      "Best combination of parameters found:  {'bootstrap': False, 'max_features': 4, 'n_estimators': 100} \n",
      "\n",
      "Best estimator found:  RandomForestRegressor(bootstrap=False, max_features=4, random_state=42)\n"
     ]
    }
   ],
   "source": [
    "print(\"Best combination of parameters found: \", grid_search.best_params_, \"\\n\")\n",
    "print(\"Best estimator found: \", grid_search.best_estimator_)"
   ]
  },
  {
   "cell_type": "markdown",
   "metadata": {},
   "source": [
    "Let's now check the __evaluation scores__ (scores of all hyperparameter combinations tested during the grid search)."
   ]
  },
  {
   "cell_type": "code",
   "execution_count": 110,
   "metadata": {},
   "outputs": [
    {
     "name": "stdout",
     "output_type": "stream",
     "text": [
      "976395.213785175 {'max_features': 2, 'n_estimators': 10}\n",
      "921423.0066388918 {'max_features': 2, 'n_estimators': 30}\n",
      "901940.8471499175 {'max_features': 2, 'n_estimators': 100}\n",
      "993775.8518684311 {'max_features': 4, 'n_estimators': 10}\n",
      "928018.8961299444 {'max_features': 4, 'n_estimators': 30}\n",
      "896468.0387418198 {'max_features': 4, 'n_estimators': 100}\n",
      "973863.3678425669 {'max_features': 6, 'n_estimators': 10}\n",
      "925047.2308345691 {'max_features': 6, 'n_estimators': 30}\n",
      "902106.6058927557 {'max_features': 6, 'n_estimators': 100}\n",
      "965571.534078811 {'max_features': 8, 'n_estimators': 10}\n",
      "916746.1359100733 {'max_features': 8, 'n_estimators': 30}\n",
      "896942.5348268116 {'max_features': 8, 'n_estimators': 100}\n",
      "962405.7260173515 {'bootstrap': False, 'max_features': 2, 'n_estimators': 10}\n",
      "921783.0606236283 {'bootstrap': False, 'max_features': 2, 'n_estimators': 30}\n",
      "905750.1726371795 {'bootstrap': False, 'max_features': 2, 'n_estimators': 100}\n",
      "948097.6168731678 {'bootstrap': False, 'max_features': 3, 'n_estimators': 10}\n",
      "921014.4305607073 {'bootstrap': False, 'max_features': 3, 'n_estimators': 30}\n",
      "897325.4542665457 {'bootstrap': False, 'max_features': 3, 'n_estimators': 100}\n",
      "976941.5965042047 {'bootstrap': False, 'max_features': 4, 'n_estimators': 10}\n",
      "916254.9086848532 {'bootstrap': False, 'max_features': 4, 'n_estimators': 30}\n",
      "889361.4977142861 {'bootstrap': False, 'max_features': 4, 'n_estimators': 100}\n"
     ]
    }
   ],
   "source": [
    "cvres = grid_search.cv_results_\n",
    "for mean_score, params in zip(cvres[\"mean_test_score\"], cvres[\"params\"]):\n",
    "    print(-mean_score, params)"
   ]
  },
  {
   "cell_type": "markdown",
   "metadata": {},
   "source": [
    "__Note__: The best solution is obtained by setting the `max_features` and `n_estimators` hyperparameters to 4 and 100 respectively with the `bootstrap` hyperparameter set to False. The resulting MAE score when using this combination is approx. \\\\$889,361 and it is not as good as the score we achieved using the Random Forest with 100 estimators and default hyperparameter values."
   ]
  },
  {
   "cell_type": "markdown",
   "metadata": {},
   "source": [
    "### Analysing the best models"
   ]
  },
  {
   "cell_type": "markdown",
   "metadata": {},
   "source": [
    "We will now inspect our best models to gain deeper insight into our project. For instance, the `RandomForestRegressor` can provide each feature's relative importance for making accurate predictions. We can also view the fitted transformers and the values of categorical attributes."
   ]
  },
  {
   "cell_type": "code",
   "execution_count": 111,
   "metadata": {},
   "outputs": [
    {
     "name": "stdout",
     "output_type": "stream",
     "text": [
      "Feature importances:  [1.11871194e-01 3.79883667e-03 4.43477316e-02 ... 3.87844458e-08\n",
      " 8.95725123e-08 1.79426170e-07] \n",
      "\n",
      "Fitted transformers\n",
      "\n",
      "[('num', Pipeline(steps=[('imputer', SimpleImputer(strategy='median')),\n",
      "                ('standard_scaler', StandardScaler())]), ['funding_rounds', 'milestones', 'relationships', 'relationships_days', 'participants']), ('cat', OneHotEncoder(), ['category_code', 'status']), ('tfidf1', TfidfVectorizer(), 'persons_names'), ('tfidf2', TfidfVectorizer(), 'all_affiliations'), ('tfidf3', TfidfVectorizer(), 'persons_birthplaces'), ('tfidf4', TfidfVectorizer(), 'persons_titles'), ('tfidf5', TfidfVectorizer(), 'full_description'), ('tfidf6', TfidfVectorizer(), 'place')] \n",
      "\n",
      "Values of categorical features\n",
      "\n",
      "[array(['advertising', 'analytics', 'automotive', 'biotech', 'cleantech',\n",
      "       'consulting', 'design', 'ecommerce', 'education', 'enterprise',\n",
      "       'fashion', 'finance', 'games_video', 'government', 'hardware',\n",
      "       'health', 'hospitality', 'legal', 'local', 'manufacturing',\n",
      "       'medical', 'messaging', 'mobile', 'music', 'nanotech',\n",
      "       'network_hosting', 'news', 'nonprofit', 'other', 'pets',\n",
      "       'photo_video', 'public_relations', 'real_estate', 'search',\n",
      "       'security', 'semiconductor', 'social', 'software', 'sports',\n",
      "       'transportation', 'travel', 'web'], dtype=object), array(['acquired', 'closed', 'ipo', 'operating'], dtype=object)] \n",
      "\n",
      "Importance scores for features and the specific values of the 'status' feature\n"
     ]
    },
    {
     "data": {
      "text/plain": [
       "[(0.14021887574857722, 'participants'),\n",
       " (0.1118711940543896, 'funding_rounds'),\n",
       " (0.044347731646971235, 'relationships'),\n",
       " (0.008258778964532672, 'relationships_days'),\n",
       " (0.0037988366682991863, 'milestones'),\n",
       " (0.0009221009772429535, 'operating'),\n",
       " (0.0004885882777409507, 'place'),\n",
       " (0.0003337735631594667, 'all_affiliations'),\n",
       " (0.00031835623158927114, 'closed'),\n",
       " (0.0002625339914266908, 'status'),\n",
       " (0.0002559579029292212, 'category_code'),\n",
       " (0.0001912569980381114, 'persons_birthplaces'),\n",
       " (0.0001862537006563335, 'ipo'),\n",
       " (0.00018414398273939212, 'persons_names'),\n",
       " (7.143345648007498e-05, 'persons_titles'),\n",
       " (6.878065970474118e-05, 'acquired'),\n",
       " (1.2999882015477101e-05, 'full_description')]"
      ]
     },
     "execution_count": 111,
     "metadata": {},
     "output_type": "execute_result"
    }
   ],
   "source": [
    "# selecting the best model we built\n",
    "feature_importances = forest_reg.feature_importances_\n",
    "print(\"Feature importances: \", feature_importances, \"\\n\")\n",
    "\n",
    "# fitted transformers\n",
    "print(f\"Fitted transformers\\n\")\n",
    "print(full_pipeline.transformers_, \"\\n\")\n",
    "\n",
    "# values of categorical features\n",
    "print(f\"Values of categorical features\\n\")\n",
    "print(full_pipeline.named_transformers_[\"cat\"].categories_, \"\\n\")\n",
    "\n",
    "# displaying the importance scores next to their corresponding feature names\n",
    "print(f\"Importance scores for features and the specific values of the 'status' feature\")\n",
    "cat_1hot_some = list(full_pipeline.named_transformers_[\"cat\"].categories_[1])\n",
    "attributes = num_features + cat_features + text_rest_features + cat_1hot_some\n",
    "sorted(zip(feature_importances, attributes), reverse=True)"
   ]
  },
  {
   "cell_type": "markdown",
   "metadata": {},
   "source": [
    "### Evaluating on the test set"
   ]
  },
  {
   "cell_type": "markdown",
   "metadata": {},
   "source": [
    "We will now evaluate our best model (not the one we got from grid search) on the test set."
   ]
  },
  {
   "cell_type": "code",
   "execution_count": 112,
   "metadata": {},
   "outputs": [
    {
     "name": "stdout",
     "output_type": "stream",
     "text": [
      "Test MAE (Random Forest): 830682.7062962963\n"
     ]
    }
   ],
   "source": [
    "final_model = forest_reg\n",
    "\n",
    "# getting predictors and labels from our test set\n",
    "X_test = test_set.drop('funding_total_usd',axis=1)\n",
    "y_test = test_set['funding_total_usd'].copy()\n",
    "\n",
    "# transforming the data (with transform(), not fit_transform() as we don't want to fit the test set)\n",
    "X_test_prepared = full_pipeline.transform(X_test)\n",
    "\n",
    "# evaluating on the test set\n",
    "final_predictions = final_model.predict(X_test_prepared)\n",
    "final_model_mae = mean_absolute_error(y_test, final_predictions)\n",
    "print(f\"Test MAE (Random Forest): {final_model_mae}\")"
   ]
  },
  {
   "cell_type": "markdown",
   "metadata": {},
   "source": [
    "__Note__: We will now get an idea of how precise the estimate of the generalization error is by calculating the **95% confidence interval for the generalization error** (the test MAE)."
   ]
  },
  {
   "cell_type": "code",
   "execution_count": 113,
   "metadata": {},
   "outputs": [
    {
     "name": "stdout",
     "output_type": "stream",
     "text": [
      "95% confidence interval for the test MAE (Random Forest):  (738361.5306784505, 923003.8819141422)\n"
     ]
    }
   ],
   "source": [
    "from scipy import stats\n",
    "\n",
    "confidence = 0.95\n",
    "absolute_errors = np.abs(final_predictions - y_test)\n",
    "conf_interval_mae = stats.t.interval(confidence, len(absolute_errors) - 1,\n",
    "                                    loc=absolute_errors.mean(),\n",
    "                                    scale=stats.sem(absolute_errors))\n",
    "print(\"95% confidence interval for the test MAE (Random Forest): \", conf_interval_mae)"
   ]
  },
  {
   "cell_type": "markdown",
   "metadata": {},
   "source": [
    "And now let's see how many startups will raise a Series A based on our predictions (using the \\\\$1.75M threshold based on the 99th percentile of the Angel fundings feature and using the \\\\$1M threshold based on the 15th percentile of the Series A fundings)."
   ]
  },
  {
   "cell_type": "code",
   "execution_count": 114,
   "metadata": {},
   "outputs": [
    {
     "name": "stdout",
     "output_type": "stream",
     "text": [
      "Series A predictions for a $1.75M threshold ('True' means a Series A was raised)\n",
      "\n",
      "False    1161\n",
      "True      189\n",
      "dtype: int64 \n",
      "\n",
      "Respective percentages\n",
      "\n",
      "False    0.86\n",
      "True     0.14\n",
      "dtype: float64 \n",
      "\n",
      "Series A predictions for a $1M threshold ('True' means a Series A was raised)\n",
      "\n",
      "False    1013\n",
      "True      337\n",
      "dtype: int64 \n",
      "\n",
      "Respective percentages\n",
      "\n",
      "False    0.75037\n",
      "True     0.24963\n",
      "dtype: float64 \n",
      "\n",
      "Actual predicted Series A fundings\n",
      "\n"
     ]
    },
    {
     "data": {
      "text/plain": [
       "0       1.248463e+05\n",
       "1       8.743894e+05\n",
       "2       1.446050e+05\n",
       "3       2.342650e+06\n",
       "4       4.121667e+05\n",
       "            ...     \n",
       "1345    5.721943e+05\n",
       "1346    4.122541e+05\n",
       "1347    5.486544e+04\n",
       "1348    1.834694e+06\n",
       "1349    2.491129e+05\n",
       "Length: 1350, dtype: float64"
      ]
     },
     "execution_count": 114,
     "metadata": {},
     "output_type": "execute_result"
    }
   ],
   "source": [
    "# predictions below/above a Series A threshold of $1.75M\n",
    "print(f\"Series A predictions for a $1.75M threshold ('True' means a Series A was raised)\\n\")\n",
    "print((pd.Series(final_predictions) >= 1750000).value_counts(), \"\\n\")\n",
    "\n",
    "# respective percentages\n",
    "print(f\"Respective percentages\\n\")\n",
    "print((pd.Series(final_predictions) >= 1750000).value_counts(normalize=True), \"\\n\")\n",
    "\n",
    "# predictions below/above a Series A threshold of $1M\n",
    "print(f\"Series A predictions for a $1M threshold ('True' means a Series A was raised)\\n\")\n",
    "print((pd.Series(final_predictions) >= 1000000).value_counts(), \"\\n\")\n",
    "\n",
    "# respective percentages\n",
    "print(f\"Respective percentages\\n\")\n",
    "print((pd.Series(final_predictions) >= 1000000).value_counts(normalize=True), \"\\n\")\n",
    "\n",
    "# our Series A fundings predictions (using the Series A approximate percentage we calculated earlier)\n",
    "print(f\"Actual predicted Series A fundings\\n\")\n",
    "pd.Series(final_predictions * seriesa_pct_mean)"
   ]
  },
  {
   "cell_type": "markdown",
   "metadata": {},
   "source": [
    "<ins>__Final comments__</ins>\n",
    "\n",
    "Based on our predictions, not many companies will manage to raise a Series A funding (just 14% of the startups). This is not really accurate, as in reality (and according to this crunchbase article: https://news.crunchbase.com/news/what-does-it-take-to-raise-your-next-round-in-2018/#:~:text=Less%20than%20half%20of%20seed,to%20raise%20their%20Series%20A.) that percentage is around 42% (to be fair that information refers to year 2018, but the predictions are still a bit off). If we lower the Series A threshold to \\\\$1M (to account for many low Series A fundings that we discovered in the data via a quick approximation) that percentage increases to approx. 25\\%, which is closer to the real number (a \\\\$1M lower Series A threshold though is too low even for the 2013 standards for a Series A). These results were more or less expected due to the incomplete input data utilsied for this project and can mainly be attributed to the many undisclosed funding rounds of startups. In the future, and as my ML knowledge is enhanced, I might come back and apply more advanced models as well. The data issue will remain though, but in any case this project was a great learning experience!"
   ]
  },
  {
   "cell_type": "markdown",
   "metadata": {},
   "source": [
    "**Note**: The approach presented here can be used for predicting whether a company will raise later stage rounds too (Series B etc) with some minor tweaks."
   ]
  }
 ],
 "metadata": {
  "kernelspec": {
   "display_name": "Python 3",
   "language": "python",
   "name": "python3"
  },
  "language_info": {
   "codemirror_mode": {
    "name": "ipython",
    "version": 3
   },
   "file_extension": ".py",
   "mimetype": "text/x-python",
   "name": "python",
   "nbconvert_exporter": "python",
   "pygments_lexer": "ipython3",
   "version": "3.8.5"
  }
 },
 "nbformat": 4,
 "nbformat_minor": 4
}
